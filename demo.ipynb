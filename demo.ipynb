{
 "cells": [
  {
   "cell_type": "code",
   "execution_count": 1,
   "metadata": {
    "collapsed": true
   },
   "outputs": [],
   "source": [
    "using LaTeXStrings\n",
    "using Base.Test"
   ]
  },
  {
   "cell_type": "code",
   "execution_count": null,
   "metadata": {
    "collapsed": true
   },
   "outputs": [],
   "source": []
  },
  {
   "cell_type": "code",
   "execution_count": 2,
   "metadata": {
    "collapsed": false
   },
   "outputs": [
    {
     "data": {
      "text/plain": [
       "9-element Array{Symbol,1}:\n",
       " :+ \n",
       " :- \n",
       " :< \n",
       " :> \n",
       " :∈ \n",
       " :≈ \n",
       " :(<=)\n",
       " :(>=)\n",
       " :in "
      ]
     },
     "execution_count": 2,
     "metadata": {},
     "output_type": "execute_result"
    }
   ],
   "source": [
    "abstract MathExpressionFragment\n",
    "\n",
    "immutable MathSequence <:MathExpressionFragment\n",
    " fragments::Vector{MathExpressionFragment}\n",
    "end\n",
    "\n",
    "\n",
    "typealias MathSymbolInner Union{Base.BitInteger.types..., Float16, Float32, Float64, Symbol} \n",
    "immutable MathSymbol{T<:MathSymbolInner} <: MathExpressionFragment\n",
    " sym::T\n",
    "end\n",
    "\n",
    "immutable Frac <: MathExpressionFragment\n",
    " numer::MathExpressionFragment\n",
    " denom::MathExpressionFragment\n",
    "end\n",
    "\n",
    "immutable Superscript <: MathExpressionFragment\n",
    " base::MathExpressionFragment\n",
    " expo::MathExpressionFragment\n",
    "end\n",
    "\n",
    "immutable FunctionCall <: MathExpressionFragment\n",
    " fname::Symbol\n",
    " #args::Vector{MathExpressionFragment}\n",
    " arg::MathSequence\n",
    "end\n",
    "\n",
    "immutable MathMatrix <: MathExpressionFragment\n",
    " mat::Matrix{MathExpressionFragment}\n",
    "end\n",
    "\n",
    "\n",
    "#########\n",
    "const binops_renames =Dict( :(<=) => \"\\\\le\",\n",
    " :(>=) => \"\\\\ge\",\n",
    " :in => \"\\\\in\")\n",
    "const binops = [Symbol.(split(\"+ - < > ∈ ≈\"))..., keys(binops_renames)...]\n"
   ]
  },
  {
   "cell_type": "code",
   "execution_count": 3,
   "metadata": {
    "collapsed": false
   },
   "outputs": [
    {
     "data": {
      "text/plain": [
       "to_math (generic function with 7 methods)"
      ]
     },
     "execution_count": 3,
     "metadata": {},
     "output_type": "execute_result"
    }
   ],
   "source": [
    "val_or_expr(x::Expr) = x\n",
    "val_or_expr(x) = Val{x}()\n",
    "\n",
    "\n",
    "function MathSequence(v_vs, binop)\n",
    " dlm = to_math(binop)\n",
    " vs = to_math.(collect(v_vs))\n",
    " \n",
    " frags = Vector{MathExpressionFragment}()\n",
    " sizehint!(frags, 2*length(vs)-1)\n",
    " for v in vs[1:end-1]\n",
    " push!(frags,v)\n",
    " push!(frags,dlm)\n",
    " end\n",
    " push!(frags, vs[end])\n",
    " MathSequence(frags)\n",
    "end\n",
    "\n",
    "\n",
    "to_math(sym::MathSymbolInner) = MathSymbol(sym)\n",
    "to_math{sym}(::Val{sym})= MathSymbol(sym)\n",
    "\n",
    "\n",
    "function to_math(::Val{:call},v_binop::Union{(Val{binop} for binop in binops)...}, vs...)\n",
    " #Binary Operators: the julia paster rolls `1+2+3` into (+,(1,2,3))\n",
    " MathSequence(vs, v_binop)\n",
    "end\n",
    "\n",
    "function to_math(::Val{:call},::Val{:^}, v_base, v_expo)\n",
    " Superscript(to_math(v_base), to_math(v_expo))\n",
    "end\n",
    "\n",
    "function to_math(::Val{:call},::Val{:/}, v_base, v_expo)\n",
    " Frac(to_math(v_base), to_math(v_expo))\n",
    "end\n",
    "\n",
    "function to_math{func}(::Val{:call},v_func::Val{func}, v_args...)\n",
    " FunctionCall(func, MathSequence(v_args, Symbol(\", \")))\n",
    "end\n",
    "\n",
    "\n",
    "function to_math(ast::Expr)\n",
    " to_math(Val{ast.head}(), val_or_expr.(ast.args)... )\n",
    "end"
   ]
  },
  {
   "cell_type": "code",
   "execution_count": 4,
   "metadata": {
    "collapsed": false
   },
   "outputs": [
    {
     "data": {
      "text/plain": [
       "to_math (generic function with 10 methods)"
      ]
     },
     "execution_count": 4,
     "metadata": {},
     "output_type": "execute_result"
    }
   ],
   "source": [
    "to_math(::Val{:vect},vs...) = to_math_vector(vs)\n",
    "function to_math_vector(col)\n",
    " math_col = MathExpressionFragment[to_math(c) for c in col] \n",
    " MathMatrix(math_col[:,:]) #A vector is a column matrix\n",
    "end\n",
    "\n",
    "to_math(::Val{:hcat},row...) = to_math_matrix(row)\n",
    "function to_math_matrix(rows...)\n",
    " math_rows = (MathExpressionFragment[to_math(r) for r in row.args]' for row in rows)\n",
    " MathMatrix(vcat(math_rows...))\n",
    "end\n",
    "\n",
    "\n",
    "function to_math(::Val{:vcat},vs...)\n",
    " if typeof(vs[1])<:Expr && vs[1].head == :row\n",
    " to_math_matrix(vs...)\n",
    " else\n",
    " to_math_vector(vs)\n",
    " end\n",
    "end\n",
    "\n",
    "\n"
   ]
  },
  {
   "cell_type": "code",
   "execution_count": 5,
   "metadata": {
    "collapsed": false
   },
   "outputs": [
    {
     "data": {
      "text/plain": [
       "to_latex (generic function with 8 methods)"
      ]
     },
     "execution_count": 5,
     "metadata": {},
     "output_type": "execute_result"
    }
   ],
   "source": [
    "\"\"\"Note: Does not (currently) escape all of latex.\"\"\"\n",
    "function escape_latex(s::AbstractString)\n",
    " replace(s,\"_\",\"\\_\")\n",
    "end\n",
    "\n",
    "latex_brace(x::AbstractString) = \"{\" * x * \"}\"\n",
    "\n",
    "to_latex(s::MathSymbolInner) = to_latex(\"$s\") #Must define first so will be over writtern\n",
    "#TODO: Special case Floats, to handle e\n",
    "to_latex(s::AbstractString) = escape_latex(s)\n",
    "\n",
    "\n",
    "to_latex(x::MathSymbol) = to_latex(x.sym)\n",
    "\n",
    "function to_latex(x::Superscript)\n",
    " to_latex(x.base) * \"^\" * latex_brace(to_latex(x.expo))\n",
    "end\n",
    "\n",
    "function to_latex(x::Frac)\n",
    " \"\\\\frac\" * latex_brace(to_latex(x.numer)) * latex_brace(to_latex(x.denom))\n",
    "end\n",
    "\n",
    "function to_latex(x::FunctionCall)\n",
    " name = x.fname |> string |> escape_latex\n",
    " if length(name) > 1\n",
    " name = \"\\\\mathrm\"*latex_brace(name) #Multicharacter names are typeset upright\n",
    " end\n",
    " name*to_latex(x.arg)\n",
    "end\n",
    "\n",
    "function to_latex(x::MathMatrix) \n",
    " desc = \"c\"^size(x.mat,1)\n",
    " rows = mapslices(y->join(y,\" & \"), to_latex.(x.mat),2) |> vec\n",
    " latexmat = join(rows, \"\\\\\\\\\")\n",
    "\n",
    " \"\"\"\\\\left[\\\\begin{array}{$desc}\n",
    " $latexmat\n",
    " \\\\end{array}\\\\right]\"\"\"\n",
    "end\n",
    "\n",
    "to_latex(x::MathSequence) = \"(\" * join(to_latex.(x.fragments),\" \") * \")\""
   ]
  },
  {
   "cell_type": "code",
   "execution_count": 6,
   "metadata": {
    "collapsed": false
   },
   "outputs": [
    {
     "name": "stdout",
     "output_type": "stream",
     "text": [
      "Expr\n",
      " head: Symbol .\n",
      " args: Array{Any}((2,))\n",
      " 1: Symbol x\n",
      " 2: QuoteNode\n",
      " value: Symbol y\n",
      " typ: Any\n",
      "dump($(Expr(:quote, :(x.y)))) = nothing\n",
      "\n",
      "Expr\n",
      " head: Symbol .\n",
      " args: Array{Any}((2,))\n",
      " 1: Symbol log\n",
      " 2: Expr\n",
      " head: Symbol tuple\n",
      " args: Array{Any}((1,))\n",
      " 1: Expr\n",
      " head: Symbol vect\n",
      " args: Array{Any}((2,))\n",
      " 1: Int64 2\n",
      " 2: Int64 3\n",
      " typ: Any\n",
      " typ: Any\n",
      " typ: Any\n",
      "dump($(Expr(:quote, :(log.([2,3]))))) = nothing\n"
     ]
    }
   ],
   "source": [
    "#TODO handle `.`\n",
    "@show dump(:(x.y))\n",
    "println()\n",
    "@show dump(:(log.([2,3])))"
   ]
  },
  {
   "cell_type": "code",
   "execution_count": 7,
   "metadata": {
    "collapsed": false
   },
   "outputs": [
    {
     "name": "stdout",
     "output_type": "stream",
     "text": [
      "Test Summary: | Pass Total\n",
      " julia2latex | 13 13\n"
     ]
    },
    {
     "data": {
      "text/plain": [
       "Base.Test.DefaultTestSet(\"julia2latex\",Any[Test Passed\n",
       " Expression: to_latex(to_math($(QuoteNode(2)))) == \"2\"\n",
       " Evaluated: \"2\" == \"2\",Test Passed\n",
       " Expression: to_latex(to_math($(Expr(:quote, :(20 ^ 30))))) == \"20^{30}\"\n",
       " Evaluated: \"20^{30}\" == \"20^{30}\",Test Passed\n",
       " Expression: to_latex(to_math($(Expr(:quote, :(1 + 1))))) == \"(1 + 1)\"\n",
       " Evaluated: \"(1 + 1)\" == \"(1 + 1)\",Test Passed\n",
       " Expression: to_latex(to_math($(Expr(:quote, :(2 ^ (1 + 1)))))) == \"2^{(1 + 1)}\"\n",
       " Evaluated: \"2^{(1 + 1)}\" == \"2^{(1 + 1)}\",Test Passed\n",
       " Expression: to_latex(to_math($(Expr(:quote, :(1 + (2 + 3)))))) == \"(1 + (2 + 3))\"\n",
       " Evaluated: \"(1 + (2 + 3))\" == \"(1 + (2 + 3))\",Test Passed\n",
       " Expression: to_latex(to_math($(Expr(:quote, :(1 / 2))))) == \"\\\\frac{1}{2}\"\n",
       " Evaluated: \"\\\\frac{1}{2}\" == \"\\\\frac{1}{2}\",Test Passed\n",
       " Expression: to_latex(to_math($(Expr(:quote, :(1 / (2 + 3)))))) == \"\\\\frac{1}{(2 + 3)}\"\n",
       " Evaluated: \"\\\\frac{1}{(2 + 3)}\" == \"\\\\frac{1}{(2 + 3)}\",Test Passed\n",
       " Expression: to_latex(to_math($(Expr(:quote, :(f(x)))))) == \"f(x)\"\n",
       " Evaluated: \"f(x)\" == \"f(x)\",Test Passed\n",
       " Expression: to_latex(to_math($(Expr(:quote, :(f(x,y)))))) == \"f(x , y)\"\n",
       " Evaluated: \"f(x , y)\" == \"f(x , y)\",Test Passed\n",
       " Expression: to_latex(to_math($(Expr(:quote, :(sin(x)))))) == \"\\\\mathrm{sin}(x)\"\n",
       " Evaluated: \"\\\\mathrm{sin}(x)\" == \"\\\\mathrm{sin}(x)\",Test Passed\n",
       " Expression: to_latex(to_math($(Expr(:quote, :([1,2,3]))))) == 
\"\\\\left[\\\\begin{array}{ccc}\\n1\\\\\\\\2\\\\\\\\3\\n\\\\end{array}\\\\right]\"\n",
       " Evaluated: \"\\\\left[\\\\begin{array}{ccc}\\n1\\\\\\\\2\\\\\\\\3\\n\\\\end{array}\\\\right]\" == 
\"\\\\left[\\\\begin{array}{ccc}\\n1\\\\\\\\2\\\\\\\\3\\n\\\\end{array}\\\\right]\",Test Passed\n",
       " Expression: to_latex(to_math($(Expr(:quote, :([1;2;3]))))) == 
\"\\\\left[\\\\begin{array}{ccc}\\n1\\\\\\\\2\\\\\\\\3\\n\\\\end{array}\\\\right]\"\n",
       " Evaluated: \"\\\\left[\\\\begin{array}{ccc}\\n1\\\\\\\\2\\\\\\\\3\\n\\\\end{array}\\\\right]\" == 
\"\\\\left[\\\\begin{array}{ccc}\\n1\\\\\\\\2\\\\\\\\3\\n\\\\end{array}\\\\right]\",Test Passed\n",
       " Expression: to_latex(to_math($(Expr(:quote, :([1 10 100;2 20 200]))))) == 
\"\\\\left[\\\\begin{array}{cc}\\n1 & 10 & 100\\\\\\\\2 & 20 & 200\\n\\\\end{array}\\\\right]\"\n",
       " Evaluated: \"\\\\left[\\\\begin{array}{cc}\\n1 & 10 & 100\\\\\\\\2 & 20 & 
200\\n\\\\end{array}\\\\right]\" == \"\\\\left[\\\\begin{array}{cc}\\n1 & 10 & 100\\\\\\\\2 & 20 & 
200\\n\\\\end{array}\\\\right]\"],false)"
      ]
     },
     "execution_count": 7,
     "metadata": {},
     "output_type": "execute_result"
    }
   ],
   "source": [
    "@testset \"julia2latex\"begin\n",
    " @test to_latex(to_math(:(2))) == \"2\"\n",
    " @test to_latex(to_math(:(20^30))) == \"20^{30}\"\n",
    " @test to_latex(to_math(:(1+1))) == \"(1 + 1)\"\n",
    " @test to_latex(to_math(:(2^(1+1)))) == \"2^{(1 + 1)}\"\n",
    " @test to_latex(to_math(:(1+(2+3)))) == \"(1 + (2 + 3))\"\n",
    " @test to_latex(to_math(:(1/2))) == \"\\\\frac{1}{2}\"\n",
    " @test to_latex(to_math(:(1/(2+3)))) == \"\\\\frac{1}{(2 + 3)}\"\n",
    " @test to_latex(to_math(:(f(x)))) == \"f(x)\"\n",
    " @test to_latex(to_math(:(f(x,y)))) == \"f(x , y)\" #Not sure on the spacing here\n",
    " @test to_latex(to_math(:(sin(x)))) == \"\\\\mathrm{sin}(x)\"\n",
    " \n",
    " @test to_latex(to_math(:([1,2,3]))) == 
\"\\\\left[\\\\begin{array}{ccc}\\n1\\\\\\\\2\\\\\\\\3\\n\\\\end{array}\\\\right]\"\n",
    " @test to_latex(to_math(:([1;2;3]))) == 
\"\\\\left[\\\\begin{array}{ccc}\\n1\\\\\\\\2\\\\\\\\3\\n\\\\end{array}\\\\right]\"\n",
    " @test to_latex(to_math(:([1 10 100;2 20 200]))) == \"\\\\left[\\\\begin{array}{cc}\\n1 & 10 & 100\\\\\\\\2 & 
20 & 200\\n\\\\end{array}\\\\right]\"\n",
    " #@test to_latex(to_math(:())) == \"\"\n",
    "end"
   ]
  },
  {
   "cell_type": "code",
   "execution_count": null,
   "metadata": {
    "collapsed": true
   },
   "outputs": [],
   "source": []
  },
  {
   "cell_type": "code",
   "execution_count": 8,
   "metadata": {
    "collapsed": false
   },
   "outputs": [
    {
     "data": {
      "text/plain": [
       "render (generic function with 1 method)"
      ]
     },
     "execution_count": 8,
     "metadata": {},
     "output_type": "execute_result"
    }
   ],
   "source": [
    "render(ast) = ast |> to_math |> to_latex |> latexstring |> display"
   ]
  },
  {
   "cell_type": "code",
   "execution_count": 9,
   "metadata": {
    "collapsed": false
   },
   "outputs": [
    {
     "data": {
      "text/latex": [
       "$(2^{x} + 2)$"
      ],
      "text/plain": [
       "L\"$(2^{x} + 2)$\""
      ]
     },
     "metadata": {},
     "output_type": "display_data"
    },
    {
     "data": {
      "text/latex": [
       "$2^{(x + 2)}$"
      ],
      "text/plain": [
       "L\"$2^{(x + 2)}$\""
      ]
     },
     "metadata": {},
     "output_type": "display_data"
    },
    {
     "data": {
      "text/latex": [
       "$2^{\\frac{x}{(x + 2)}}$"
      ],
      "text/plain": [
       "L\"$2^{\\frac{x}{(x + 2)}}$\""
      ]
     },
     "metadata": {},
     "output_type": "display_data"
    },
    {
     "data": {
      "text/latex": [
       "$\\mathrm{log}(x)$"
      ],
      "text/plain": [
       "L\"$\\mathrm{log}(x)$\""
      ]
     },
     "metadata": {},
     "output_type": "display_data"
    },
    {
     "data": {
      "text/latex": [
       "$2$"
      ],
      "text/plain": [
       "L\"$2$\""
      ]
     },
     "metadata": {},
     "output_type": "display_data"
    },
    {
     "data": {
      "text/latex": [
       "$20^{30}$"
      ],
      "text/plain": [
       "L\"$20^{30}$\""
      ]
     },
     "metadata": {},
     "output_type": "display_data"
    },
    {
     "data": {
      "text/latex": [
       "$(1 + 1)$"
      ],
      "text/plain": [
       "L\"$(1 + 1)$\""
      ]
     },
     "metadata": {},
     "output_type": "display_data"
    },
    {
     "data": {
      "text/latex": [
       "$2^{(1 + 1)}$"
      ],
      "text/plain": [
       "L\"$2^{(1 + 1)}$\""
      ]
     },
     "metadata": {},
     "output_type": "display_data"
    },
    {
     "data": {
      "text/latex": [
       "$(1 + (2 + 3))$"
      ],
      "text/plain": [
       "L\"$(1 + (2 + 3))$\""
      ]
     },
     "metadata": {},
     "output_type": "display_data"
    },
    {
     "data": {
      "text/latex": [
       "$\\frac{1}{2}$"
      ],
      "text/plain": [
       "L\"$\\frac{1}{2}$\""
      ]
     },
     "metadata": {},
     "output_type": "display_data"
    },
    {
     "data": {
      "text/latex": [
       "$\\frac{1}{(2 + 3)}$"
      ],
      "text/plain": [
       "L\"$\\frac{1}{(2 + 3)}$\""
      ]
     },
     "metadata": {},
     "output_type": "display_data"
    },
    {
     "data": {
      "text/latex": [
       "$f(x)$"
      ],
      "text/plain": [
       "L\"$f(x)$\""
      ]
     },
     "metadata": {},
     "output_type": "display_data"
    },
    {
     "data": {
      "text/latex": [
       "$f(x , y)$"
      ],
      "text/plain": [
       "L\"$f(x , y)$\""
      ]
     },
     "metadata": {},
     "output_type": "display_data"
    },
    {
     "data": {
      "text/latex": [
       "$\\mathrm{sin}(x)$"
      ],
      "text/plain": [
       "L\"$\\mathrm{sin}(x)$\""
      ]
     },
     "metadata": {},
     "output_type": "display_data"
    },
    {
     "data": {
      "text/latex": [
       "$\\left[\\begin{array}{ccc}\n",
       "1\\\\2\\\\3\n",
       "\\end{array}\\right]$"
      ],
      "text/plain": [
       "L\"$\\left[\\begin{array}{ccc}\n",
       "1\\\\2\\\\3\n",
       "\\end{array}\\right]$\""
      ]
     },
     "metadata": {},
     "output_type": "display_data"
    },
    {
     "data": {
      "text/latex": [
       "$\\mathrm{log}(\\left[\\begin{array}{ccc}\n",
       "1\\\\2\\\\\\frac{(2 + e^{x})}{3}\n",
       "\\end{array}\\right])$"
      ],
      "text/plain": [
       "L\"$\\mathrm{log}(\\left[\\begin{array}{ccc}\n",
       "1\\\\2\\\\\\frac{(2 + e^{x})}{3}\n",
       "\\end{array}\\right])$\""
      ]
     },
     "metadata": {},
     "output_type": "display_data"
    },
    {
     "data": {
      "text/latex": [
       "$\\frac{\\left[\\begin{array}{ccc}\n",
       "1 & 2 & 3\\\\4 & 3 & 2\\\\π & pi & gamma\n",
       "\\end{array}\\right]}{2}$"
      ],
      "text/plain": [
       "L\"$\\frac{\\left[\\begin{array}{ccc}\n",
       "1 & 2 & 3\\\\4 & 3 & 2\\\\π & pi & gamma\n",
       "\\end{array}\\right]}{2}$\""
      ]
     },
     "metadata": {},
     "output_type": "display_data"
    }
   ],
   "source": [
    "render(:(2^x+2)) \n",
    "render(:(2^(x+2))) \n",
    "render(:(2^(x/(x+2)))) \n",
    "render(:(log(x)))\n",
    "render(:(2))\n",
    "render(:(20^30))\n",
    "render(:(1+1))\n",
    "render(:(2^(1+1)))\n",
    "render(:(1+(2+3)))\n",
    "render(:(1/2))\n",
    "render(:(1/(2+3)))\n",
    "render(:(f(x)))\n",
    "render(:(f(x,y)))\n",
    "render(:(sin(x)))\n",
    "render(:([1,2,3]))\n",
    "render(:(log([1; 2; (2+e^x)/3])))\n",
    "render(:([1 2 3; 4 3 2; π pi gamma]/2))\n"
   ]
  },
  {
   "cell_type": "code",
   "execution_count": null,
   "metadata": {
    "collapsed": false
   },
   "outputs": [],
   "source": []
  },
  {
   "cell_type": "code",
   "execution_count": null,
   "metadata": {
    "collapsed": true
   },
   "outputs": [],
   "source": []
  }
 ],
 "metadata": {
  "kernelspec": {
   "display_name": "Julia 0.5.0-rc0",
   "language": "julia",
   "name": "julia-0.5"
  },
  "language_info": {
   "file_extension": ".jl",
   "mimetype": "application/julia",
   "name": "julia",
   "version": "0.5.0"
  }
 },
 "nbformat": 4,
 "nbformat_minor": 0
}
