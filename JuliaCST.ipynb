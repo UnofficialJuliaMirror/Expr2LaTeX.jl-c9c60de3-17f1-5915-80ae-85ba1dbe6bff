{
 "cells": [
  {
   "cell_type": "code",
   "execution_count": 58,
   "metadata": {
    "collapsed": false
   },
   "outputs": [],
   "source": [
    "using TypedDelegation   \n",
    "using StaticArrays\n",
    "using Base.Test"
   ]
  },
  {
   "cell_type": "code",
   "execution_count": 2,
   "metadata": {
    "collapsed": false
   },
   "outputs": [],
   "source": [
    "using Tokenize\n",
    "import Tokenize: Tokens\n",
    "import Tokens: Token, startpos, endpos, untokenize, kind, exactkind\n",
    "\n"
   ]
  },
  {
   "cell_type": "code",
   "execution_count": 3,
   "metadata": {
    "collapsed": false
   },
   "outputs": [],
   "source": [
    "src = \"\"\"\n",
    "a=1\n",
    "a+3\n",
    "c=a+4; b=4\n",
    "\n",
    "#A comment\n",
    "\n",
    "function f(x)\n",
    "    (1+2)/3\n",
    "end\n",
    "\n",
    "#= a \n",
    "multiline\n",
    "comment\n",
    "=#\n",
    "\n",
    "println(\"abc ; efg\")\n",
    "\n",
    "\\\"\"\"\n",
    "a multiline\n",
    "string\n",
    "\\\"\"\"\n",
    "\n",
    "a+=2\n",
    "\n",
    "map(1:5) do x\n",
    "    a=2*x\n",
    "    3*a\n",
    "end\n",
    "\n",
    "begin \n",
    "    c=1\n",
    "end\n",
    "\n",
    "if c\n",
    "    d=3\n",
    "end\n",
    "\n",
    "\"\"\"\n",
    "tokens = tokenize(src) |> collect;\n"
   ]
  },
  {
   "cell_type": "code",
   "execution_count": 4,
   "metadata": {
    "collapsed": false
   },
   "outputs": [
    {
     "data": {
      "text/plain": [
       "kind (generic function with 2 methods)"
      ]
     },
     "execution_count": 4,
     "metadata": {},
     "output_type": "execute_result"
    }
   ],
   "source": [
    "immutable AnnotatedToken\n",
    "    tok::Token\n",
    "    notes::Dict{Symbol, Any}\n",
    "end\n",
    "\n",
    "AnnotatedToken(vv::Token) = AnnotatedToken(vv, Dict{Symbol, Any}())\n",
    "@delegate_oneField(AnnotatedToken, tok, [exactkind, startpos, endpos, untokenize, kind])"
   ]
  },
  {
   "cell_type": "code",
   "execution_count": 5,
   "metadata": {
    "collapsed": false
   },
   "outputs": [
    {
     "name": "stdout",
     "output_type": "stream",
     "text": [
      "search:\n",
      "\n"
     ]
    },
    {
     "data": {
      "text/markdown": [
       "No documentation found.\n",
       "\n",
       "`Tokenize.Tokens.exactkind` is a `Function`.\n",
       "\n",
       "```\n",
       "# 2 methods for generic function \"exactkind\":\n",
       "exactkind(t::Tokenize.Tokens.Token) at /home/ubuntu/.julia/v0.5/Tokenize/src/token.jl:69\n",
       "exactkind(a::AnnotatedToken, args...) at /home/ubuntu/.julia/v0.5/TypedDelegation/src/TypedDelegation.jl:69\n",
       "```\n"
      ],
      "text/plain": [
       "No documentation found.\n",
       "\n",
       "`Tokenize.Tokens.exactkind` is a `Function`.\n",
       "\n",
       "```\n",
       "# 2 methods for generic function \"exactkind\":\n",
       "exactkind(t::Tokenize.Tokens.Token) at /home/ubuntu/.julia/v0.5/Tokenize/src/token.jl:69\n",
       "exactkind(a::AnnotatedToken, args...) at /home/ubuntu/.julia/v0.5/TypedDelegation/src/TypedDelegation.jl:69\n",
       "```\n"
      ]
     },
     "execution_count": 5,
     "metadata": {},
     "output_type": "execute_result"
    }
   ],
   "source": [
    "?exactkind"
   ]
  },
  {
   "cell_type": "code",
   "execution_count": 6,
   "metadata": {
    "collapsed": false
   },
   "outputs": [],
   "source": [
    "\n",
    "function Base.show(io::IO, atok::AnnotatedToken)\n",
    "  start_r, start_c = startpos(atok)\n",
    "  end_r, end_c = endpos(atok)\n",
    "  str = kind(atok) == Tokens.ENDMARKER ? \"\" : untokenize(atok)\n",
    "    print(io, start_r, \",\", start_c, \"-\",\n",
    "            end_r,   \",\", end_c,   \":\",\n",
    "    \"   \", exactkind(atok), \" (\",lowercase(string(kind(atok))),\")\",\"\\t\")\n",
    "    show(io, str)\n",
    "end"
   ]
  },
  {
   "cell_type": "code",
   "execution_count": null,
   "metadata": {
    "collapsed": true
   },
   "outputs": [],
   "source": []
  },
  {
   "cell_type": "code",
   "execution_count": 7,
   "metadata": {
    "collapsed": false
   },
   "outputs": [
    {
     "data": {
      "text/plain": [
       "1,1-1,1:   IDENTIFIER (identifier)\t\"a\""
      ]
     },
     "metadata": {},
     "output_type": "display_data"
    },
    {
     "data": {
      "text/plain": [
       "1,2-1,2:   EQ (op)\t\"=\""
      ]
     },
     "metadata": {},
     "output_type": "display_data"
    },
    {
     "data": {
      "text/plain": [
       "1,3-1,3:   INTEGER (integer)\t\"1\""
      ]
     },
     "metadata": {},
     "output_type": "display_data"
    },
    {
     "data": {
      "text/plain": [
       "1,4-2,0:   WHITESPACE (whitespace)\t\"\\n\""
      ]
     },
     "metadata": {},
     "output_type": "display_data"
    },
    {
     "data": {
      "text/plain": [
       "2,1-2,1:   IDENTIFIER (identifier)\t\"a\""
      ]
     },
     "metadata": {},
     "output_type": "display_data"
    },
    {
     "data": {
      "text/plain": [
       "2,2-2,2:   PLUS (op)\t\"+\""
      ]
     },
     "metadata": {},
     "output_type": "display_data"
    },
    {
     "data": {
      "text/plain": [
       "2,3-2,3:   INTEGER (integer)\t\"3\""
      ]
     },
     "metadata": {},
     "output_type": "display_data"
    },
    {
     "data": {
      "text/plain": [
       "2,4-3,0:   WHITESPACE (whitespace)\t\"\\n\""
      ]
     },
     "metadata": {},
     "output_type": "display_data"
    },
    {
     "data": {
      "text/plain": [
       "3,1-3,1:   IDENTIFIER (identifier)\t\"c\""
      ]
     },
     "metadata": {},
     "output_type": "display_data"
    },
    {
     "data": {
      "text/plain": [
       "3,2-3,2:   EQ (op)\t\"=\""
      ]
     },
     "metadata": {},
     "output_type": "display_data"
    },
    {
     "data": {
      "text/plain": [
       "3,3-3,3:   IDENTIFIER (identifier)\t\"a\""
      ]
     },
     "metadata": {},
     "output_type": "display_data"
    },
    {
     "data": {
      "text/plain": [
       "3,4-3,4:   PLUS (op)\t\"+\""
      ]
     },
     "metadata": {},
     "output_type": "display_data"
    },
    {
     "data": {
      "text/plain": [
       "3,5-3,5:   INTEGER (integer)\t\"4\""
      ]
     },
     "metadata": {},
     "output_type": "display_data"
    },
    {
     "data": {
      "text/plain": [
       "3,6-3,6:   SEMICOLON (semicolon)\t\";\""
      ]
     },
     "metadata": {},
     "output_type": "display_data"
    },
    {
     "data": {
      "text/plain": [
       "3,7-3,7:   WHITESPACE (whitespace)\t\" \""
      ]
     },
     "metadata": {},
     "output_type": "display_data"
    },
    {
     "data": {
      "text/plain": [
       "3,8-3,8:   IDENTIFIER (identifier)\t\"b\""
      ]
     },
     "metadata": {},
     "output_type": "display_data"
    },
    {
     "data": {
      "text/plain": [
       "3,9-3,9:   EQ (op)\t\"=\""
      ]
     },
     "metadata": {},
     "output_type": "display_data"
    },
    {
     "data": {
      "text/plain": [
       "3,10-3,10:   INTEGER (integer)\t\"4\""
      ]
     },
     "metadata": {},
     "output_type": "display_data"
    },
    {
     "data": {
      "text/plain": [
       "3,11-5,0:   WHITESPACE (whitespace)\t\"\\n\\n\""
      ]
     },
     "metadata": {},
     "output_type": "display_data"
    },
    {
     "data": {
      "text/plain": [
       "5,1-5,10:   COMMENT (comment)\t\"#A comment\""
      ]
     },
     "metadata": {},
     "output_type": "display_data"
    },
    {
     "data": {
      "text/plain": [
       "5,11-7,0:   WHITESPACE (whitespace)\t\"\\n\\n\""
      ]
     },
     "metadata": {},
     "output_type": "display_data"
    },
    {
     "data": {
      "text/plain": [
       "7,1-7,8:   FUNCTION (keyword)\t\"function\""
      ]
     },
     "metadata": {},
     "output_type": "display_data"
    },
    {
     "data": {
      "text/plain": [
       "7,9-7,9:   WHITESPACE (whitespace)\t\" \""
      ]
     },
     "metadata": {},
     "output_type": "display_data"
    },
    {
     "data": {
      "text/plain": [
       "7,10-7,10:   IDENTIFIER (identifier)\t\"f\""
      ]
     },
     "metadata": {},
     "output_type": "display_data"
    },
    {
     "data": {
      "text/plain": [
       "7,11-7,11:   LPAREN (lparen)\t\"(\""
      ]
     },
     "metadata": {},
     "output_type": "display_data"
    },
    {
     "data": {
      "text/plain": [
       "7,12-7,12:   IDENTIFIER (identifier)\t\"x\""
      ]
     },
     "metadata": {},
     "output_type": "display_data"
    },
    {
     "data": {
      "text/plain": [
       "7,13-7,13:   RPAREN (rparen)\t\")\""
      ]
     },
     "metadata": {},
     "output_type": "display_data"
    },
    {
     "data": {
      "text/plain": [
       "7,14-8,4:   WHITESPACE (whitespace)\t\"\\n    \""
      ]
     },
     "metadata": {},
     "output_type": "display_data"
    },
    {
     "data": {
      "text/plain": [
       "8,5-8,5:   LPAREN (lparen)\t\"(\""
      ]
     },
     "metadata": {},
     "output_type": "display_data"
    },
    {
     "data": {
      "text/plain": [
       "8,6-8,6:   INTEGER (integer)\t\"1\""
      ]
     },
     "metadata": {},
     "output_type": "display_data"
    },
    {
     "data": {
      "text/plain": [
       "8,7-8,7:   PLUS (op)\t\"+\""
      ]
     },
     "metadata": {},
     "output_type": "display_data"
    },
    {
     "data": {
      "text/plain": [
       "8,8-8,8:   INTEGER (integer)\t\"2\""
      ]
     },
     "metadata": {},
     "output_type": "display_data"
    },
    {
     "data": {
      "text/plain": [
       "8,9-8,9:   RPAREN (rparen)\t\")\""
      ]
     },
     "metadata": {},
     "output_type": "display_data"
    },
    {
     "data": {
      "text/plain": [
       "8,10-8,10:   FWD_SLASH (op)\t\"/\""
      ]
     },
     "metadata": {},
     "output_type": "display_data"
    },
    {
     "data": {
      "text/plain": [
       "8,11-8,11:   INTEGER (integer)\t\"3\""
      ]
     },
     "metadata": {},
     "output_type": "display_data"
    },
    {
     "data": {
      "text/plain": [
       "8,12-9,0:   WHITESPACE (whitespace)\t\"\\n\""
      ]
     },
     "metadata": {},
     "output_type": "display_data"
    },
    {
     "data": {
      "text/plain": [
       "9,1-9,3:   END (keyword)\t\"end\""
      ]
     },
     "metadata": {},
     "output_type": "display_data"
    },
    {
     "data": {
      "text/plain": [
       "9,4-11,0:   WHITESPACE (whitespace)\t\"\\n\\n\""
      ]
     },
     "metadata": {},
     "output_type": "display_data"
    },
    {
     "data": {
      "text/plain": [
       "11,1-14,2:   COMMENT (comment)\t\"#= a \\nmultiline\\ncomment\\n=#\""
      ]
     },
     "metadata": {},
     "output_type": "display_data"
    },
    {
     "data": {
      "text/plain": [
       "14,3-16,0:   WHITESPACE (whitespace)\t\"\\n\\n\""
      ]
     },
     "metadata": {},
     "output_type": "display_data"
    },
    {
     "data": {
      "text/plain": [
       "16,1-16,7:   IDENTIFIER (identifier)\t\"println\""
      ]
     },
     "metadata": {},
     "output_type": "display_data"
    },
    {
     "data": {
      "text/plain": [
       "16,8-16,8:   LPAREN (lparen)\t\"(\""
      ]
     },
     "metadata": {},
     "output_type": "display_data"
    },
    {
     "data": {
      "text/plain": [
       "16,9-16,19:   STRING (string)\t\"\\\"abc ; efg\\\"\""
      ]
     },
     "metadata": {},
     "output_type": "display_data"
    },
    {
     "data": {
      "text/plain": [
       "16,20-16,20:   RPAREN (rparen)\t\")\""
      ]
     },
     "metadata": {},
     "output_type": "display_data"
    },
    {
     "data": {
      "text/plain": [
       "16,21-18,0:   WHITESPACE (whitespace)\t\"\\n\\n\""
      ]
     },
     "metadata": {},
     "output_type": "display_data"
    },
    {
     "data": {
      "text/plain": [
       "18,1-21,3:   TRIPLE_STRING (triple_string)\t\"\\\"\\\"\\\"\\na multiline\\nstring\\n\\\"\\\"\\\"\""
      ]
     },
     "metadata": {},
     "output_type": "display_data"
    },
    {
     "data": {
      "text/plain": [
       "21,4-23,0:   WHITESPACE (whitespace)\t\"\\n\\n\""
      ]
     },
     "metadata": {},
     "output_type": "display_data"
    },
    {
     "data": {
      "text/plain": [
       "23,1-23,1:   IDENTIFIER (identifier)\t\"a\""
      ]
     },
     "metadata": {},
     "output_type": "display_data"
    },
    {
     "data": {
      "text/plain": [
       "23,2-23,2:   PLUS (op)\t\"+\""
      ]
     },
     "metadata": {},
     "output_type": "display_data"
    },
    {
     "data": {
      "text/plain": [
       "23,3-23,3:   EQ (op)\t\"=\""
      ]
     },
     "metadata": {},
     "output_type": "display_data"
    },
    {
     "data": {
      "text/plain": [
       "23,4-23,4:   INTEGER (integer)\t\"2\""
      ]
     },
     "metadata": {},
     "output_type": "display_data"
    },
    {
     "data": {
      "text/plain": [
       "23,5-25,0:   WHITESPACE (whitespace)\t\"\\n\\n\""
      ]
     },
     "metadata": {},
     "output_type": "display_data"
    },
    {
     "data": {
      "text/plain": [
       "25,1-25,3:   IDENTIFIER (identifier)\t\"map\""
      ]
     },
     "metadata": {},
     "output_type": "display_data"
    },
    {
     "data": {
      "text/plain": [
       "25,4-25,4:   LPAREN (lparen)\t\"(\""
      ]
     },
     "metadata": {},
     "output_type": "display_data"
    },
    {
     "data": {
      "text/plain": [
       "25,5-25,5:   INTEGER (integer)\t\"1\""
      ]
     },
     "metadata": {},
     "output_type": "display_data"
    },
    {
     "data": {
      "text/plain": [
       "25,6-25,6:   COLON (op)\t\":\""
      ]
     },
     "metadata": {},
     "output_type": "display_data"
    },
    {
     "data": {
      "text/plain": [
       "25,7-25,7:   INTEGER (integer)\t\"5\""
      ]
     },
     "metadata": {},
     "output_type": "display_data"
    },
    {
     "data": {
      "text/plain": [
       "25,8-25,8:   RPAREN (rparen)\t\")\""
      ]
     },
     "metadata": {},
     "output_type": "display_data"
    },
    {
     "data": {
      "text/plain": [
       "25,9-25,9:   WHITESPACE (whitespace)\t\" \""
      ]
     },
     "metadata": {},
     "output_type": "display_data"
    },
    {
     "data": {
      "text/plain": [
       "25,10-25,11:   DO (keyword)\t\"do\""
      ]
     },
     "metadata": {},
     "output_type": "display_data"
    },
    {
     "data": {
      "text/plain": [
       "25,12-25,12:   WHITESPACE (whitespace)\t\" \""
      ]
     },
     "metadata": {},
     "output_type": "display_data"
    },
    {
     "data": {
      "text/plain": [
       "25,13-25,13:   IDENTIFIER (identifier)\t\"x\""
      ]
     },
     "metadata": {},
     "output_type": "display_data"
    },
    {
     "data": {
      "text/plain": [
       "25,14-26,4:   WHITESPACE (whitespace)\t\"\\n    \""
      ]
     },
     "metadata": {},
     "output_type": "display_data"
    },
    {
     "data": {
      "text/plain": [
       "26,5-26,5:   IDENTIFIER (identifier)\t\"a\""
      ]
     },
     "metadata": {},
     "output_type": "display_data"
    },
    {
     "data": {
      "text/plain": [
       "26,6-26,6:   EQ (op)\t\"=\""
      ]
     },
     "metadata": {},
     "output_type": "display_data"
    },
    {
     "data": {
      "text/plain": [
       "26,7-26,7:   INTEGER (integer)\t\"2\""
      ]
     },
     "metadata": {},
     "output_type": "display_data"
    },
    {
     "data": {
      "text/plain": [
       "26,8-26,8:   STAR (op)\t\"*\""
      ]
     },
     "metadata": {},
     "output_type": "display_data"
    },
    {
     "data": {
      "text/plain": [
       "26,9-26,9:   IDENTIFIER (identifier)\t\"x\""
      ]
     },
     "metadata": {},
     "output_type": "display_data"
    },
    {
     "data": {
      "text/plain": [
       "26,10-27,4:   WHITESPACE (whitespace)\t\"\\n    \""
      ]
     },
     "metadata": {},
     "output_type": "display_data"
    },
    {
     "data": {
      "text/plain": [
       "27,5-27,5:   INTEGER (integer)\t\"3\""
      ]
     },
     "metadata": {},
     "output_type": "display_data"
    },
    {
     "data": {
      "text/plain": [
       "27,6-27,6:   STAR (op)\t\"*\""
      ]
     },
     "metadata": {},
     "output_type": "display_data"
    },
    {
     "data": {
      "text/plain": [
       "27,7-27,7:   IDENTIFIER (identifier)\t\"a\""
      ]
     },
     "metadata": {},
     "output_type": "display_data"
    },
    {
     "data": {
      "text/plain": [
       "27,8-28,0:   WHITESPACE (whitespace)\t\"\\n\""
      ]
     },
     "metadata": {},
     "output_type": "display_data"
    },
    {
     "data": {
      "text/plain": [
       "28,1-28,3:   END (keyword)\t\"end\""
      ]
     },
     "metadata": {},
     "output_type": "display_data"
    },
    {
     "data": {
      "text/plain": [
       "28,4-30,0:   WHITESPACE (whitespace)\t\"\\n\\n\""
      ]
     },
     "metadata": {},
     "output_type": "display_data"
    },
    {
     "data": {
      "text/plain": [
       "30,1-30,5:   BEGIN (keyword)\t\"begin\""
      ]
     },
     "metadata": {},
     "output_type": "display_data"
    },
    {
     "data": {
      "text/plain": [
       "30,6-31,4:   WHITESPACE (whitespace)\t\" \\n    \""
      ]
     },
     "metadata": {},
     "output_type": "display_data"
    },
    {
     "data": {
      "text/plain": [
       "31,5-31,5:   IDENTIFIER (identifier)\t\"c\""
      ]
     },
     "metadata": {},
     "output_type": "display_data"
    },
    {
     "data": {
      "text/plain": [
       "31,6-31,6:   EQ (op)\t\"=\""
      ]
     },
     "metadata": {},
     "output_type": "display_data"
    },
    {
     "data": {
      "text/plain": [
       "31,7-31,7:   INTEGER (integer)\t\"1\""
      ]
     },
     "metadata": {},
     "output_type": "display_data"
    },
    {
     "data": {
      "text/plain": [
       "31,8-32,0:   WHITESPACE (whitespace)\t\"\\n\""
      ]
     },
     "metadata": {},
     "output_type": "display_data"
    },
    {
     "data": {
      "text/plain": [
       "32,1-32,3:   END (keyword)\t\"end\""
      ]
     },
     "metadata": {},
     "output_type": "display_data"
    },
    {
     "data": {
      "text/plain": [
       "32,4-34,0:   WHITESPACE (whitespace)\t\"\\n\\n\""
      ]
     },
     "metadata": {},
     "output_type": "display_data"
    },
    {
     "data": {
      "text/plain": [
       "34,1-34,2:   IF (keyword)\t\"if\""
      ]
     },
     "metadata": {},
     "output_type": "display_data"
    },
    {
     "data": {
      "text/plain": [
       "34,3-34,3:   WHITESPACE (whitespace)\t\" \""
      ]
     },
     "metadata": {},
     "output_type": "display_data"
    },
    {
     "data": {
      "text/plain": [
       "34,4-34,4:   IDENTIFIER (identifier)\t\"c\""
      ]
     },
     "metadata": {},
     "output_type": "display_data"
    },
    {
     "data": {
      "text/plain": [
       "34,5-35,4:   WHITESPACE (whitespace)\t\"\\n    \""
      ]
     },
     "metadata": {},
     "output_type": "display_data"
    },
    {
     "data": {
      "text/plain": [
       "35,5-35,5:   IDENTIFIER (identifier)\t\"d\""
      ]
     },
     "metadata": {},
     "output_type": "display_data"
    },
    {
     "data": {
      "text/plain": [
       "35,6-35,6:   EQ (op)\t\"=\""
      ]
     },
     "metadata": {},
     "output_type": "display_data"
    },
    {
     "data": {
      "text/plain": [
       "35,7-35,7:   INTEGER (integer)\t\"3\""
      ]
     },
     "metadata": {},
     "output_type": "display_data"
    },
    {
     "data": {
      "text/plain": [
       "35,8-36,0:   WHITESPACE (whitespace)\t\"\\n\""
      ]
     },
     "metadata": {},
     "output_type": "display_data"
    },
    {
     "data": {
      "text/plain": [
       "36,1-36,3:   END (keyword)\t\"end\""
      ]
     },
     "metadata": {},
     "output_type": "display_data"
    },
    {
     "data": {
      "text/plain": [
       "36,4-38,0:   WHITESPACE (whitespace)\t\"\\n\\n\""
      ]
     },
     "metadata": {},
     "output_type": "display_data"
    },
    {
     "data": {
      "text/plain": [
       "38,1-38,0:   ENDMARKER (endmarker)\t\"\""
      ]
     },
     "metadata": {},
     "output_type": "display_data"
    }
   ],
   "source": [
    "display.(AnnotatedToken.(tokens));"
   ]
  },
  {
   "cell_type": "markdown",
   "metadata": {},
   "source": [
    "- **New line** always ends expressions\n",
    " - Unless Immediately within a block opened by `(`\n",
    " - Or where the last nonwhitespace token was binary operator (including a `,`?)"
   ]
  },
  {
   "cell_type": "code",
   "execution_count": 62,
   "metadata": {
    "collapsed": false
   },
   "outputs": [
    {
     "name": "stderr",
     "output_type": "stream",
     "text": [
      "WARNING: Method definition isnewline(Any) in module Main at In[60]:1 overwritten at In[62]:1.\n"
     ]
    },
    {
     "data": {
      "text/plain": [
       "isnewline (generic function with 1 method)"
      ]
     },
     "execution_count": 62,
     "metadata": {},
     "output_type": "execute_result"
    }
   ],
   "source": [
    "isnewline(tok) = kind(tok)==Tokens.WHITESPACE && '\\n' ∈ untokenize(tok)\n"
   ]
  },
  {
   "cell_type": "code",
   "execution_count": 63,
   "metadata": {
    "collapsed": false
   },
   "outputs": [
    {
     "data": {
      "text/plain": [
       "\u001b[1m\u001b[32mTest Passed\n",
       "\u001b[0m  Expression: isnewline(tokens[end - 1])"
      ]
     },
     "execution_count": 63,
     "metadata": {},
     "output_type": "execute_result"
    }
   ],
   "source": [
    "@test isnewline(tokens[end-1])"
   ]
  },
  {
   "cell_type": "code",
   "execution_count": 73,
   "metadata": {
    "collapsed": false
   },
   "outputs": [
    {
     "data": {
      "text/plain": [
       "is_ender (generic function with 1 method)"
      ]
     },
     "execution_count": 73,
     "metadata": {},
     "output_type": "execute_result"
    }
   ],
   "source": []
  },
  {
   "cell_type": "code",
   "execution_count": 70,
   "metadata": {
    "collapsed": false
   },
   "outputs": [
    {
     "ename": "LoadError",
     "evalue": "cannot declare identifier_phrase_end_kinds constant; it already has a value",
     "output_type": "error",
     "traceback": [
      "cannot declare identifier_phrase_end_kinds constant; it already has a value",
      ""
     ]
    }
   ],
   "source": [
    "const identifier_phrase_end_kinds = SVector[Tokens.IDENTIFIER, Tokens.RPAREN, Tokens.RSQUARE]"
   ]
  },
  {
   "cell_type": "code",
   "execution_count": 8,
   "metadata": {
    "collapsed": false
   },
   "outputs": [
    {
     "data": {
      "text/plain": [
       "annotate (generic function with 1 method)"
      ]
     },
     "execution_count": 8,
     "metadata": {},
     "output_type": "execute_result"
    }
   ],
   "source": [
    "function annotate(toks)\n",
    "    subclause_markers = Dict(\n",
    "            Tokens.LBRACE => Tokens.RBRACE,\n",
    "            Tokens.LPAREN => Tokens.RPAREN,\n",
    "            Tokens.LSQUARE => Tokens.RSQUARE,\n",
    "            Tokens.FOR => Tokens.END,\n",
    "            Tokens.WHILE => Tokens.END,\n",
    "            Tokens.IF => Tokens.END,\n",
    "            Tokens.TRY => Tokens.END,\n",
    "            Tokens.BEGIN => Tokens.END,\n",
    "            Tokens.QUOTE => Tokens.END\n",
    "            \n",
    "    )\n",
    "    open_subclauses = AnnotatedToken[]\n",
    "    next_closer_exactkind() = subclause_markers[exactkind(open_subclauses[end])]\n",
    "    \n",
    "    in_paren() = exactkind(open_subclauses[end]) == Tokens.LPAREN\n",
    "    in_square() = exactkind(open_subclauses[end]) == Tokens.LSQUARE\n",
    "    \n",
    "\n",
    "    \n",
    "    \n",
    "    \n",
    "    history = SVector(Tokens.ENDMARKER, Tokens.ENDMARKER)\n",
    "    function add_history!(atok)\n",
    "        if kind(atok) != Tokens.WHITESPACE || isnewline(tok)\n",
    "            #TODO: Consider replacing this with somehting faster\n",
    "            @assert(!isnewline(tok) || !isnewline(history[end]), \"New lines should not follow each other -- those should have been merged by tokenizer\")\n",
    "            history = @SVector([shift(history)..., kind(atok)])\n",
    "        end\n",
    "    end\n",
    "    \n",
    "    am_continuing_operation() = history[end]==Tokens.OP && history[end-1] ∈ identifier_phrase_end_kinds\n",
    "\n",
    "    \n",
    "    function handle_ifclose!(atok)\n",
    "        if  next_closer_exactkind() == exactkind(atok)\n",
    "            opener = pop!(open_subclauses)\n",
    "            opener.notes[:closer] = atok\n",
    "            atok.notes[:opener] = opener\n",
    "        end\n",
    "    end\n",
    "    \n",
    "    function handle_ifopen!(atok)\n",
    "        if haskey(subclause_markers, exactkind(atok))\n",
    "            push!(open_subclauses, atok)\n",
    "        end\n",
    "    end\n",
    "    \n",
    "    \n",
    "    \"Handless expression enders, (this excludes closers).\"\n",
    "    function handle_expression_enders!(atok)\n",
    "        is_ender = ((!in_paren() &&  !am_continuing_operation() && isnewline(atok)) \n",
    "                        || exactkind(atok) == Tokens.SEMICOLON)    \n",
    "        if is_ender\n",
    "            atok.notes[:ender] = true\n",
    "        end\n",
    "    end\n",
    "    \n",
    "    \n",
    "    outstream = AnnotatedToken[]\n",
    "    for tok in toks\n",
    "        atok = Annotated(tok)\n",
    "        push!(outstream, atok)\n",
    "                \n",
    "        handle_ifopen(atok)\n",
    "        handle_ifclose(atok)\n",
    "        handle_expression_enders!(atok)\n",
    "        \n",
    "        add_history!(atok)         \n",
    "    end\n",
    "    outstream\n",
    "end"
   ]
  },
  {
   "cell_type": "code",
   "execution_count": 72,
   "metadata": {
    "collapsed": false,
    "scrolled": true
   },
   "outputs": [
    {
     "data": {
      "text/plain": [
       "25-element Array{Tokenize.Tokens.Token,1}:\n",
       " 1,1-1,1:   LPAREN\t\"(\"         \n",
       " 1,2-1,2:   IDENTIFIER\t\"a\"     \n",
       " 1,3-1,3:   WHITESPACE\t\" \"     \n",
       " 1,4-1,4:   OP\t\"+\"             \n",
       " 1,5-2,0:   WHITESPACE\t\"\\n\"    \n",
       " 2,1-2,1:   IDENTIFIER\t\"b\"     \n",
       " 2,2-2,2:   RPAREN\t\")\"         \n",
       " 2,3-3,0:   WHITESPACE\t\"\\n\"    \n",
       " 3,1-3,1:   LBRACE\t\"{\"         \n",
       " 3,2-3,2:   IDENTIFIER\t\"a\"     \n",
       " 3,3-3,3:   WHITESPACE\t\" \"     \n",
       " 3,4-3,4:   OP\t\"+\"             \n",
       " 3,5-4,0:   WHITESPACE\t\"\\n\"    \n",
       " 4,1-4,1:   IDENTIFIER\t\"b\"     \n",
       " 4,2-4,2:   RBRACE\t\"}\"         \n",
       " 4,3-5,0:   WHITESPACE\t\"\\n\"    \n",
       " 5,1-5,1:   LSQUARE\t\"[\"        \n",
       " 5,2-5,2:   IDENTIFIER\t\"a\"     \n",
       " 5,3-5,3:   WHITESPACE\t\" \"     \n",
       " 5,4-5,4:   OP\t\"+\"             \n",
       " 5,5-6,0:   WHITESPACE\t\"\\n\"    \n",
       " 6,1-6,1:   IDENTIFIER\t\"b\"     \n",
       " 6,2-6,2:   RSQUARE\t\"]\"        \n",
       " 6,3-9,0:   WHITESPACE\t\"\\n\\n\\n\"\n",
       " 9,1-9,0:   ENDMARKER\t\"\"       "
      ]
     },
     "execution_count": 72,
     "metadata": {},
     "output_type": "execute_result"
    }
   ],
   "source": [
    "(tokenize(\"\"\"\n",
    "(a +\n",
    "b)\n",
    "{a +\n",
    "b}\n",
    "[a +\n",
    "b]\n",
    "\n",
    "\n",
    "\"\"\") |> collect )"
   ]
  },
  {
   "cell_type": "code",
   "execution_count": 67,
   "metadata": {
    "collapsed": false
   },
   "outputs": [
    {
     "data": {
      "text/plain": [
       "(3,4)"
      ]
     },
     "execution_count": 67,
     "metadata": {},
     "output_type": "execute_result"
    }
   ],
   "source": [
    "(a,b) = \n",
    "3,4"
   ]
  },
  {
   "cell_type": "code",
   "execution_count": 35,
   "metadata": {
    "collapsed": false
   },
   "outputs": [
    {
     "ename": "LoadError",
     "evalue": "MethodError: no method matching unshift!(::StaticArrays.SVector{2,Tokenize.Tokens.Kind}, ::Tokenize.Tokens.Kind)\u001b[0m\nClosest candidates are:\n  unshift!(::Any, ::Any, \u001b[1m\u001b[31m::Any\u001b[0m) at abstractarray.jl:1717\n  unshift!(::Any, ::Any, \u001b[1m\u001b[31m::Any\u001b[0m, \u001b[1m\u001b[31m::Any...\u001b[0m) at abstractarray.jl:1718\n  unshift!{T}(\u001b[1m\u001b[31m::Array{T,1}\u001b[0m, ::Any) at array.jl:537\n  ...\u001b[0m",
     "output_type": "error",
     "traceback": [
      "MethodError: no method matching unshift!(::StaticArrays.SVector{2,Tokenize.Tokens.Kind}, ::Tokenize.Tokens.Kind)\u001b[0m\nClosest candidates are:\n  unshift!(::Any, ::Any, \u001b[1m\u001b[31m::Any\u001b[0m) at abstractarray.jl:1717\n  unshift!(::Any, ::Any, \u001b[1m\u001b[31m::Any\u001b[0m, \u001b[1m\u001b[31m::Any...\u001b[0m) at abstractarray.jl:1718\n  unshift!{T}(\u001b[1m\u001b[31m::Array{T,1}\u001b[0m, ::Any) at array.jl:537\n  ...\u001b[0m",
      ""
     ]
    }
   ],
   "source": [
    "unshift!(history, Tokens.KEYWORD)"
   ]
  },
  {
   "cell_type": "code",
   "execution_count": 54,
   "metadata": {
    "collapsed": false
   },
   "outputs": [
    {
     "data": {
      "text/plain": [
       "2-element StaticArrays.SVector{2,Tokenize.Tokens.Kind}:\n",
       " IDENTICAL_WITH_DOT_ABOVE\n",
       " KEYWORD                 "
      ]
     },
     "execution_count": 54,
     "metadata": {},
     "output_type": "execute_result"
    }
   ],
   "source": []
  },
  {
   "cell_type": "code",
   "execution_count": 51,
   "metadata": {
    "collapsed": false
   },
   "outputs": [
    {
     "data": {
      "text/html": [
       "99-element Array{Method,1}:<ul><li> *<i>{TA<:Union{Complex{Float32},Complex{Float64},Float32,Float64},Tb}</i>(A::<b>StaticArrays.StaticArray{TA,2}</b>, b::<b>StaticArrays.StaticArray{Tb,1}</b>) at <a href=\"https://github.com/JuliaArrays/StaticArrays.jl/tree/b43192c9a1b16cfbbcac6d93825d2ec0addb5ec9/src/matrix_multiply.jl#L134\" target=\"_blank\">/home/ubuntu/.julia/v0.5/StaticArrays/src/matrix_multiply.jl:134</a><li> *<i>{TA,Tb}</i>(A::<b>StaticArrays.StaticArray{TA,2}</b>, b::<b>StaticArrays.StaticArray{Tb,1}</b>) at <a href=\"https://github.com/JuliaArrays/StaticArrays.jl/tree/b43192c9a1b16cfbbcac6d93825d2ec0addb5ec9/src/matrix_multiply.jl#L95\" target=\"_blank\">/home/ubuntu/.julia/v0.5/StaticArrays/src/matrix_multiply.jl:95</a><li> *<i>{TA<:Union{Complex{Float32},Complex{Float64},Float32,Float64},Tb}</i>(A::<b>StaticArrays.StaticArray{TA,2}</b>, b::<b>Union{Base.ReshapedArray{Tb,1,A<:DenseArray,MI<:Tuple{Vararg{Base.MultiplicativeInverses.SignedMultiplicativeInverse{Int64},N<:Any}}},DenseArray{Tb,1},SubArray{Tb,1,A<:Union{Base.ReshapedArray{T<:Any,N<:Any,A<:DenseArray,MI<:Tuple{Vararg{Base.MultiplicativeInverses.SignedMultiplicativeInverse{Int64},N<:Any}}},DenseArray},I<:Tuple{Vararg{Union{Base.AbstractCartesianIndex,Colon,Int64,Range{Int64}},N<:Any}},L<:Any}}</b>) at <a href=\"https://github.com/JuliaArrays/StaticArrays.jl/tree/b43192c9a1b16cfbbcac6d93825d2ec0addb5ec9/src/matrix_multiply.jl#L202\" target=\"_blank\">/home/ubuntu/.julia/v0.5/StaticArrays/src/matrix_multiply.jl:202</a><li> *(a::<b>StaticArrays.StaticArray</b>, b::<b>Number</b>) at <a href=\"https://github.com/JuliaArrays/StaticArrays.jl/tree/b43192c9a1b16cfbbcac6d93825d2ec0addb5ec9/src/linalg.jl#L26\" target=\"_blank\">/home/ubuntu/.julia/v0.5/StaticArrays/src/linalg.jl:26</a><li> *<i>{TA,Tb}</i>(A::<b>StaticArrays.StaticArray{TA,2}</b>, b::<b>AbstractArray{Tb,1}</b>) at <a href=\"https://github.com/JuliaArrays/StaticArrays.jl/tree/b43192c9a1b16cfbbcac6d93825d2ec0addb5ec9/src/matrix_multiply.jl#L173\" target=\"_blank\">/home/ubuntu/.julia/v0.5/StaticArrays/src/matrix_multiply.jl:173</a><li> *(a::<b>Number</b>, b::<b>StaticArrays.StaticArray</b>) at <a href=\"https://github.com/JuliaArrays/StaticArrays.jl/tree/b43192c9a1b16cfbbcac6d93825d2ec0addb5ec9/src/linalg.jl#L25\" target=\"_blank\">/home/ubuntu/.julia/v0.5/StaticArrays/src/linalg.jl:25</a><li> +(a::<b>StaticArrays.StaticArray</b>, b::<b>StaticArrays.StaticArray</b>) at <a href=\"https://github.com/JuliaArrays/StaticArrays.jl/tree/b43192c9a1b16cfbbcac6d93825d2ec0addb5ec9/src/linalg.jl#L10\" target=\"_blank\">/home/ubuntu/.julia/v0.5/StaticArrays/src/linalg.jl:10</a><li> +(a::<b>StaticArrays.StaticArray</b>, b::<b>AbstractArray</b>) at <a href=\"https://github.com/JuliaArrays/StaticArrays.jl/tree/b43192c9a1b16cfbbcac6d93825d2ec0addb5ec9/src/linalg.jl#L12\" target=\"_blank\">/home/ubuntu/.julia/v0.5/StaticArrays/src/linalg.jl:12</a><li> +(a::<b>StaticArrays.StaticArray</b>, b::<b>Number</b>) at <a href=\"https://github.com/JuliaArrays/StaticArrays.jl/tree/b43192c9a1b16cfbbcac6d93825d2ec0addb5ec9/src/linalg.jl#L20\" target=\"_blank\">/home/ubuntu/.julia/v0.5/StaticArrays/src/linalg.jl:20</a><li> +(a::<b>AbstractArray</b>, b::<b>StaticArrays.StaticArray</b>) at <a href=\"https://github.com/JuliaArrays/StaticArrays.jl/tree/b43192c9a1b16cfbbcac6d93825d2ec0addb5ec9/src/linalg.jl#L11\" target=\"_blank\">/home/ubuntu/.julia/v0.5/StaticArrays/src/linalg.jl:11</a><li> +(a::<b>Number</b>, b::<b>StaticArrays.StaticArray</b>) at <a href=\"https://github.com/JuliaArrays/StaticArrays.jl/tree/b43192c9a1b16cfbbcac6d93825d2ec0addb5ec9/src/linalg.jl#L19\" target=\"_blank\">/home/ubuntu/.julia/v0.5/StaticArrays/src/linalg.jl:19</a><li> -(a::<b>StaticArrays.StaticArray</b>) at <a href=\"https://github.com/JuliaArrays/StaticArrays.jl/tree/b43192c9a1b16cfbbcac6d93825d2ec0addb5ec9/src/linalg.jl#L6\" target=\"_blank\">/home/ubuntu/.julia/v0.5/StaticArrays/src/linalg.jl:6</a><li> -(a::<b>StaticArrays.StaticArray</b>, b::<b>StaticArrays.StaticArray</b>) at <a href=\"https://github.com/JuliaArrays/StaticArrays.jl/tree/b43192c9a1b16cfbbcac6d93825d2ec0addb5ec9/src/linalg.jl#L14\" target=\"_blank\">/home/ubuntu/.julia/v0.5/StaticArrays/src/linalg.jl:14</a><li> -(a::<b>StaticArrays.StaticArray</b>, b::<b>AbstractArray</b>) at <a href=\"https://github.com/JuliaArrays/StaticArrays.jl/tree/b43192c9a1b16cfbbcac6d93825d2ec0addb5ec9/src/linalg.jl#L16\" target=\"_blank\">/home/ubuntu/.julia/v0.5/StaticArrays/src/linalg.jl:16</a><li> -(a::<b>StaticArrays.StaticArray</b>, b::<b>Number</b>) at <a href=\"https://github.com/JuliaArrays/StaticArrays.jl/tree/b43192c9a1b16cfbbcac6d93825d2ec0addb5ec9/src/linalg.jl#L23\" target=\"_blank\">/home/ubuntu/.julia/v0.5/StaticArrays/src/linalg.jl:23</a><li> -(a::<b>AbstractArray</b>, b::<b>StaticArrays.StaticArray</b>) at <a href=\"https://github.com/JuliaArrays/StaticArrays.jl/tree/b43192c9a1b16cfbbcac6d93825d2ec0addb5ec9/src/linalg.jl#L15\" target=\"_blank\">/home/ubuntu/.julia/v0.5/StaticArrays/src/linalg.jl:15</a><li> -(a::<b>Number</b>, b::<b>StaticArrays.StaticArray</b>) at <a href=\"https://github.com/JuliaArrays/StaticArrays.jl/tree/b43192c9a1b16cfbbcac6d93825d2ec0addb5ec9/src/linalg.jl#L22\" target=\"_blank\">/home/ubuntu/.julia/v0.5/StaticArrays/src/linalg.jl:22</a><li> .*(a1::<b>Number</b>, a2::<b>StaticArrays.StaticArray</b>) at <a href=\"https://github.com/JuliaArrays/StaticArrays.jl/tree/b43192c9a1b16cfbbcac6d93825d2ec0addb5ec9/src/arraymath.jl#L24\" target=\"_blank\">/home/ubuntu/.julia/v0.5/StaticArrays/src/arraymath.jl:24</a><li> .*(a1::<b>StaticArrays.StaticArray</b>, a2::<b>Number</b>) at <a href=\"https://github.com/JuliaArrays/StaticArrays.jl/tree/b43192c9a1b16cfbbcac6d93825d2ec0addb5ec9/src/arraymath.jl#L19\" target=\"_blank\">/home/ubuntu/.julia/v0.5/StaticArrays/src/arraymath.jl:19</a><li> .*(a1::<b>StaticArrays.StaticArray</b>, a2::<b>StaticArrays.StaticArray</b>) at <a href=\"https://github.com/JuliaArrays/StaticArrays.jl/tree/b43192c9a1b16cfbbcac6d93825d2ec0addb5ec9/src/arraymath.jl#L14\" target=\"_blank\">/home/ubuntu/.julia/v0.5/StaticArrays/src/arraymath.jl:14</a><li> .+(a1::<b>Number</b>, a2::<b>StaticArrays.StaticArray</b>) at <a href=\"https://github.com/JuliaArrays/StaticArrays.jl/tree/b43192c9a1b16cfbbcac6d93825d2ec0addb5ec9/src/arraymath.jl#L22\" target=\"_blank\">/home/ubuntu/.julia/v0.5/StaticArrays/src/arraymath.jl:22</a><li> .+(a1::<b>StaticArrays.StaticArray</b>, a2::<b>Number</b>) at <a href=\"https://github.com/JuliaArrays/StaticArrays.jl/tree/b43192c9a1b16cfbbcac6d93825d2ec0addb5ec9/src/arraymath.jl#L17\" target=\"_blank\">/home/ubuntu/.julia/v0.5/StaticArrays/src/arraymath.jl:17</a><li> .+(a1::<b>StaticArrays.StaticArray</b>, a2::<b>StaticArrays.StaticArray</b>) at <a href=\"https://github.com/JuliaArrays/StaticArrays.jl/tree/b43192c9a1b16cfbbcac6d93825d2ec0addb5ec9/src/arraymath.jl#L12\" target=\"_blank\">/home/ubuntu/.julia/v0.5/StaticArrays/src/arraymath.jl:12</a><li> .-(a1::<b>Number</b>, a2::<b>StaticArrays.StaticArray</b>) at <a href=\"https://github.com/JuliaArrays/StaticArrays.jl/tree/b43192c9a1b16cfbbcac6d93825d2ec0addb5ec9/src/arraymath.jl#L23\" target=\"_blank\">/home/ubuntu/.julia/v0.5/StaticArrays/src/arraymath.jl:23</a><li> .-(a1::<b>StaticArrays.StaticArray</b>) at <a href=\"https://github.com/JuliaArrays/StaticArrays.jl/tree/b43192c9a1b16cfbbcac6d93825d2ec0addb5ec9/src/arraymath.jl#L10\" target=\"_blank\">/home/ubuntu/.julia/v0.5/StaticArrays/src/arraymath.jl:10</a><li> .-(a1::<b>StaticArrays.StaticArray</b>, a2::<b>Number</b>) at <a href=\"https://github.com/JuliaArrays/StaticArrays.jl/tree/b43192c9a1b16cfbbcac6d93825d2ec0addb5ec9/src/arraymath.jl#L18\" target=\"_blank\">/home/ubuntu/.julia/v0.5/StaticArrays/src/arraymath.jl:18</a><li> .-(a1::<b>StaticArrays.StaticArray</b>, a2::<b>StaticArrays.StaticArray</b>) at <a href=\"https://github.com/JuliaArrays/StaticArrays.jl/tree/b43192c9a1b16cfbbcac6d93825d2ec0addb5ec9/src/arraymath.jl#L13\" target=\"_blank\">/home/ubuntu/.julia/v0.5/StaticArrays/src/arraymath.jl:13</a><li> ./(a1::<b>Number</b>, a2::<b>StaticArrays.StaticArray</b>) at <a href=\"https://github.com/JuliaArrays/StaticArrays.jl/tree/b43192c9a1b16cfbbcac6d93825d2ec0addb5ec9/src/arraymath.jl#L25\" target=\"_blank\">/home/ubuntu/.julia/v0.5/StaticArrays/src/arraymath.jl:25</a><li> ./(a1::<b>StaticArrays.StaticArray</b>, a2::<b>Number</b>) at <a href=\"https://github.com/JuliaArrays/StaticArrays.jl/tree/b43192c9a1b16cfbbcac6d93825d2ec0addb5ec9/src/arraymath.jl#L20\" target=\"_blank\">/home/ubuntu/.julia/v0.5/StaticArrays/src/arraymath.jl:20</a><li> ./(a1::<b>StaticArrays.StaticArray</b>, a2::<b>StaticArrays.StaticArray</b>) at <a href=\"https://github.com/JuliaArrays/StaticArrays.jl/tree/b43192c9a1b16cfbbcac6d93825d2ec0addb5ec9/src/arraymath.jl#L15\" target=\"_blank\">/home/ubuntu/.julia/v0.5/StaticArrays/src/arraymath.jl:15</a><li> /(a::<b>StaticArrays.StaticArray</b>, b::<b>Number</b>) at <a href=\"https://github.com/JuliaArrays/StaticArrays.jl/tree/b43192c9a1b16cfbbcac6d93825d2ec0addb5ec9/src/linalg.jl#L28\" target=\"_blank\">/home/ubuntu/.julia/v0.5/StaticArrays/src/linalg.jl:28</a><li> A_mul_B!<i>{T<:Union{Float32,Float64}}</i>(c::<b>StaticArrays.StaticArray{T,1}</b>, A::<b>StaticArrays.StaticArray{T,2}</b>, b::<b>StaticArrays.StaticArray{T,1}</b>) at <a href=\"https://github.com/JuliaArrays/StaticArrays.jl/tree/b43192c9a1b16cfbbcac6d93825d2ec0addb5ec9/src/matrix_multiply.jl#L518\" target=\"_blank\">/home/ubuntu/.julia/v0.5/StaticArrays/src/matrix_multiply.jl:518</a><li> A_mul_B!<i>{T<:Union{Complex{Float32},Complex{Float64}}}</i>(c::<b>StaticArrays.StaticArray{T,1}</b>, A::<b>StaticArrays.StaticArray{T,2}</b>, b::<b>StaticArrays.StaticArray{T,1}</b>) at <a href=\"https://github.com/JuliaArrays/StaticArrays.jl/tree/b43192c9a1b16cfbbcac6d93825d2ec0addb5ec9/src/matrix_multiply.jl#L538\" target=\"_blank\">/home/ubuntu/.julia/v0.5/StaticArrays/src/matrix_multiply.jl:538</a><li> A_mul_B!<i>{T1,T2,T3}</i>(c::<b>StaticArrays.StaticArray{T1,1}</b>, A::<b>StaticArrays.StaticArray{T2,2}</b>, b::<b>StaticArrays.StaticArray{T3,1}</b>) at <a href=\"https://github.com/JuliaArrays/StaticArrays.jl/tree/b43192c9a1b16cfbbcac6d93825d2ec0addb5ec9/src/matrix_multiply.jl#L496\" target=\"_blank\">/home/ubuntu/.julia/v0.5/StaticArrays/src/matrix_multiply.jl:496</a><li> A_mul_B!<i>{T<:Union{Float32,Float64}}</i>(c::<b>Union{Base.ReshapedArray{T,1,A<:DenseArray,MI<:Tuple{Vararg{Base.MultiplicativeInverses.SignedMultiplicativeInverse{Int64},N<:Any}}},DenseArray{T,1},SubArray{T,1,A<:Union{Base.ReshapedArray{T<:Any,N<:Any,A<:DenseArray,MI<:Tuple{Vararg{Base.MultiplicativeInverses.SignedMultiplicativeInverse{Int64},N<:Any}}},DenseArray},I<:Tuple{Vararg{Union{Base.AbstractCartesianIndex,Colon,Int64,Range{Int64}},N<:Any}},L<:Any}}</b>, A::<b>StaticArrays.StaticArray{T,2}</b>, b::<b>Union{Base.ReshapedArray{T,1,A<:DenseArray,MI<:Tuple{Vararg{Base.MultiplicativeInverses.SignedMultiplicativeInverse{Int64},N<:Any}}},DenseArray{T,1},SubArray{T,1,A<:Union{Base.ReshapedArray{T<:Any,N<:Any,A<:DenseArray,MI<:Tuple{Vararg{Base.MultiplicativeInverses.SignedMultiplicativeInverse{Int64},N<:Any}}},DenseArray},I<:Tuple{Vararg{Union{Base.AbstractCartesianIndex,Colon,Int64,Range{Int64}},N<:Any}},L<:Any}}</b>) at <a href=\"https://github.com/JuliaArrays/StaticArrays.jl/tree/b43192c9a1b16cfbbcac6d93825d2ec0addb5ec9/src/matrix_multiply.jl#L582\" target=\"_blank\">/home/ubuntu/.julia/v0.5/StaticArrays/src/matrix_multiply.jl:582</a><li> A_mul_B!<i>{T<:Union{Complex{Float32},Complex{Float64}}}</i>(c::<b>Union{Base.ReshapedArray{T,1,A<:DenseArray,MI<:Tuple{Vararg{Base.MultiplicativeInverses.SignedMultiplicativeInverse{Int64},N<:Any}}},DenseArray{T,1},SubArray{T,1,A<:Union{Base.ReshapedArray{T<:Any,N<:Any,A<:DenseArray,MI<:Tuple{Vararg{Base.MultiplicativeInverses.SignedMultiplicativeInverse{Int64},N<:Any}}},DenseArray},I<:Tuple{Vararg{Union{Base.AbstractCartesianIndex,Colon,Int64,Range{Int64}},N<:Any}},L<:Any}}</b>, A::<b>StaticArrays.StaticArray{T,2}</b>, b::<b>Union{Base.ReshapedArray{T,1,A<:DenseArray,MI<:Tuple{Vararg{Base.MultiplicativeInverses.SignedMultiplicativeInverse{Int64},N<:Any}}},DenseArray{T,1},SubArray{T,1,A<:Union{Base.ReshapedArray{T<:Any,N<:Any,A<:DenseArray,MI<:Tuple{Vararg{Base.MultiplicativeInverses.SignedMultiplicativeInverse{Int64},N<:Any}}},DenseArray},I<:Tuple{Vararg{Union{Base.AbstractCartesianIndex,Colon,Int64,Range{Int64}},N<:Any}},L<:Any}}</b>) at <a href=\"https://github.com/JuliaArrays/StaticArrays.jl/tree/b43192c9a1b16cfbbcac6d93825d2ec0addb5ec9/src/matrix_multiply.jl#L599\" target=\"_blank\">/home/ubuntu/.julia/v0.5/StaticArrays/src/matrix_multiply.jl:599</a><li> A_mul_B!<i>{T1,T2,T3}</i>(c::<b>AbstractArray{T1,1}</b>, A::<b>StaticArrays.StaticArray{T2,2}</b>, b::<b>AbstractArray{T3,1}</b>) at <a href=\"https://github.com/JuliaArrays/StaticArrays.jl/tree/b43192c9a1b16cfbbcac6d93825d2ec0addb5ec9/src/matrix_multiply.jl#L560\" target=\"_blank\">/home/ubuntu/.julia/v0.5/StaticArrays/src/matrix_multiply.jl:560</a><li> \\(a::<b>Number</b>, b::<b>StaticArrays.StaticArray</b>) at <a href=\"https://github.com/JuliaArrays/StaticArrays.jl/tree/b43192c9a1b16cfbbcac6d93825d2ec0addb5ec9/src/linalg.jl#L29\" target=\"_blank\">/home/ubuntu/.julia/v0.5/StaticArrays/src/linalg.jl:29</a><li> \\<i>{T}</i>(A::<b>StaticArrays.StaticArray{T,2}</b>, b::<b>StaticArrays.StaticArray{T,1}</b>) at <a href=\"https://github.com/JuliaArrays/StaticArrays.jl/tree/b43192c9a1b16cfbbcac6d93825d2ec0addb5ec9/src/solve.jl#L2\" target=\"_blank\">/home/ubuntu/.julia/v0.5/StaticArrays/src/solve.jl:2</a><li> broadcast(f, a::<b>StaticArrays.StaticArray</b>) at <a href=\"https://github.com/JuliaArrays/StaticArrays.jl/tree/b43192c9a1b16cfbbcac6d93825d2ec0addb5ec9/src/mapreduce.jl#L173\" target=\"_blank\">/home/ubuntu/.julia/v0.5/StaticArrays/src/mapreduce.jl:173</a><li> broadcast(f, a1::<b>StaticArrays.StaticArray</b>, a2::<b>StaticArrays.StaticArray</b>) at <a href=\"https://github.com/JuliaArrays/StaticArrays.jl/tree/b43192c9a1b16cfbbcac6d93825d2ec0addb5ec9/src/mapreduce.jl#L178\" target=\"_blank\">/home/ubuntu/.julia/v0.5/StaticArrays/src/mapreduce.jl:178</a><li> broadcast(f, a::<b>StaticArrays.StaticArray</b>, n::<b>Number</b>) at <a href=\"https://github.com/JuliaArrays/StaticArrays.jl/tree/b43192c9a1b16cfbbcac6d93825d2ec0addb5ec9/src/mapreduce.jl#L250\" target=\"_blank\">/home/ubuntu/.julia/v0.5/StaticArrays/src/mapreduce.jl:250</a><li> broadcast(f, n::<b>Number</b>, a::<b>StaticArrays.StaticArray</b>) at <a href=\"https://github.com/JuliaArrays/StaticArrays.jl/tree/b43192c9a1b16cfbbcac6d93825d2ec0addb5ec9/src/mapreduce.jl#L251\" target=\"_blank\">/home/ubuntu/.julia/v0.5/StaticArrays/src/mapreduce.jl:251</a><li> broadcast!(f::<b>Base.#identity</b>, out::<b>StaticArrays.StaticArray</b>, a::<b>StaticArrays.StaticArray</b>) at <a href=\"https://github.com/JuliaArrays/StaticArrays.jl/tree/b43192c9a1b16cfbbcac6d93825d2ec0addb5ec9/src/mapreduce.jl#L291\" target=\"_blank\">/home/ubuntu/.julia/v0.5/StaticArrays/src/mapreduce.jl:291</a><li> broadcast!<i>{F}</i>(f::<b>F</b>, out::<b>StaticArrays.StaticArray</b>, a::<b>StaticArrays.StaticArray</b>) at <a href=\"https://github.com/JuliaArrays/StaticArrays.jl/tree/b43192c9a1b16cfbbcac6d93825d2ec0addb5ec9/src/mapreduce.jl#L290\" target=\"_blank\">/home/ubuntu/.julia/v0.5/StaticArrays/src/mapreduce.jl:290</a><li> broadcast!<i>{F}</i>(f::<b>F</b>, out::<b>StaticArrays.StaticArray</b>, a1::<b>StaticArrays.StaticArray</b>, a2::<b>StaticArrays.StaticArray</b>) at <a href=\"https://github.com/JuliaArrays/StaticArrays.jl/tree/b43192c9a1b16cfbbcac6d93825d2ec0addb5ec9/src/mapreduce.jl#L295\" target=\"_blank\">/home/ubuntu/.julia/v0.5/StaticArrays/src/mapreduce.jl:295</a><li> conj(a::<b>StaticArrays.StaticArray</b>) at <a href=\"https://github.com/JuliaArrays/StaticArrays.jl/tree/b43192c9a1b16cfbbcac6d93825d2ec0addb5ec9/src/linalg.jl#L104\" target=\"_blank\">/home/ubuntu/.julia/v0.5/StaticArrays/src/linalg.jl:104</a><li> convert<i>{SA<:StaticArrays.StaticArray{T,N}}</i>(::<b>Type{SA}</b>, sa::<b>StaticArrays.StaticArray</b>) at <a href=\"https://github.com/JuliaArrays/StaticArrays.jl/tree/b43192c9a1b16cfbbcac6d93825d2ec0addb5ec9/src/core.jl#L69\" target=\"_blank\">/home/ubuntu/.julia/v0.5/StaticArrays/src/core.jl:69</a><li> convert<i>{T}</i>(::<b>Type{Array{T<:Any,1}}</b>, sa::<b>StaticArrays.StaticArray{T,1}</b>) at <a href=\"https://github.com/JuliaArrays/StaticArrays.jl/tree/b43192c9a1b16cfbbcac6d93825d2ec0addb5ec9/src/core.jl#L118\" target=\"_blank\">/home/ubuntu/.julia/v0.5/StaticArrays/src/core.jl:118</a><li> convert<i>{T}</i>(::<b>Type{Array{T<:Any,2}}</b>, sa::<b>StaticArrays.StaticArray{T,2}</b>) at <a href=\"https://github.com/JuliaArrays/StaticArrays.jl/tree/b43192c9a1b16cfbbcac6d93825d2ec0addb5ec9/src/core.jl#L110\" target=\"_blank\">/home/ubuntu/.julia/v0.5/StaticArrays/src/core.jl:110</a><li> convert<i>{T,N}</i>(::<b>Type{Array{T,N}}</b>, sa::<b>StaticArrays.StaticArray{T,N}</b>) at <a href=\"https://github.com/JuliaArrays/StaticArrays.jl/tree/b43192c9a1b16cfbbcac6d93825d2ec0addb5ec9/src/core.jl#L102\" target=\"_blank\">/home/ubuntu/.julia/v0.5/StaticArrays/src/core.jl:102</a><li> convert<i>{T,N}</i>(::<b>Type{Array{T,N<:Any}}</b>, sa::<b>StaticArrays.StaticArray{T,N}</b>) at <a href=\"https://github.com/JuliaArrays/StaticArrays.jl/tree/b43192c9a1b16cfbbcac6d93825d2ec0addb5ec9/src/core.jl#L94\" target=\"_blank\">/home/ubuntu/.julia/v0.5/StaticArrays/src/core.jl:94</a><li> convert<i>{T,N}</i>(::<b>Type{Array}</b>, sa::<b>StaticArrays.StaticArray{T,N}</b>) at <a href=\"https://github.com/JuliaArrays/StaticArrays.jl/tree/b43192c9a1b16cfbbcac6d93825d2ec0addb5ec9/src/core.jl#L86\" target=\"_blank\">/home/ubuntu/.julia/v0.5/StaticArrays/src/core.jl:86</a><li> convert<i>{S1,S2,T}</i>(::<b>Type{StaticArrays.SMatrix{S1,S2,T<:Any,L<:Any}}</b>, a::<b>StaticArrays.StaticArray{T,N<:Any}</b>) at <a href=\"https://github.com/JuliaArrays/StaticArrays.jl/tree/b43192c9a1b16cfbbcac6d93825d2ec0addb5ec9/src/SMatrix.jl#L77\" target=\"_blank\">/home/ubuntu/.julia/v0.5/StaticArrays/src/SMatrix.jl:77</a><li> convert<i>{S1,S2,T}</i>(::<b>Type{StaticArrays.MMatrix{S1,S2,T<:Any,L<:Any}}</b>, a::<b>StaticArrays.StaticArray{T,N<:Any}</b>) at <a href=\"https://github.com/JuliaArrays/StaticArrays.jl/tree/b43192c9a1b16cfbbcac6d93825d2ec0addb5ec9/src/MMatrix.jl#L90\" target=\"_blank\">/home/ubuntu/.julia/v0.5/StaticArrays/src/MMatrix.jl:90</a><li> convert(::<b>Type{Tuple}</b>, a::<b>StaticArrays.StaticArray</b>) at <a href=\"https://github.com/JuliaArrays/StaticArrays.jl/tree/b43192c9a1b16cfbbcac6d93825d2ec0addb5ec9/src/core.jl#L136\" target=\"_blank\">/home/ubuntu/.julia/v0.5/StaticArrays/src/core.jl:136</a><li> det<i>{T}</i>(A::<b>StaticArrays.StaticArray{T,2}</b>) at <a href=\"https://github.com/JuliaArrays/StaticArrays.jl/tree/b43192c9a1b16cfbbcac6d93825d2ec0addb5ec9/src/det.jl#L3\" target=\"_blank\">/home/ubuntu/.julia/v0.5/StaticArrays/src/det.jl:3</a><li> fill!<i>{SA<:StaticArrays.StaticArray{T,N}}</i>(a::<b>SA</b>, val) at <a href=\"https://github.com/JuliaArrays/StaticArrays.jl/tree/b43192c9a1b16cfbbcac6d93825d2ec0addb5ec9/src/arraymath.jl#L113\" target=\"_blank\">/home/ubuntu/.julia/v0.5/StaticArrays/src/arraymath.jl:113</a><li> getindex<i>{SA<:StaticArrays.StaticArray{T,N},S}</i>(a::<b>SA</b>, inds::<b>Tuple{Vararg{Integer,S}}</b>) at <a href=\"https://github.com/JuliaArrays/StaticArrays.jl/tree/b43192c9a1b16cfbbcac6d93825d2ec0addb5ec9/src/indexing.jl#L7\" target=\"_blank\">/home/ubuntu/.julia/v0.5/StaticArrays/src/indexing.jl:7</a><li> getindex<i>{SA<:StaticArrays.StaticArray{T,N}}</i>(a::<b>SA</b>, ::<b>Colon</b>) at <a href=\"https://github.com/JuliaArrays/StaticArrays.jl/tree/b43192c9a1b16cfbbcac6d93825d2ec0addb5ec9/src/indexing.jl#L27\" target=\"_blank\">/home/ubuntu/.julia/v0.5/StaticArrays/src/indexing.jl:27</a><li> getindex(a::<b>StaticArrays.StaticArray</b>, i1::<b>Integer</b>, i2::<b>Integer</b>, i3::<b>Integer</b>) at <a href=\"https://github.com/JuliaArrays/StaticArrays.jl/tree/b43192c9a1b16cfbbcac6d93825d2ec0addb5ec9/src/indexing.jl#L302\" target=\"_blank\">/home/ubuntu/.julia/v0.5/StaticArrays/src/indexing.jl:302</a><li> getindex(a::<b>StaticArrays.StaticArray</b>, i1::<b>Integer</b>, i2::<b>Integer</b>, i_n::<b>Integer...</b>) at <a href=\"https://github.com/JuliaArrays/StaticArrays.jl/tree/b43192c9a1b16cfbbcac6d93825d2ec0addb5ec9/src/indexing.jl#L325\" target=\"_blank\">/home/ubuntu/.julia/v0.5/StaticArrays/src/indexing.jl:325</a><li> inv<i>{T}</i>(A::<b>StaticArrays.StaticArray{T,2}</b>) at <a href=\"https://github.com/JuliaArrays/StaticArrays.jl/tree/b43192c9a1b16cfbbcac6d93825d2ec0addb5ec9/src/inv.jl#L3\" target=\"_blank\">/home/ubuntu/.julia/v0.5/StaticArrays/src/inv.jl:3</a><li> isassigned(a::<b>StaticArrays.StaticArray</b>, i::<b>Int64...</b>) at <a href=\"https://github.com/JuliaArrays/StaticArrays.jl/tree/b43192c9a1b16cfbbcac6d93825d2ec0addb5ec9/src/abstractarray.jl#L13\" target=\"_blank\">/home/ubuntu/.julia/v0.5/StaticArrays/src/abstractarray.jl:13</a><li> map<i>{T}</i>(f, a1::<b>StaticArrays.StaticArray{T,N<:Any}</b>) at <a href=\"https://github.com/JuliaArrays/StaticArrays.jl/tree/b43192c9a1b16cfbbcac6d93825d2ec0addb5ec9/src/mapreduce.jl#L7\" target=\"_blank\">/home/ubuntu/.julia/v0.5/StaticArrays/src/mapreduce.jl:7</a><li> map<i>{T1,T2}</i>(f, a1::<b>StaticArrays.StaticArray{T1,N<:Any}</b>, a2::<b>StaticArrays.StaticArray{T2,N<:Any}</b>) at <a href=\"https://github.com/JuliaArrays/StaticArrays.jl/tree/b43192c9a1b16cfbbcac6d93825d2ec0addb5ec9/src/mapreduce.jl#L17\" target=\"_blank\">/home/ubuntu/.julia/v0.5/StaticArrays/src/mapreduce.jl:17</a><li> map<i>{T1,T2}</i>(f, a1::<b>StaticArrays.StaticArray{T1,N<:Any}</b>, a2::<b>AbstractArray{T2,N<:Any}</b>) at <a href=\"https://github.com/JuliaArrays/StaticArrays.jl/tree/b43192c9a1b16cfbbcac6d93825d2ec0addb5ec9/src/mapreduce.jl#L31\" target=\"_blank\">/home/ubuntu/.julia/v0.5/StaticArrays/src/mapreduce.jl:31</a><li> map<i>{T1,T2}</i>(f, a1::<b>AbstractArray{T1,N<:Any}</b>, a2::<b>StaticArrays.StaticArray{T2,N<:Any}</b>) at <a href=\"https://github.com/JuliaArrays/StaticArrays.jl/tree/b43192c9a1b16cfbbcac6d93825d2ec0addb5ec9/src/mapreduce.jl#L45\" target=\"_blank\">/home/ubuntu/.julia/v0.5/StaticArrays/src/mapreduce.jl:45</a><li> map!<i>{F}</i>(f::<b>F</b>, out::<b>StaticArrays.StaticArray</b>, a1::<b>StaticArrays.StaticArray</b>) at <a href=\"https://github.com/JuliaArrays/StaticArrays.jl/tree/b43192c9a1b16cfbbcac6d93825d2ec0addb5ec9/src/mapreduce.jl#L261\" target=\"_blank\">/home/ubuntu/.julia/v0.5/StaticArrays/src/mapreduce.jl:261</a><li> map!<i>{F}</i>(f::<b>F</b>, out::<b>StaticArrays.StaticArray</b>, a1::<b>StaticArrays.StaticArray</b>, a2::<b>StaticArrays.StaticArray</b>) at <a href=\"https://github.com/JuliaArrays/StaticArrays.jl/tree/b43192c9a1b16cfbbcac6d93825d2ec0addb5ec9/src/mapreduce.jl#L270\" target=\"_blank\">/home/ubuntu/.julia/v0.5/StaticArrays/src/mapreduce.jl:270</a><li> mapreduce(f, op, a1::<b>StaticArrays.StaticArray</b>) at <a href=\"https://github.com/JuliaArrays/StaticArrays.jl/tree/b43192c9a1b16cfbbcac6d93825d2ec0addb5ec9/src/mapreduce.jl#L99\" target=\"_blank\">/home/ubuntu/.julia/v0.5/StaticArrays/src/mapreduce.jl:99</a><li> mapreduce(f, op, a1::<b>StaticArrays.StaticArray</b>, a2::<b>StaticArrays.StaticArray</b>) at <a href=\"https://github.com/JuliaArrays/StaticArrays.jl/tree/b43192c9a1b16cfbbcac6d93825d2ec0addb5ec9/src/mapreduce.jl#L130\" target=\"_blank\">/home/ubuntu/.julia/v0.5/StaticArrays/src/mapreduce.jl:130</a><li> mapreduce(f, op, v0, a1::<b>StaticArrays.StaticArray</b>) at <a href=\"https://github.com/JuliaArrays/StaticArrays.jl/tree/b43192c9a1b16cfbbcac6d93825d2ec0addb5ec9/src/mapreduce.jl#L114\" target=\"_blank\">/home/ubuntu/.julia/v0.5/StaticArrays/src/mapreduce.jl:114</a><li> mapreduce(f, op, v0, a1::<b>StaticArrays.StaticArray</b>, a2::<b>StaticArrays.StaticArray</b>) at <a href=\"https://github.com/JuliaArrays/StaticArrays.jl/tree/b43192c9a1b16cfbbcac6d93825d2ec0addb5ec9/src/mapreduce.jl#L149\" target=\"_blank\">/home/ubuntu/.julia/v0.5/StaticArrays/src/mapreduce.jl:149</a><li> rand!<i>{N}</i>(rng::<b>MersenneTwister</b>, a::<b>StaticArrays.StaticArray{Float64,N}</b>) at <a href=\"https://github.com/JuliaArrays/StaticArrays.jl/tree/b43192c9a1b16cfbbcac6d93825d2ec0addb5ec9/src/arraymath.jl#L136\" target=\"_blank\">/home/ubuntu/.julia/v0.5/StaticArrays/src/arraymath.jl:136</a><li> rand!<i>{SA<:StaticArrays.StaticArray{T,N}}</i>(rng::<b>AbstractRNG</b>, a::<b>SA</b>) at <a href=\"https://github.com/JuliaArrays/StaticArrays.jl/tree/b43192c9a1b16cfbbcac6d93825d2ec0addb5ec9/src/arraymath.jl#L125\" target=\"_blank\">/home/ubuntu/.julia/v0.5/StaticArrays/src/arraymath.jl:125</a><li> randexp!<i>{SA<:StaticArrays.StaticArray{T,N}}</i>(rng::<b>AbstractRNG</b>, a::<b>SA</b>) at <a href=\"https://github.com/JuliaArrays/StaticArrays.jl/tree/b43192c9a1b16cfbbcac6d93825d2ec0addb5ec9/src/arraymath.jl#L157\" target=\"_blank\">/home/ubuntu/.julia/v0.5/StaticArrays/src/arraymath.jl:157</a><li> randn!<i>{SA<:StaticArrays.StaticArray{T,N}}</i>(rng::<b>AbstractRNG</b>, a::<b>SA</b>) at <a href=\"https://github.com/JuliaArrays/StaticArrays.jl/tree/b43192c9a1b16cfbbcac6d93825d2ec0addb5ec9/src/arraymath.jl#L146\" target=\"_blank\">/home/ubuntu/.julia/v0.5/StaticArrays/src/arraymath.jl:146</a><li> reduce(op, a1::<b>StaticArrays.StaticArray</b>) at <a href=\"https://github.com/JuliaArrays/StaticArrays.jl/tree/b43192c9a1b16cfbbcac6d93825d2ec0addb5ec9/src/mapreduce.jl#L64\" target=\"_blank\">/home/ubuntu/.julia/v0.5/StaticArrays/src/mapreduce.jl:64</a><li> reduce(op, v0, a1::<b>StaticArrays.StaticArray</b>) at <a href=\"https://github.com/JuliaArrays/StaticArrays.jl/tree/b43192c9a1b16cfbbcac6d93825d2ec0addb5ec9/src/mapreduce.jl#L79\" target=\"_blank\">/home/ubuntu/.julia/v0.5/StaticArrays/src/mapreduce.jl:79</a><li> reshape<i>{SA<:StaticArrays.StaticArray{T,N}}</i>(a::<b>StaticArrays.StaticArray</b>, ::<b>Type{SA}</b>) at <a href=\"https://github.com/JuliaArrays/StaticArrays.jl/tree/b43192c9a1b16cfbbcac6d93825d2ec0addb5ec9/src/abstractarray.jl#L180\" target=\"_blank\">/home/ubuntu/.julia/v0.5/StaticArrays/src/abstractarray.jl:180</a><li> setindex!<i>{SA<:StaticArrays.StaticArray{T,N},S}</i>(a::<b>SA</b>, vals, inds::<b>Tuple{Vararg{Integer,S}}</b>) at <a href=\"https://github.com/JuliaArrays/StaticArrays.jl/tree/b43192c9a1b16cfbbcac6d93825d2ec0addb5ec9/src/indexing.jl#L61\" target=\"_blank\">/home/ubuntu/.julia/v0.5/StaticArrays/src/indexing.jl:61</a><li> setindex!<i>{SA<:StaticArrays.StaticArray{T,N}}</i>(a::<b>SA</b>, vals, ::<b>Colon</b>) at <a href=\"https://github.com/JuliaArrays/StaticArrays.jl/tree/b43192c9a1b16cfbbcac6d93825d2ec0addb5ec9/src/indexing.jl#L108\" target=\"_blank\">/home/ubuntu/.julia/v0.5/StaticArrays/src/indexing.jl:108</a><li> setindex!(a::<b>StaticArrays.StaticArray</b>, val, i1::<b>Integer</b>, i2::<b>Integer</b>, i3::<b>Integer</b>) at <a href=\"https://github.com/JuliaArrays/StaticArrays.jl/tree/b43192c9a1b16cfbbcac6d93825d2ec0addb5ec9/src/indexing.jl#L356\" target=\"_blank\">/home/ubuntu/.julia/v0.5/StaticArrays/src/indexing.jl:356</a><li> setindex!(a::<b>StaticArrays.StaticArray</b>, val, i1::<b>Integer</b>, i2::<b>Integer</b>, i_n::<b>Integer...</b>) at <a href=\"https://github.com/JuliaArrays/StaticArrays.jl/tree/b43192c9a1b16cfbbcac6d93825d2ec0addb5ec9/src/indexing.jl#L379\" target=\"_blank\">/home/ubuntu/.julia/v0.5/StaticArrays/src/indexing.jl:379</a><li> similar<i>{SA<:StaticArrays.StaticArray{T,N}}</i>(m::<b>SA</b>) at <a href=\"https://github.com/JuliaArrays/StaticArrays.jl/tree/b43192c9a1b16cfbbcac6d93825d2ec0addb5ec9/src/abstractarray.jl#L139\" target=\"_blank\">/home/ubuntu/.julia/v0.5/StaticArrays/src/abstractarray.jl:139</a><li> similar<i>{SA<:StaticArrays.StaticArray{T,N},T}</i>(m::<b>SA</b>, ::<b>Type{T}</b>) at <a href=\"https://github.com/JuliaArrays/StaticArrays.jl/tree/b43192c9a1b16cfbbcac6d93825d2ec0addb5ec9/src/abstractarray.jl#L140\" target=\"_blank\">/home/ubuntu/.julia/v0.5/StaticArrays/src/abstractarray.jl:140</a><li> similar<i>{T}</i>(::<b>StaticArrays.StaticArray</b>, ::<b>Type{T}</b>, sizes::<b>Tuple{Int64}</b>) at <a href=\"https://github.com/JuliaArrays/StaticArrays.jl/tree/b43192c9a1b16cfbbcac6d93825d2ec0addb5ec9/src/abstractarray.jl#L131\" target=\"_blank\">/home/ubuntu/.julia/v0.5/StaticArrays/src/abstractarray.jl:131</a><li> similar<i>{T}</i>(::<b>StaticArrays.StaticArray</b>, ::<b>Type{T}</b>, size::<b>Int64</b>) at <a href=\"https://github.com/JuliaArrays/StaticArrays.jl/tree/b43192c9a1b16cfbbcac6d93825d2ec0addb5ec9/src/abstractarray.jl#L132\" target=\"_blank\">/home/ubuntu/.julia/v0.5/StaticArrays/src/abstractarray.jl:132</a><li> similar(a::<b>StaticArrays.StaticArray</b>, T::<b>Type</b>, sizes::<b>Tuple{Int64,Int64}</b>) at <a href=\"https://github.com/JuliaArrays/StaticArrays.jl/tree/b43192c9a1b16cfbbcac6d93825d2ec0addb5ec9/src/abstractarray.jl#L137\" target=\"_blank\">/home/ubuntu/.julia/v0.5/StaticArrays/src/abstractarray.jl:137</a><li> similar<i>{SA<:StaticArrays.StaticArray{T,N},N,T}</i>(m::<b>SA</b>, ::<b>Type{T}</b>, sizes::<b>Tuple{Vararg{Int64,N}}</b>) at <a href=\"https://github.com/JuliaArrays/StaticArrays.jl/tree/b43192c9a1b16cfbbcac6d93825d2ec0addb5ec9/src/abstractarray.jl#L142\" target=\"_blank\">/home/ubuntu/.julia/v0.5/StaticArrays/src/abstractarray.jl:142</a><li> similar<i>{SA<:StaticArrays.StaticArray{T,N}}</i>(::<b>SA</b>, sizes::<b>Tuple{Int64}</b>) at <a href=\"https://github.com/JuliaArrays/StaticArrays.jl/tree/b43192c9a1b16cfbbcac6d93825d2ec0addb5ec9/src/abstractarray.jl#L129\" target=\"_blank\">/home/ubuntu/.julia/v0.5/StaticArrays/src/abstractarray.jl:129</a><li> similar<i>{SA<:StaticArrays.StaticArray{T,N}}</i>(::<b>SA</b>, size::<b>Int64</b>) at <a href=\"https://github.com/JuliaArrays/StaticArrays.jl/tree/b43192c9a1b16cfbbcac6d93825d2ec0addb5ec9/src/abstractarray.jl#L130\" target=\"_blank\">/home/ubuntu/.julia/v0.5/StaticArrays/src/abstractarray.jl:130</a><li> similar<i>{SA<:StaticArrays.StaticArray{T,N}}</i>(::<b>SA</b>, sizes::<b>Tuple{Int64,Int64}</b>) at <a href=\"https://github.com/JuliaArrays/StaticArrays.jl/tree/b43192c9a1b16cfbbcac6d93825d2ec0addb5ec9/src/abstractarray.jl#L136\" target=\"_blank\">/home/ubuntu/.julia/v0.5/StaticArrays/src/abstractarray.jl:136</a><li> similar<i>{SA<:StaticArrays.StaticArray{T,N},N}</i>(m::<b>SA</b>, sizes::<b>Tuple{Vararg{Int64,N}}</b>) at <a href=\"https://github.com/JuliaArrays/StaticArrays.jl/tree/b43192c9a1b16cfbbcac6d93825d2ec0addb5ec9/src/abstractarray.jl#L141\" target=\"_blank\">/home/ubuntu/.julia/v0.5/StaticArrays/src/abstractarray.jl:141</a><li> size(x::<b>StaticArrays.StaticArray</b>) at <a href=\"https://github.com/JuliaArrays/StaticArrays.jl/tree/b43192c9a1b16cfbbcac6d93825d2ec0addb5ec9/src/core.jl#L152\" target=\"_blank\">/home/ubuntu/.julia/v0.5/StaticArrays/src/core.jl:152</a><li> vecdot(a::<b>StaticArrays.StaticArray</b>, b::<b>StaticArrays.StaticArray</b>) at <a href=\"https://github.com/JuliaArrays/StaticArrays.jl/tree/b43192c9a1b16cfbbcac6d93825d2ec0addb5ec9/src/linalg.jl#L273\" target=\"_blank\">/home/ubuntu/.julia/v0.5/StaticArrays/src/linalg.jl:273</a><li> vecnorm(a::<b>StaticArrays.StaticArray</b>) at <a href=\"https://github.com/JuliaArrays/StaticArrays.jl/tree/b43192c9a1b16cfbbcac6d93825d2ec0addb5ec9/src/linalg.jl#L294\" target=\"_blank\">/home/ubuntu/.julia/v0.5/StaticArrays/src/linalg.jl:294</a><li> vecnorm(a::<b>StaticArrays.StaticArray</b>, p::<b>Real</b>) at <a href=\"https://github.com/JuliaArrays/StaticArrays.jl/tree/b43192c9a1b16cfbbcac6d93825d2ec0addb5ec9/src/linalg.jl#L310\" target=\"_blank\">/home/ubuntu/.julia/v0.5/StaticArrays/src/linalg.jl:310</a></ul>"
      ],
      "text/plain": [
       "99-element Array{Method,1}:\n",
       " *{TA<:Union{Complex{Float32},Complex{Float64},Float32,Float64},Tb}(A::StaticArrays.StaticArray{TA,2}, b::StaticArrays.StaticArray{Tb,1}) at /home/ubuntu/.julia/v0.5/StaticArrays/src/matrix_multiply.jl:134                                                                                                                                                                                                                                                                                                                                                                                                                                                                                                                                                                                                                                                                                                                                                                                                                   \n",
       " *{TA,Tb}(A::StaticArrays.StaticArray{TA,2}, b::StaticArrays.StaticArray{Tb,1}) at /home/ubuntu/.julia/v0.5/StaticArrays/src/matrix_multiply.jl:95                                                                                                                                                                                                                                                                                                                                                                                                                                                                                                                                                                                                                                                                                                                                                                                                                                                                              \n",
       " *{TA<:Union{Complex{Float32},Complex{Float64},Float32,Float64},Tb}(A::StaticArrays.StaticArray{TA,2}, b::Union{Base.ReshapedArray{Tb,1,A<:DenseArray,MI<:Tuple{Vararg{Base.MultiplicativeInverses.SignedMultiplicativeInverse{Int64},N<:Any}}},DenseArray{Tb,1},SubArray{Tb,1,A<:Union{Base.ReshapedArray{T<:Any,N<:Any,A<:DenseArray,MI<:Tuple{Vararg{Base.MultiplicativeInverses.SignedMultiplicativeInverse{Int64},N<:Any}}},DenseArray},I<:Tuple{Vararg{Union{Base.AbstractCartesianIndex,Colon,Int64,Range{Int64}},N<:Any}},L<:Any}}) at /home/ubuntu/.julia/v0.5/StaticArrays/src/matrix_multiply.jl:202                                                                                                                                                                                                                                                                                                                                                                                                                 \n",
       " *(a::StaticArrays.StaticArray, b::Number) at /home/ubuntu/.julia/v0.5/StaticArrays/src/linalg.jl:26                                                                                                                                                                                                                                                                                                                                                                                                                                                                                                                                                                                                                                                                                                                                                                                                                                                                                                                            \n",
       " *{TA,Tb}(A::StaticArrays.StaticArray{TA,2}, b::AbstractArray{Tb,1}) at /home/ubuntu/.julia/v0.5/StaticArrays/src/matrix_multiply.jl:173                                                                                                                                                                                                                                                                                                                                                                                                                                                                                                                                                                                                                                                                                                                                                                                                                                                                                        \n",
       " *(a::Number, b::StaticArrays.StaticArray) at /home/ubuntu/.julia/v0.5/StaticArrays/src/linalg.jl:25                                                                                                                                                                                                                                                                                                                                                                                                                                                                                                                                                                                                                                                                                                                                                                                                                                                                                                                            \n",
       " +(a::StaticArrays.StaticArray, b::StaticArrays.StaticArray) at /home/ubuntu/.julia/v0.5/StaticArrays/src/linalg.jl:10                                                                                                                                                                                                                                                                                                                                                                                                                                                                                                                                                                                                                                                                                                                                                                                                                                                                                                          \n",
       " +(a::StaticArrays.StaticArray, b::AbstractArray) at /home/ubuntu/.julia/v0.5/StaticArrays/src/linalg.jl:12                                                                                                                                                                                                                                                                                                                                                                                                                                                                                                                                                                                                                                                                                                                                                                                                                                                                                                                     \n",
       " +(a::StaticArrays.StaticArray, b::Number) at /home/ubuntu/.julia/v0.5/StaticArrays/src/linalg.jl:20                                                                                                                                                                                                                                                                                                                                                                                                                                                                                                                                                                                                                                                                                                                                                                                                                                                                                                                            \n",
       " +(a::AbstractArray, b::StaticArrays.StaticArray) at /home/ubuntu/.julia/v0.5/StaticArrays/src/linalg.jl:11                                                                                                                                                                                                                                                                                                                                                                                                                                                                                                                                                                                                                                                                                                                                                                                                                                                                                                                     \n",
       " +(a::Number, b::StaticArrays.StaticArray) at /home/ubuntu/.julia/v0.5/StaticArrays/src/linalg.jl:19                                                                                                                                                                                                                                                                                                                                                                                                                                                                                                                                                                                                                                                                                                                                                                                                                                                                                                                            \n",
       " -(a::StaticArrays.StaticArray) at /home/ubuntu/.julia/v0.5/StaticArrays/src/linalg.jl:6                                                                                                                                                                                                                                                                                                                                                                                                                                                                                                                                                                                                                                                                                                                                                                                                                                                                                                                                        \n",
       " -(a::StaticArrays.StaticArray, b::StaticArrays.StaticArray) at /home/ubuntu/.julia/v0.5/StaticArrays/src/linalg.jl:14                                                                                                                                                                                                                                                                                                                                                                                                                                                                                                                                                                                                                                                                                                                                                                                                                                                                                                          \n",
       " -(a::StaticArrays.StaticArray, b::AbstractArray) at /home/ubuntu/.julia/v0.5/StaticArrays/src/linalg.jl:16                                                                                                                                                                                                                                                                                                                                                                                                                                                                                                                                                                                                                                                                                                                                                                                                                                                                                                                     \n",
       " -(a::StaticArrays.StaticArray, b::Number) at /home/ubuntu/.julia/v0.5/StaticArrays/src/linalg.jl:23                                                                                                                                                                                                                                                                                                                                                                                                                                                                                                                                                                                                                                                                                                                                                                                                                                                                                                                            \n",
       " -(a::AbstractArray, b::StaticArrays.StaticArray) at /home/ubuntu/.julia/v0.5/StaticArrays/src/linalg.jl:15                                                                                                                                                                                                                                                                                                                                                                                                                                                                                                                                                                                                                                                                                                                                                                                                                                                                                                                     \n",
       " -(a::Number, b::StaticArrays.StaticArray) at /home/ubuntu/.julia/v0.5/StaticArrays/src/linalg.jl:22                                                                                                                                                                                                                                                                                                                                                                                                                                                                                                                                                                                                                                                                                                                                                                                                                                                                                                                            \n",
       " .*(a1::Number, a2::StaticArrays.StaticArray) at /home/ubuntu/.julia/v0.5/StaticArrays/src/arraymath.jl:24                                                                                                                                                                                                                                                                                                                                                                                                                                                                                                                                                                                                                                                                                                                                                                                                                                                                                                                      \n",
       " .*(a1::StaticArrays.StaticArray, a2::Number) at /home/ubuntu/.julia/v0.5/StaticArrays/src/arraymath.jl:19                                                                                                                                                                                                                                                                                                                                                                                                                                                                                                                                                                                                                                                                                                                                                                                                                                                                                                                      \n",
       " .*(a1::StaticArrays.StaticArray, a2::StaticArrays.StaticArray) at /home/ubuntu/.julia/v0.5/StaticArrays/src/arraymath.jl:14                                                                                                                                                                                                                                                                                                                                                                                                                                                                                                                                                                                                                                                                                                                                                                                                                                                                                                    \n",
       " .+(a1::Number, a2::StaticArrays.StaticArray) at /home/ubuntu/.julia/v0.5/StaticArrays/src/arraymath.jl:22                                                                                                                                                                                                                                                                                                                                                                                                                                                                                                                                                                                                                                                                                                                                                                                                                                                                                                                      \n",
       " .+(a1::StaticArrays.StaticArray, a2::Number) at /home/ubuntu/.julia/v0.5/StaticArrays/src/arraymath.jl:17                                                                                                                                                                                                                                                                                                                                                                                                                                                                                                                                                                                                                                                                                                                                                                                                                                                                                                                      \n",
       " .+(a1::StaticArrays.StaticArray, a2::StaticArrays.StaticArray) at /home/ubuntu/.julia/v0.5/StaticArrays/src/arraymath.jl:12                                                                                                                                                                                                                                                                                                                                                                                                                                                                                                                                                                                                                                                                                                                                                                                                                                                                                                    \n",
       " .-(a1::Number, a2::StaticArrays.StaticArray) at /home/ubuntu/.julia/v0.5/StaticArrays/src/arraymath.jl:23                                                                                                                                                                                                                                                                                                                                                                                                                                                                                                                                                                                                                                                                                                                                                                                                                                                                                                                      \n",
       " .-(a1::StaticArrays.StaticArray) at /home/ubuntu/.julia/v0.5/StaticArrays/src/arraymath.jl:10                                                                                                                                                                                                                                                                                                                                                                                                                                                                                                                                                                                                                                                                                                                                                                                                                                                                                                                                  \n",
       " .-(a1::StaticArrays.StaticArray, a2::Number) at /home/ubuntu/.julia/v0.5/StaticArrays/src/arraymath.jl:18                                                                                                                                                                                                                                                                                                                                                                                                                                                                                                                                                                                                                                                                                                                                                                                                                                                                                                                      \n",
       " .-(a1::StaticArrays.StaticArray, a2::StaticArrays.StaticArray) at /home/ubuntu/.julia/v0.5/StaticArrays/src/arraymath.jl:13                                                                                                                                                                                                                                                                                                                                                                                                                                                                                                                                                                                                                                                                                                                                                                                                                                                                                                    \n",
       " ./(a1::Number, a2::StaticArrays.StaticArray) at /home/ubuntu/.julia/v0.5/StaticArrays/src/arraymath.jl:25                                                                                                                                                                                                                                                                                                                                                                                                                                                                                                                                                                                                                                                                                                                                                                                                                                                                                                                      \n",
       " ./(a1::StaticArrays.StaticArray, a2::Number) at /home/ubuntu/.julia/v0.5/StaticArrays/src/arraymath.jl:20                                                                                                                                                                                                                                                                                                                                                                                                                                                                                                                                                                                                                                                                                                                                                                                                                                                                                                                      \n",
       " ./(a1::StaticArrays.StaticArray, a2::StaticArrays.StaticArray) at /home/ubuntu/.julia/v0.5/StaticArrays/src/arraymath.jl:15                                                                                                                                                                                                                                                                                                                                                                                                                                                                                                                                                                                                                                                                                                                                                                                                                                                                                                    \n",
       " /(a::StaticArrays.StaticArray, b::Number) at /home/ubuntu/.julia/v0.5/StaticArrays/src/linalg.jl:28                                                                                                                                                                                                                                                                                                                                                                                                                                                                                                                                                                                                                                                                                                                                                                                                                                                                                                                            \n",
       " A_mul_B!{T<:Union{Float32,Float64}}(c::StaticArrays.StaticArray{T,1}, A::StaticArrays.StaticArray{T,2}, b::StaticArrays.StaticArray{T,1}) at /home/ubuntu/.julia/v0.5/StaticArrays/src/matrix_multiply.jl:518                                                                                                                                                                                                                                                                                                                                                                                                                                                                                                                                                                                                                                                                                                                                                                                                                  \n",
       " A_mul_B!{T<:Union{Complex{Float32},Complex{Float64}}}(c::StaticArrays.StaticArray{T,1}, A::StaticArrays.StaticArray{T,2}, b::StaticArrays.StaticArray{T,1}) at /home/ubuntu/.julia/v0.5/StaticArrays/src/matrix_multiply.jl:538                                                                                                                                                                                                                                                                                                                                                                                                                                                                                                                                                                                                                                                                                                                                                                                                \n",
       " A_mul_B!{T1,T2,T3}(c::StaticArrays.StaticArray{T1,1}, A::StaticArrays.StaticArray{T2,2}, b::StaticArrays.StaticArray{T3,1}) at /home/ubuntu/.julia/v0.5/StaticArrays/src/matrix_multiply.jl:496                                                                                                                                                                                                                                                                                                                                                                                                                                                                                                                                                                                                                                                                                                                                                                                                                                \n",
       " A_mul_B!{T<:Union{Float32,Float64}}(c::Union{Base.ReshapedArray{T,1,A<:DenseArray,MI<:Tuple{Vararg{Base.MultiplicativeInverses.SignedMultiplicativeInverse{Int64},N<:Any}}},DenseArray{T,1},SubArray{T,1,A<:Union{Base.ReshapedArray{T<:Any,N<:Any,A<:DenseArray,MI<:Tuple{Vararg{Base.MultiplicativeInverses.SignedMultiplicativeInverse{Int64},N<:Any}}},DenseArray},I<:Tuple{Vararg{Union{Base.AbstractCartesianIndex,Colon,Int64,Range{Int64}},N<:Any}},L<:Any}}, A::StaticArrays.StaticArray{T,2}, b::Union{Base.ReshapedArray{T,1,A<:DenseArray,MI<:Tuple{Vararg{Base.MultiplicativeInverses.SignedMultiplicativeInverse{Int64},N<:Any}}},DenseArray{T,1},SubArray{T,1,A<:Union{Base.ReshapedArray{T<:Any,N<:Any,A<:DenseArray,MI<:Tuple{Vararg{Base.MultiplicativeInverses.SignedMultiplicativeInverse{Int64},N<:Any}}},DenseArray},I<:Tuple{Vararg{Union{Base.AbstractCartesianIndex,Colon,Int64,Range{Int64}},N<:Any}},L<:Any}}) at /home/ubuntu/.julia/v0.5/StaticArrays/src/matrix_multiply.jl:582                  \n",
       " A_mul_B!{T<:Union{Complex{Float32},Complex{Float64}}}(c::Union{Base.ReshapedArray{T,1,A<:DenseArray,MI<:Tuple{Vararg{Base.MultiplicativeInverses.SignedMultiplicativeInverse{Int64},N<:Any}}},DenseArray{T,1},SubArray{T,1,A<:Union{Base.ReshapedArray{T<:Any,N<:Any,A<:DenseArray,MI<:Tuple{Vararg{Base.MultiplicativeInverses.SignedMultiplicativeInverse{Int64},N<:Any}}},DenseArray},I<:Tuple{Vararg{Union{Base.AbstractCartesianIndex,Colon,Int64,Range{Int64}},N<:Any}},L<:Any}}, A::StaticArrays.StaticArray{T,2}, b::Union{Base.ReshapedArray{T,1,A<:DenseArray,MI<:Tuple{Vararg{Base.MultiplicativeInverses.SignedMultiplicativeInverse{Int64},N<:Any}}},DenseArray{T,1},SubArray{T,1,A<:Union{Base.ReshapedArray{T<:Any,N<:Any,A<:DenseArray,MI<:Tuple{Vararg{Base.MultiplicativeInverses.SignedMultiplicativeInverse{Int64},N<:Any}}},DenseArray},I<:Tuple{Vararg{Union{Base.AbstractCartesianIndex,Colon,Int64,Range{Int64}},N<:Any}},L<:Any}}) at /home/ubuntu/.julia/v0.5/StaticArrays/src/matrix_multiply.jl:599\n",
       " A_mul_B!{T1,T2,T3}(c::AbstractArray{T1,1}, A::StaticArrays.StaticArray{T2,2}, b::AbstractArray{T3,1}) at /home/ubuntu/.julia/v0.5/StaticArrays/src/matrix_multiply.jl:560                                                                                                                                                                                                                                                                                                                                                                                                                                                                                                                                                                                                                                                                                                                                                                                                                                                      \n",
       " \\(a::Number, b::StaticArrays.StaticArray) at /home/ubuntu/.julia/v0.5/StaticArrays/src/linalg.jl:29                                                                                                                                                                                                                                                                                                                                                                                                                                                                                                                                                                                                                                                                                                                                                                                                                                                                                                                            \n",
       " \\{T}(A::StaticArrays.StaticArray{T,2}, b::StaticArrays.StaticArray{T,1}) at /home/ubuntu/.julia/v0.5/StaticArrays/src/solve.jl:2                                                                                                                                                                                                                                                                                                                                                                                                                                                                                                                                                                                                                                                                                                                                                                                                                                                                                               \n",
       " broadcast(f, a::StaticArrays.StaticArray) at /home/ubuntu/.julia/v0.5/StaticArrays/src/mapreduce.jl:173                                                                                                                                                                                                                                                                                                                                                                                                                                                                                                                                                                                                                                                                                                                                                                                                                                                                                                                        \n",
       " broadcast(f, a1::StaticArrays.StaticArray, a2::StaticArrays.StaticArray) at /home/ubuntu/.julia/v0.5/StaticArrays/src/mapreduce.jl:178                                                                                                                                                                                                                                                                                                                                                                                                                                                                                                                                                                                                                                                                                                                                                                                                                                                                                         \n",
       " broadcast(f, a::StaticArrays.StaticArray, n::Number) at /home/ubuntu/.julia/v0.5/StaticArrays/src/mapreduce.jl:250                                                                                                                                                                                                                                                                                                                                                                                                                                                                                                                                                                                                                                                                                                                                                                                                                                                                                                             \n",
       " broadcast(f, n::Number, a::StaticArrays.StaticArray) at /home/ubuntu/.julia/v0.5/StaticArrays/src/mapreduce.jl:251                                                                                                                                                                                                                                                                                                                                                                                                                                                                                                                                                                                                                                                                                                                                                                                                                                                                                                             \n",
       " broadcast!(f::Base.#identity, out::StaticArrays.StaticArray, a::StaticArrays.StaticArray) at /home/ubuntu/.julia/v0.5/StaticArrays/src/mapreduce.jl:291                                                                                                                                                                                                                                                                                                                                                                                                                                                                                                                                                                                                                                                                                                                                                                                                                                                                        \n",
       " broadcast!{F}(f::F, out::StaticArrays.StaticArray, a::StaticArrays.StaticArray) at /home/ubuntu/.julia/v0.5/StaticArrays/src/mapreduce.jl:290                                                                                                                                                                                                                                                                                                                                                                                                                                                                                                                                                                                                                                                                                                                                                                                                                                                                                  \n",
       " broadcast!{F}(f::F, out::StaticArrays.StaticArray, a1::StaticArrays.StaticArray, a2::StaticArrays.StaticArray) at /home/ubuntu/.julia/v0.5/StaticArrays/src/mapreduce.jl:295                                                                                                                                                                                                                                                                                                                                                                                                                                                                                                                                                                                                                                                                                                                                                                                                                                                   \n",
       " conj(a::StaticArrays.StaticArray) at /home/ubuntu/.julia/v0.5/StaticArrays/src/linalg.jl:104                                                                                                                                                                                                                                                                                                                                                                                                                                                                                                                                                                                                                                                                                                                                                                                                                                                                                                                                   \n",
       " convert{SA<:StaticArrays.StaticArray{T,N}}(::Type{SA}, sa::StaticArrays.StaticArray) at /home/ubuntu/.julia/v0.5/StaticArrays/src/core.jl:69                                                                                                                                                                                                                                                                                                                                                                                                                                                                                                                                                                                                                                                                                                                                                                                                                                                                                   \n",
       " convert{T}(::Type{Array{T<:Any,1}}, sa::StaticArrays.StaticArray{T,1}) at /home/ubuntu/.julia/v0.5/StaticArrays/src/core.jl:118                                                                                                                                                                                                                                                                                                                                                                                                                                                                                                                                                                                                                                                                                                                                                                                                                                                                                                \n",
       " convert{T}(::Type{Array{T<:Any,2}}, sa::StaticArrays.StaticArray{T,2}) at /home/ubuntu/.julia/v0.5/StaticArrays/src/core.jl:110                                                                                                                                                                                                                                                                                                                                                                                                                                                                                                                                                                                                                                                                                                                                                                                                                                                                                                \n",
       " convert{T,N}(::Type{Array{T,N}}, sa::StaticArrays.StaticArray{T,N}) at /home/ubuntu/.julia/v0.5/StaticArrays/src/core.jl:102                                                                                                                                                                                                                                                                                                                                                                                                                                                                                                                                                                                                                                                                                                                                                                                                                                                                                                   \n",
       " convert{T,N}(::Type{Array{T,N<:Any}}, sa::StaticArrays.StaticArray{T,N}) at /home/ubuntu/.julia/v0.5/StaticArrays/src/core.jl:94                                                                                                                                                                                                                                                                                                                                                                                                                                                                                                                                                                                                                                                                                                                                                                                                                                                                                               \n",
       " convert{T,N}(::Type{Array}, sa::StaticArrays.StaticArray{T,N}) at /home/ubuntu/.julia/v0.5/StaticArrays/src/core.jl:86                                                                                                                                                                                                                                                                                                                                                                                                                                                                                                                                                                                                                                                                                                                                                                                                                                                                                                         \n",
       " convert{S1,S2,T}(::Type{StaticArrays.SMatrix{S1,S2,T<:Any,L<:Any}}, a::StaticArrays.StaticArray{T,N<:Any}) at /home/ubuntu/.julia/v0.5/StaticArrays/src/SMatrix.jl:77                                                                                                                                                                                                                                                                                                                                                                                                                                                                                                                                                                                                                                                                                                                                                                                                                                                          \n",
       " convert{S1,S2,T}(::Type{StaticArrays.MMatrix{S1,S2,T<:Any,L<:Any}}, a::StaticArrays.StaticArray{T,N<:Any}) at /home/ubuntu/.julia/v0.5/StaticArrays/src/MMatrix.jl:90                                                                                                                                                                                                                                                                                                                                                                                                                                                                                                                                                                                                                                                                                                                                                                                                                                                          \n",
       " convert(::Type{Tuple}, a::StaticArrays.StaticArray) at /home/ubuntu/.julia/v0.5/StaticArrays/src/core.jl:136                                                                                                                                                                                                                                                                                                                                                                                                                                                                                                                                                                                                                                                                                                                                                                                                                                                                                                                   \n",
       " det{T}(A::StaticArrays.StaticArray{T,2}) at /home/ubuntu/.julia/v0.5/StaticArrays/src/det.jl:3                                                                                                                                                                                                                                                                                                                                                                                                                                                                                                                                                                                                                                                                                                                                                                                                                                                                                                                                 \n",
       " fill!{SA<:StaticArrays.StaticArray{T,N}}(a::SA, val) at /home/ubuntu/.julia/v0.5/StaticArrays/src/arraymath.jl:113                                                                                                                                                                                                                                                                                                                                                                                                                                                                                                                                                                                                                                                                                                                                                                                                                                                                                                             \n",
       " getindex{SA<:StaticArrays.StaticArray{T,N},S}(a::SA, inds::Tuple{Vararg{Integer,S}}) at /home/ubuntu/.julia/v0.5/StaticArrays/src/indexing.jl:7                                                                                                                                                                                                                                                                                                                                                                                                                                                                                                                                                                                                                                                                                                                                                                                                                                                                                \n",
       " getindex{SA<:StaticArrays.StaticArray{T,N}}(a::SA, ::Colon) at /home/ubuntu/.julia/v0.5/StaticArrays/src/indexing.jl:27                                                                                                                                                                                                                                                                                                                                                                                                                                                                                                                                                                                                                                                                                                                                                                                                                                                                                                        \n",
       " getindex(a::StaticArrays.StaticArray, i1::Integer, i2::Integer, i3::Integer) at /home/ubuntu/.julia/v0.5/StaticArrays/src/indexing.jl:302                                                                                                                                                                                                                                                                                                                                                                                                                                                                                                                                                                                                                                                                                                                                                                                                                                                                                      \n",
       " getindex(a::StaticArrays.StaticArray, i1::Integer, i2::Integer, i_n::Integer...) at /home/ubuntu/.julia/v0.5/StaticArrays/src/indexing.jl:325                                                                                                                                                                                                                                                                                                                                                                                                                                                                                                                                                                                                                                                                                                                                                                                                                                                                                  \n",
       " inv{T}(A::StaticArrays.StaticArray{T,2}) at /home/ubuntu/.julia/v0.5/StaticArrays/src/inv.jl:3                                                                                                                                                                                                                                                                                                                                                                                                                                                                                                                                                                                                                                                                                                                                                                                                                                                                                                                                 \n",
       " isassigned(a::StaticArrays.StaticArray, i::Int64...) at /home/ubuntu/.julia/v0.5/StaticArrays/src/abstractarray.jl:13                                                                                                                                                                                                                                                                                                                                                                                                                                                                                                                                                                                                                                                                                                                                                                                                                                                                                                          \n",
       " map{T}(f, a1::StaticArrays.StaticArray{T,N<:Any}) at /home/ubuntu/.julia/v0.5/StaticArrays/src/mapreduce.jl:7                                                                                                                                                                                                                                                                                                                                                                                                                                                                                                                                                                                                                                                                                                                                                                                                                                                                                                                  \n",
       " map{T1,T2}(f, a1::StaticArrays.StaticArray{T1,N<:Any}, a2::StaticArrays.StaticArray{T2,N<:Any}) at /home/ubuntu/.julia/v0.5/StaticArrays/src/mapreduce.jl:17                                                                                                                                                                                                                                                                                                                                                                                                                                                                                                                                                                                                                                                                                                                                                                                                                                                                   \n",
       " map{T1,T2}(f, a1::StaticArrays.StaticArray{T1,N<:Any}, a2::AbstractArray{T2,N<:Any}) at /home/ubuntu/.julia/v0.5/StaticArrays/src/mapreduce.jl:31                                                                                                                                                                                                                                                                                                                                                                                                                                                                                                                                                                                                                                                                                                                                                                                                                                                                              \n",
       " map{T1,T2}(f, a1::AbstractArray{T1,N<:Any}, a2::StaticArrays.StaticArray{T2,N<:Any}) at /home/ubuntu/.julia/v0.5/StaticArrays/src/mapreduce.jl:45                                                                                                                                                                                                                                                                                                                                                                                                                                                                                                                                                                                                                                                                                                                                                                                                                                                                              \n",
       " map!{F}(f::F, out::StaticArrays.StaticArray, a1::StaticArrays.StaticArray) at /home/ubuntu/.julia/v0.5/StaticArrays/src/mapreduce.jl:261                                                                                                                                                                                                                                                                                                                                                                                                                                                                                                                                                                                                                                                                                                                                                                                                                                                                                       \n",
       " map!{F}(f::F, out::StaticArrays.StaticArray, a1::StaticArrays.StaticArray, a2::StaticArrays.StaticArray) at /home/ubuntu/.julia/v0.5/StaticArrays/src/mapreduce.jl:270                                                                                                                                                                                                                                                                                                                                                                                                                                                                                                                                                                                                                                                                                                                                                                                                                                                         \n",
       " mapreduce(f, op, a1::StaticArrays.StaticArray) at /home/ubuntu/.julia/v0.5/StaticArrays/src/mapreduce.jl:99                                                                                                                                                                                                                                                                                                                                                                                                                                                                                                                                                                                                                                                                                                                                                                                                                                                                                                                    \n",
       " mapreduce(f, op, a1::StaticArrays.StaticArray, a2::StaticArrays.StaticArray) at /home/ubuntu/.julia/v0.5/StaticArrays/src/mapreduce.jl:130                                                                                                                                                                                                                                                                                                                                                                                                                                                                                                                                                                                                                                                                                                                                                                                                                                                                                     \n",
       " mapreduce(f, op, v0, a1::StaticArrays.StaticArray) at /home/ubuntu/.julia/v0.5/StaticArrays/src/mapreduce.jl:114                                                                                                                                                                                                                                                                                                                                                                                                                                                                                                                                                                                                                                                                                                                                                                                                                                                                                                               \n",
       " mapreduce(f, op, v0, a1::StaticArrays.StaticArray, a2::StaticArrays.StaticArray) at /home/ubuntu/.julia/v0.5/StaticArrays/src/mapreduce.jl:149                                                                                                                                                                                                                                                                                                                                                                                                                                                                                                                                                                                                                                                                                                                                                                                                                                                                                 \n",
       " rand!{N}(rng::MersenneTwister, a::StaticArrays.StaticArray{Float64,N}) at /home/ubuntu/.julia/v0.5/StaticArrays/src/arraymath.jl:136                                                                                                                                                                                                                                                                                                                                                                                                                                                                                                                                                                                                                                                                                                                                                                                                                                                                                           \n",
       " rand!{SA<:StaticArrays.StaticArray{T,N}}(rng::AbstractRNG, a::SA) at /home/ubuntu/.julia/v0.5/StaticArrays/src/arraymath.jl:125                                                                                                                                                                                                                                                                                                                                                                                                                                                                                                                                                                                                                                                                                                                                                                                                                                                                                                \n",
       " randexp!{SA<:StaticArrays.StaticArray{T,N}}(rng::AbstractRNG, a::SA) at /home/ubuntu/.julia/v0.5/StaticArrays/src/arraymath.jl:157                                                                                                                                                                                                                                                                                                                                                                                                                                                                                                                                                                                                                                                                                                                                                                                                                                                                                             \n",
       " randn!{SA<:StaticArrays.StaticArray{T,N}}(rng::AbstractRNG, a::SA) at /home/ubuntu/.julia/v0.5/StaticArrays/src/arraymath.jl:146                                                                                                                                                                                                                                                                                                                                                                                                                                                                                                                                                                                                                                                                                                                                                                                                                                                                                               \n",
       " reduce(op, a1::StaticArrays.StaticArray) at /home/ubuntu/.julia/v0.5/StaticArrays/src/mapreduce.jl:64                                                                                                                                                                                                                                                                                                                                                                                                                                                                                                                                                                                                                                                                                                                                                                                                                                                                                                                          \n",
       " reduce(op, v0, a1::StaticArrays.StaticArray) at /home/ubuntu/.julia/v0.5/StaticArrays/src/mapreduce.jl:79                                                                                                                                                                                                                                                                                                                                                                                                                                                                                                                                                                                                                                                                                                                                                                                                                                                                                                                      \n",
       " reshape{SA<:StaticArrays.StaticArray{T,N}}(a::StaticArrays.StaticArray, ::Type{SA}) at /home/ubuntu/.julia/v0.5/StaticArrays/src/abstractarray.jl:180                                                                                                                                                                                                                                                                                                                                                                                                                                                                                                                                                                                                                                                                                                                                                                                                                                                                          \n",
       " setindex!{SA<:StaticArrays.StaticArray{T,N},S}(a::SA, vals, inds::Tuple{Vararg{Integer,S}}) at /home/ubuntu/.julia/v0.5/StaticArrays/src/indexing.jl:61                                                                                                                                                                                                                                                                                                                                                                                                                                                                                                                                                                                                                                                                                                                                                                                                                                                                        \n",
       " setindex!{SA<:StaticArrays.StaticArray{T,N}}(a::SA, vals, ::Colon) at /home/ubuntu/.julia/v0.5/StaticArrays/src/indexing.jl:108                                                                                                                                                                                                                                                                                                                                                                                                                                                                                                                                                                                                                                                                                                                                                                                                                                                                                                \n",
       " setindex!(a::StaticArrays.StaticArray, val, i1::Integer, i2::Integer, i3::Integer) at /home/ubuntu/.julia/v0.5/StaticArrays/src/indexing.jl:356                                                                                                                                                                                                                                                                                                                                                                                                                                                                                                                                                                                                                                                                                                                                                                                                                                                                                \n",
       " setindex!(a::StaticArrays.StaticArray, val, i1::Integer, i2::Integer, i_n::Integer...) at /home/ubuntu/.julia/v0.5/StaticArrays/src/indexing.jl:379                                                                                                                                                                                                                                                                                                                                                                                                                                                                                                                                                                                                                                                                                                                                                                                                                                                                            \n",
       " similar{SA<:StaticArrays.StaticArray{T,N}}(m::SA) at /home/ubuntu/.julia/v0.5/StaticArrays/src/abstractarray.jl:139                                                                                                                                                                                                                                                                                                                                                                                                                                                                                                                                                                                                                                                                                                                                                                                                                                                                                                            \n",
       " similar{SA<:StaticArrays.StaticArray{T,N},T}(m::SA, ::Type{T}) at /home/ubuntu/.julia/v0.5/StaticArrays/src/abstractarray.jl:140                                                                                                                                                                                                                                                                                                                                                                                                                                                                                                                                                                                                                                                                                                                                                                                                                                                                                               \n",
       " similar{T}(::StaticArrays.StaticArray, ::Type{T}, sizes::Tuple{Int64}) at /home/ubuntu/.julia/v0.5/StaticArrays/src/abstractarray.jl:131                                                                                                                                                                                                                                                                                                                                                                                                                                                                                                                                                                                                                                                                                                                                                                                                                                                                                       \n",
       " similar{T}(::StaticArrays.StaticArray, ::Type{T}, size::Int64) at /home/ubuntu/.julia/v0.5/StaticArrays/src/abstractarray.jl:132                                                                                                                                                                                                                                                                                                                                                                                                                                                                                                                                                                                                                                                                                                                                                                                                                                                                                               \n",
       " similar(a::StaticArrays.StaticArray, T::Type, sizes::Tuple{Int64,Int64}) at /home/ubuntu/.julia/v0.5/StaticArrays/src/abstractarray.jl:137                                                                                                                                                                                                                                                                                                                                                                                                                                                                                                                                                                                                                                                                                                                                                                                                                                                                                     \n",
       " similar{SA<:StaticArrays.StaticArray{T,N},N,T}(m::SA, ::Type{T}, sizes::Tuple{Vararg{Int64,N}}) at /home/ubuntu/.julia/v0.5/StaticArrays/src/abstractarray.jl:142                                                                                                                                                                                                                                                                                                                                                                                                                                                                                                                                                                                                                                                                                                                                                                                                                                                              \n",
       " similar{SA<:StaticArrays.StaticArray{T,N}}(::SA, sizes::Tuple{Int64}) at /home/ubuntu/.julia/v0.5/StaticArrays/src/abstractarray.jl:129                                                                                                                                                                                                                                                                                                                                                                                                                                                                                                                                                                                                                                                                                                                                                                                                                                                                                        \n",
       " similar{SA<:StaticArrays.StaticArray{T,N}}(::SA, size::Int64) at /home/ubuntu/.julia/v0.5/StaticArrays/src/abstractarray.jl:130                                                                                                                                                                                                                                                                                                                                                                                                                                                                                                                                                                                                                                                                                                                                                                                                                                                                                                \n",
       " similar{SA<:StaticArrays.StaticArray{T,N}}(::SA, sizes::Tuple{Int64,Int64}) at /home/ubuntu/.julia/v0.5/StaticArrays/src/abstractarray.jl:136                                                                                                                                                                                                                                                                                                                                                                                                                                                                                                                                                                                                                                                                                                                                                                                                                                                                                  \n",
       " similar{SA<:StaticArrays.StaticArray{T,N},N}(m::SA, sizes::Tuple{Vararg{Int64,N}}) at /home/ubuntu/.julia/v0.5/StaticArrays/src/abstractarray.jl:141                                                                                                                                                                                                                                                                                                                                                                                                                                                                                                                                                                                                                                                                                                                                                                                                                                                                           \n",
       " size(x::StaticArrays.StaticArray) at /home/ubuntu/.julia/v0.5/StaticArrays/src/core.jl:152                                                                                                                                                                                                                                                                                                                                                                                                                                                                                                                                                                                                                                                                                                                                                                                                                                                                                                                                     \n",
       " vecdot(a::StaticArrays.StaticArray, b::StaticArrays.StaticArray) at /home/ubuntu/.julia/v0.5/StaticArrays/src/linalg.jl:273                                                                                                                                                                                                                                                                                                                                                                                                                                                                                                                                                                                                                                                                                                                                                                                                                                                                                                    \n",
       " vecnorm(a::StaticArrays.StaticArray) at /home/ubuntu/.julia/v0.5/StaticArrays/src/linalg.jl:294                                                                                                                                                                                                                                                                                                                                                                                                                                                                                                                                                                                                                                                                                                                                                                                                                                                                                                                                \n",
       " vecnorm(a::StaticArrays.StaticArray, p::Real) at /home/ubuntu/.julia/v0.5/StaticArrays/src/linalg.jl:310                                                                                                                                                                                                                                                                                                                                                                                                                                                                                                                                                                                                                                                                                                                                                                                                                                                                                                                       "
      ]
     },
     "execution_count": 51,
     "metadata": {},
     "output_type": "execute_result"
    }
   ],
   "source": [
    "methodswith(StaticArray)"
   ]
  },
  {
   "cell_type": "code",
   "execution_count": 11,
   "metadata": {
    "collapsed": false
   },
   "outputs": [
    {
     "data": {
      "text/plain": [
       "3"
      ]
     },
     "execution_count": 11,
     "metadata": {},
     "output_type": "execute_result"
    }
   ],
   "source": [
    "begin\n",
    "    a=2\n",
    "    b=3\n",
    "end"
   ]
  },
  {
   "cell_type": "code",
   "execution_count": 12,
   "metadata": {
    "collapsed": false
   },
   "outputs": [
    {
     "data": {
      "text/plain": [
       "(0,2)"
      ]
     },
     "execution_count": 12,
     "metadata": {},
     "output_type": "execute_result"
    }
   ],
   "source": [
    "0,\n",
    "2"
   ]
  },
  {
   "cell_type": "code",
   "execution_count": 13,
   "metadata": {
    "collapsed": false
   },
   "outputs": [
    {
     "ename": "LoadError",
     "evalue": "syntax: missing comma or ) in argument list",
     "output_type": "error",
     "traceback": [
      "syntax: missing comma or ) in argument list",
      ""
     ]
    }
   ],
   "source": [
    ":(a=2;\n",
    "c=4\n",
    "b=3) |> dump"
   ]
  },
  {
   "cell_type": "code",
   "execution_count": 14,
   "metadata": {
    "collapsed": false
   },
   "outputs": [
    {
     "data": {
      "text/plain": [
       "2-element Array{Int64,1}:\n",
       " 2\n",
       " 3"
      ]
     },
     "execution_count": 14,
     "metadata": {},
     "output_type": "execute_result"
    }
   ],
   "source": [
    "[a=2\n",
    "b=3]"
   ]
  },
  {
   "cell_type": "code",
   "execution_count": 15,
   "metadata": {
    "collapsed": false
   },
   "outputs": [
    {
     "data": {
      "text/plain": [
       "3"
      ]
     },
     "execution_count": 15,
     "metadata": {},
     "output_type": "execute_result"
    }
   ],
   "source": [
    "a=2\n",
    "(a\n",
    "+1\n",
    ")"
   ]
  },
  {
   "cell_type": "code",
   "execution_count": 16,
   "metadata": {
    "collapsed": false
   },
   "outputs": [
    {
     "data": {
      "text/plain": [
       "1"
      ]
     },
     "execution_count": 16,
     "metadata": {},
     "output_type": "execute_result"
    }
   ],
   "source": [
    "a=2\n",
    "(\n",
    "if a>1\n",
    "    a\n",
    "    +1\n",
    "end\n",
    ")\n"
   ]
  },
  {
   "cell_type": "code",
   "execution_count": 17,
   "metadata": {
    "collapsed": false
   },
   "outputs": [
    {
     "data": {
      "text/plain": [
       "1"
      ]
     },
     "execution_count": 17,
     "metadata": {},
     "output_type": "execute_result"
    }
   ],
   "source": [
    "a=2\n",
    "(\n",
    "begin\n",
    "    a\n",
    "    +1\n",
    "end\n",
    ")\n"
   ]
  },
  {
   "cell_type": "code",
   "execution_count": 18,
   "metadata": {
    "collapsed": false
   },
   "outputs": [
    {
     "data": {
      "text/plain": [
       "1"
      ]
     },
     "execution_count": 18,
     "metadata": {},
     "output_type": "execute_result"
    }
   ],
   "source": [
    "a=2\n",
    "begin\n",
    "    a\n",
    "    +1\n",
    "end\n",
    "\n"
   ]
  },
  {
   "cell_type": "code",
   "execution_count": 19,
   "metadata": {
    "collapsed": false
   },
   "outputs": [
    {
     "data": {
      "text/plain": [
       "2-element Array{Int64,1}:\n",
       " 2\n",
       " 1"
      ]
     },
     "execution_count": 19,
     "metadata": {},
     "output_type": "execute_result"
    }
   ],
   "source": [
    "a=2\n",
    "(\n",
    "[\n",
    "    a\n",
    "    +1\n",
    "]\n",
    ")\n"
   ]
  },
  {
   "cell_type": "code",
   "execution_count": 20,
   "metadata": {
    "collapsed": false
   },
   "outputs": [
    {
     "data": {
      "text/plain": [
       "1-element Array{Int64,1}:\n",
       " 3"
      ]
     },
     "execution_count": 20,
     "metadata": {},
     "output_type": "execute_result"
    }
   ],
   "source": [
    "a=2\n",
    "[\n",
    "    (\n",
    "    a\n",
    "    +1\n",
    "    )\n",
    "]\n",
    "\n"
   ]
  },
  {
   "cell_type": "code",
   "execution_count": 21,
   "metadata": {
    "collapsed": false
   },
   "outputs": [
    {
     "data": {
      "text/plain": [
       "30"
      ]
     },
     "metadata": {},
     "output_type": "display_data"
    }
   ],
   "source": [
    "x=[10,20,30]\n",
    "a=2\n",
    "x[a+1] |> display\n",
    "\n"
   ]
  },
  {
   "cell_type": "code",
   "execution_count": 22,
   "metadata": {
    "collapsed": false
   },
   "outputs": [
    {
     "ename": "LoadError",
     "evalue": "MethodError: no method matching typed_vcat(::Array{Int64,1}, ::Int64)\u001b[0m\nClosest candidates are:\n  typed_vcat{T}(\u001b[1m\u001b[31m::Type{T}\u001b[0m, ::Number...) at abstractarray.jl:971\n  typed_vcat(\u001b[1m\u001b[31m::Type{T}\u001b[0m, ::Any...) at abstractarray.jl:1182\u001b[0m",
     "output_type": "error",
     "traceback": [
      "MethodError: no method matching typed_vcat(::Array{Int64,1}, ::Int64)\u001b[0m\nClosest candidates are:\n  typed_vcat{T}(\u001b[1m\u001b[31m::Type{T}\u001b[0m, ::Number...) at abstractarray.jl:971\n  typed_vcat(\u001b[1m\u001b[31m::Type{T}\u001b[0m, ::Any...) at abstractarray.jl:1182\u001b[0m",
      ""
     ]
    }
   ],
   "source": [
    "x[(a+1)  \n",
    "    \n",
    "] |> display"
   ]
  },
  {
   "cell_type": "code",
   "execution_count": 23,
   "metadata": {
    "collapsed": false
   },
   "outputs": [
    {
     "data": {
      "text/plain": [
       "30"
      ]
     },
     "metadata": {},
     "output_type": "display_data"
    }
   ],
   "source": [
    "x[\n",
    "    (\n",
    "    a\n",
    "    +1\n",
    "    )\n",
    "] |> display"
   ]
  },
  {
   "cell_type": "code",
   "execution_count": 24,
   "metadata": {
    "collapsed": false
   },
   "outputs": [
    {
     "data": {
      "text/plain": [
       "20"
      ]
     },
     "execution_count": 24,
     "metadata": {},
     "output_type": "execute_result"
    }
   ],
   "source": [
    "x=[10,20,30]\n",
    "x[(2\n",
    "    \n",
    "    )\n",
    "]"
   ]
  },
  {
   "cell_type": "code",
   "execution_count": 25,
   "metadata": {
    "collapsed": false
   },
   "outputs": [
    {
     "ename": "LoadError",
     "evalue": "MethodError: no method matching typed_vcat(::Array{Float64,2}, ::Int64, ::Int64)\u001b[0m\nClosest candidates are:\n  typed_vcat{T}(\u001b[1m\u001b[31m::Type{T}\u001b[0m, ::Number...) at abstractarray.jl:971\n  typed_vcat(\u001b[1m\u001b[31m::Type{T}\u001b[0m, ::Any...) at abstractarray.jl:1182\u001b[0m",
     "output_type": "error",
     "traceback": [
      "MethodError: no method matching typed_vcat(::Array{Float64,2}, ::Int64, ::Int64)\u001b[0m\nClosest candidates are:\n  typed_vcat{T}(\u001b[1m\u001b[31m::Type{T}\u001b[0m, ::Number...) at abstractarray.jl:971\n  typed_vcat(\u001b[1m\u001b[31m::Type{T}\u001b[0m, ::Any...) at abstractarray.jl:1182\u001b[0m",
      ""
     ]
    }
   ],
   "source": [
    "x=rand(4,4)\n",
    "x[ 2;2    \n",
    "]"
   ]
  },
  {
   "cell_type": "code",
   "execution_count": null,
   "metadata": {
    "collapsed": true
   },
   "outputs": [],
   "source": []
  }
 ],
 "metadata": {
  "kernelspec": {
   "display_name": "Julia 0.5.0",
   "language": "julia",
   "name": "julia-0.5"
  },
  "language_info": {
   "file_extension": ".jl",
   "mimetype": "application/julia",
   "name": "julia",
   "version": "0.5.0"
  }
 },
 "nbformat": 4,
 "nbformat_minor": 0
}
