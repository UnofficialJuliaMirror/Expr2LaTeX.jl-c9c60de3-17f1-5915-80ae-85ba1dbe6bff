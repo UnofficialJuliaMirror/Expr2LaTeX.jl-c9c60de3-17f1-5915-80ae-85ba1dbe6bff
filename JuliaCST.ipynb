{
 "cells": [
  {
   "cell_type": "code",
   "execution_count": 58,
   "metadata": {
    "collapsed": false
   },
   "outputs": [
    {
     "name": "stderr",
     "output_type": "stream",
     "text": [
      "WARNING: could not import Tokenize.Token into Main\n"
     ]
    }
   ],
   "source": [
    "using Tokenize\n",
    "import Tokenize: Tokens, Token"
   ]
  },
  {
   "cell_type": "code",
   "execution_count": null,
   "metadata": {
    "collapsed": true
   },
   "outputs": [],
   "source": []
  },
  {
   "cell_type": "code",
   "execution_count": null,
   "metadata": {
    "collapsed": true
   },
   "outputs": [],
   "source": []
  },
  {
   "cell_type": "code",
   "execution_count": 50,
   "metadata": {
    "collapsed": false
   },
   "outputs": [
    {
     "data": {
      "text/plain": [
       "\"a=1\\na+3\\nc=a+4; b=4\\n\\n#A comment\\n\\nfunction f(x)\\n    (1+2)/3\\nend\\n\\n#= a \\nmultiline\\ncomment\\n=#\\n\\nprintln(\\\"abc ; efg\\\")\\n\\n\\\"\\\"\\\"\\na multiline\\nstring\\n\\\"\\\"\\\"\\n\\na+=2\\n\\n\""
      ]
     },
     "execution_count": 50,
     "metadata": {},
     "output_type": "execute_result"
    }
   ],
   "source": [
    "src = \"\"\"\n",
    "a=1\n",
    "a+3\n",
    "c=a+4; b=4\n",
    "\n",
    "#A comment\n",
    "\n",
    "function f(x)\n",
    "    (1+2)/3\n",
    "end\n",
    "\n",
    "#= a \n",
    "multiline\n",
    "comment\n",
    "=#\n",
    "\n",
    "println(\"abc ; efg\")\n",
    "\n",
    "\\\"\"\"\n",
    "a multiline\n",
    "string\n",
    "\\\"\"\"\n",
    "\n",
    "a+=2\n",
    "\n",
    "\"\"\"\n"
   ]
  },
  {
   "cell_type": "code",
   "execution_count": 51,
   "metadata": {
    "collapsed": false
   },
   "outputs": [
    {
     "data": {
      "text/plain": [
       "53-element Array{Tokenize.Tokens.Token,1}:\n",
       " 1,1-1,1:   IDENTIFIER\t\"a\"                                       \n",
       " 1,2-1,2:   OP\t\"=\"                                               \n",
       " 1,3-1,3:   INTEGER\t\"1\"                                          \n",
       " 1,4-2,0:   WHITESPACE\t\"\\n\"                                      \n",
       " 2,1-2,1:   IDENTIFIER\t\"a\"                                       \n",
       " 2,2-2,2:   OP\t\"+\"                                               \n",
       " 2,3-2,3:   INTEGER\t\"3\"                                          \n",
       " 2,4-3,0:   WHITESPACE\t\"\\n\"                                      \n",
       " 3,1-3,1:   IDENTIFIER\t\"c\"                                       \n",
       " 3,2-3,2:   OP\t\"=\"                                               \n",
       " 3,3-3,3:   IDENTIFIER\t\"a\"                                       \n",
       " 3,4-3,4:   OP\t\"+\"                                               \n",
       " 3,5-3,5:   INTEGER\t\"4\"                                          \n",
       " 3,6-3,6:   SEMICOLON\t\";\"                                        \n",
       " 3,7-3,7:   WHITESPACE\t\" \"                                       \n",
       " 3,8-3,8:   IDENTIFIER\t\"b\"                                       \n",
       " 3,9-3,9:   OP\t\"=\"                                               \n",
       " 3,10-3,10:   INTEGER\t\"4\"                                        \n",
       " 3,11-5,0:   WHITESPACE\t\"\\n\\n\"                                   \n",
       " 5,1-5,10:   COMMENT\t\"#A comment\"                                \n",
       " 5,11-7,0:   WHITESPACE\t\"\\n\\n\"                                   \n",
       " 7,1-7,8:   KEYWORD\t\"function\"                                   \n",
       " 7,9-7,9:   WHITESPACE\t\" \"                                       \n",
       " 7,10-7,10:   IDENTIFIER\t\"f\"                                     \n",
       " 7,11-7,11:   LPAREN\t\"(\"                                         \n",
       " 7,12-7,12:   IDENTIFIER\t\"x\"                                     \n",
       " 7,13-7,13:   RPAREN\t\")\"                                         \n",
       " 7,14-8,4:   WHITESPACE\t\"\\n    \"                                 \n",
       " 8,5-8,5:   LPAREN\t\"(\"                                           \n",
       " 8,6-8,6:   INTEGER\t\"1\"                                          \n",
       " 8,7-8,7:   OP\t\"+\"                                               \n",
       " 8,8-8,8:   INTEGER\t\"2\"                                          \n",
       " 8,9-8,9:   RPAREN\t\")\"                                           \n",
       " 8,10-8,10:   OP\t\"/\"                                             \n",
       " 8,11-8,11:   INTEGER\t\"3\"                                        \n",
       " 8,12-9,0:   WHITESPACE\t\"\\n\"                                     \n",
       " 9,1-9,3:   KEYWORD\t\"end\"                                        \n",
       " 9,4-11,0:   WHITESPACE\t\"\\n\\n\"                                   \n",
       " 11,1-14,2:   COMMENT\t\"#= a \\nmultiline\\ncomment\\n=#\"            \n",
       " 14,3-16,0:   WHITESPACE\t\"\\n\\n\"                                  \n",
       " 16,1-16,7:   IDENTIFIER\t\"println\"                               \n",
       " 16,8-16,8:   LPAREN\t\"(\"                                         \n",
       " 16,9-16,19:   STRING\t\"\\\"abc ; efg\\\"\"                            \n",
       " 16,20-16,20:   RPAREN\t\")\"                                       \n",
       " 16,21-18,0:   WHITESPACE\t\"\\n\\n\"                                 \n",
       " 18,1-21,3:   TRIPLE_STRING\t\"\\\"\\\"\\\"\\na multiline\\nstring\\n\\\"\\\"\\\"\"\n",
       " 21,4-23,0:   WHITESPACE\t\"\\n\\n\"                                  \n",
       " 23,1-23,1:   IDENTIFIER\t\"a\"                                     \n",
       " 23,2-23,2:   OP\t\"+\"                                             \n",
       " 23,3-23,3:   OP\t\"=\"                                             \n",
       " 23,4-23,4:   INTEGER\t\"2\"                                        \n",
       " 23,5-25,0:   WHITESPACE\t\"\\n\\n\"                                  \n",
       " 25,1-25,0:   ENDMARKER\t\"\"                                       "
      ]
     },
     "metadata": {},
     "output_type": "display_data"
    },
    {
     "data": {
      "text/plain": [
       "\"a\""
      ]
     },
     "execution_count": 51,
     "metadata": {},
     "output_type": "execute_result"
    }
   ],
   "source": [
    "tokens = tokenize(src) |> collect\n",
    "display(tokens)\n",
    "t=tokens |>first\n",
    "t.val"
   ]
  },
  {
   "cell_type": "code",
   "execution_count": 27,
   "metadata": {
    "collapsed": false
   },
   "outputs": [
    {
     "data": {
      "text/plain": [
       "11-element Array{Tokenize.Tokens.Token,1}:\n",
       " 1,1-1,9:   INTEGER\t\"123456789\"\n",
       " 1,10-1,10:   WHITESPACE\t\" \"   \n",
       " 1,11-1,11:   IDENTIFIER\t\"f\"   \n",
       " 1,12-1,12:   LPAREN\t\"(\"       \n",
       " 1,13-1,13:   IDENTIFIER\t\"x\"   \n",
       " 1,14-1,14:   RPAREN\t\")\"       \n",
       " 1,15-1,15:   OP\t\"=\"           \n",
       " 1,16-1,16:   INTEGER\t\"2\"      \n",
       " 1,17-1,17:   OP\t\"*\"           \n",
       " 1,18-1,18:   IDENTIFIER\t\"x\"   \n",
       " 1,19-1,18:   ENDMARKER\t\"\"     "
      ]
     },
     "metadata": {},
     "output_type": "display_data"
    },
    {
     "ename": "LoadError",
     "evalue": "LoadError: MethodError: no method matching seekstart(::Tokenize.Lexers.Lexer{SubString{String}})\nClosest candidates are:\n  seekstart(!Matched::IO) at iostream.jl:54\n  seekstart{I<:IO}(!Matched::Tokenize.Lexers.Lexer{I<:IO}) at /home/ubuntu/.julia/v0.5/Tokenize/src/lexer.jl:83\n  seekstart{I<:String}(!Matched::Tokenize.Lexers.Lexer{I<:String}) at /home/ubuntu/.julia/v0.5/Tokenize/src/lexer.jl:84\nwhile loading In[27], in expression starting on line 4",
     "output_type": "error",
     "traceback": [
      "LoadError: MethodError: no method matching seekstart(::Tokenize.Lexers.Lexer{SubString{String}})\nClosest candidates are:\n  seekstart(!Matched::IO) at iostream.jl:54\n  seekstart{I<:IO}(!Matched::Tokenize.Lexers.Lexer{I<:IO}) at /home/ubuntu/.julia/v0.5/Tokenize/src/lexer.jl:83\n  seekstart{I<:String}(!Matched::Tokenize.Lexers.Lexer{I<:String}) at /home/ubuntu/.julia/v0.5/Tokenize/src/lexer.jl:84\nwhile loading In[27], in expression starting on line 4",
      "",
      " in start(::Tokenize.Lexers.Lexer{SubString{String}}) at /home/ubuntu/.julia/v0.5/Tokenize/src/lexer.jl:53",
      " in _collect(::UnitRange{Int64}, ::Tokenize.Lexers.Lexer{SubString{String}}, ::Base.HasEltype, ::Base.SizeUnknown) at ./array.jl:245",
      " in |>(::Tokenize.Lexers.Lexer{SubString{String}}, ::Base.#collect) at ./operators.jl:335",
      " in include_string(::String, ::String) at ./loading.jl:380",
      " in execute_request_0x535c5df2(::ZMQ.Socket, ::IJulia.Msg) at /home/ubuntu/.julia/v0.5/IJulia/src/execute_request.jl:183",
      " in eventloop(::ZMQ.Socket) at /home/ubuntu/.julia/v0.5/IJulia/src/IJulia.jl:143",
      " in (::IJulia.##26#32)() at ./task.jl:309"
     ]
    }
   ],
   "source": [
    "fulleg =\"123456789 f(x)=2*x\"\n",
    "tokenize(fulleg) |> collect |> display\n",
    "halfeg = split(fulleg)[2] \n",
    "tokenize(halfeg) |> collect |> display"
   ]
  },
  {
   "cell_type": "code",
   "execution_count": 26,
   "metadata": {
    "collapsed": false
   },
   "outputs": [
    {
     "data": {
      "text/plain": [
       "SubString{String}"
      ]
     },
     "execution_count": 26,
     "metadata": {},
     "output_type": "execute_result"
    }
   ],
   "source": [
    "|> typeof"
   ]
  },
  {
   "cell_type": "code",
   "execution_count": 15,
   "metadata": {
    "collapsed": false
   },
   "outputs": [
    {
     "data": {
      "text/plain": [
       "42-element Array{Tokenize.Tokens.Token,1}:\n",
       " 1,1-1,1:   IDENTIFIER\t\"a\"         \n",
       " 1,2-1,2:   OP\t\"=\"                 \n",
       " 1,3-1,3:   INTEGER\t\"1\"            \n",
       " 1,4-2,0:   WHITESPACE\t\"\\n\"        \n",
       " 2,1-2,1:   IDENTIFIER\t\"a\"         \n",
       " 2,2-2,2:   OP\t\"+\"                 \n",
       " 2,3-2,3:   INTEGER\t\"3\"            \n",
       " 2,4-3,0:   WHITESPACE\t\"\\n\"        \n",
       " 3,1-3,1:   IDENTIFIER\t\"c\"         \n",
       " 3,2-3,2:   OP\t\"=\"                 \n",
       " 3,3-3,3:   IDENTIFIER\t\"a\"         \n",
       " 3,4-3,4:   OP\t\"+\"                 \n",
       " 3,5-3,5:   INTEGER\t\"4\"            \n",
       " 3,6-3,6:   SEMICOLON\t\";\"          \n",
       " 3,7-3,7:   WHITESPACE\t\" \"         \n",
       " 3,8-3,8:   IDENTIFIER\t\"b\"         \n",
       " 3,9-3,9:   OP\t\"=\"                 \n",
       " 3,10-3,10:   INTEGER\t\"4\"          \n",
       " 3,11-5,0:   WHITESPACE\t\"\\n\\n\"     \n",
       " 5,1-5,8:   KEYWORD\t\"function\"     \n",
       " 5,9-5,9:   WHITESPACE\t\" \"         \n",
       " 5,10-5,10:   IDENTIFIER\t\"f\"       \n",
       " 5,11-5,11:   LPAREN\t\"(\"           \n",
       " 5,12-5,12:   IDENTIFIER\t\"x\"       \n",
       " 5,13-5,13:   RPAREN\t\")\"           \n",
       " 5,14-6,4:   WHITESPACE\t\"\\n    \"   \n",
       " 6,5-6,5:   LPAREN\t\"(\"             \n",
       " 6,6-6,6:   INTEGER\t\"1\"            \n",
       " 6,7-6,7:   OP\t\"+\"                 \n",
       " 6,8-6,8:   INTEGER\t\"2\"            \n",
       " 6,9-6,9:   RPAREN\t\")\"             \n",
       " 6,10-6,10:   OP\t\"/\"               \n",
       " 6,11-6,11:   INTEGER\t\"3\"          \n",
       " 6,12-7,0:   WHITESPACE\t\"\\n\"       \n",
       " 7,1-7,3:   KEYWORD\t\"end\"          \n",
       " 7,4-9,0:   WHITESPACE\t\"\\n\\n\"      \n",
       " 9,1-9,7:   IDENTIFIER\t\"println\"   \n",
       " 9,8-9,8:   LPAREN\t\"(\"             \n",
       " 9,9-9,19:   STRING\t\"\\\"abc ; efg\\\"\"\n",
       " 9,20-9,20:   RPAREN\t\")\"           \n",
       " 9,21-11,0:   WHITESPACE\t\"\\n\\n\"    \n",
       " 11,1-11,0:   ENDMARKER\t\"\"         "
      ]
     },
     "execution_count": 15,
     "metadata": {},
     "output_type": "execute_result"
    }
   ],
   "source": [
    "tokenize(eg) |> collect"
   ]
  },
  {
   "cell_type": "code",
   "execution_count": 32,
   "metadata": {
    "collapsed": true
   },
   "outputs": [],
   "source": [
    "using ParserCombinator"
   ]
  },
  {
   "cell_type": "code",
   "execution_count": 36,
   "metadata": {
    "collapsed": false
   },
   "outputs": [],
   "source": [
    "import Tokenize.Tokens: Token "
   ]
  },
  {
   "cell_type": "code",
   "execution_count": 38,
   "metadata": {
    "collapsed": false
   },
   "outputs": [
    {
     "name": "stdout",
     "output_type": "stream",
     "text": [
      "t = 1,1-1,1:   IDENTIFIER\t\"a\"\n"
     ]
    },
    {
     "data": {
      "text/plain": [
       "1,1-1,1:   IDENTIFIER\t\"a\""
      ]
     },
     "execution_count": 38,
     "metadata": {},
     "output_type": "execute_result"
    }
   ],
   "source": [
    "@show t"
   ]
  },
  {
   "cell_type": "code",
   "execution_count": 55,
   "metadata": {
    "collapsed": false
   },
   "outputs": [
    {
     "ename": "LoadError",
     "evalue": "LoadError: ParserCombinator.ParserException(\"cannot parse\")\nwhile loading In[55], in expression starting on line 1",
     "output_type": "error",
     "traceback": [
      "LoadError: ParserCombinator.ParserException(\"cannot parse\")\nwhile loading In[55], in expression starting on line 1",
      "",
      " in once at /home/ubuntu/.julia/v0.5/ParserCombinator/src/core/parsers.jl:184 [inlined]",
      " in (::ParserCombinator.##single_result#36#38{Array{Any,1},DataType})(::Array{Any,1}, ::Function, ::Array{Char,1}, ::ParserCombinator.Equal) at /home/ubuntu/.julia/v0.5/ParserCombinator/src/core/parsers.jl:193",
      " in (::ParserCombinator.#single_result#37)(::Array{Char,1}, ::ParserCombinator.Equal) at /home/ubuntu/.julia/v0.5/ParserCombinator/src/core/parsers.jl:192",
      " in include_string(::String, ::String) at ./loading.jl:380",
      " in execute_request_0x535c5df2(::ZMQ.Socket, ::IJulia.Msg) at /home/ubuntu/.julia/v0.5/IJulia/src/execute_request.jl:183",
      " in eventloop(::ZMQ.Socket) at /home/ubuntu/.julia/v0.5/IJulia/src/IJulia.jl:143",
      " in (::IJulia.##26#32)() at ./task.jl:309"
     ]
    }
   ],
   "source": [
    "parse_one(['a', 'b','c','d'], Equal(['a',p\".\",'c']))"
   ]
  },
  {
   "cell_type": "code",
   "execution_count": 41,
   "metadata": {
    "collapsed": false
   },
   "outputs": [
    {
     "data": {
      "text/html": [
       "5 methods for generic function <b>Type</b>:<ul><li> Tokenize.Tokens.Token() at <a href=\"https://github.com/KristofferC/Tokenize.jl/tree/4c60dbed945d80c8d7b48223e032dd22b0b4c1a6/src/token.jl#L62\" target=\"_blank\">/home/ubuntu/.julia/v0.5/Tokenize/src/token.jl:62</a></li> <li> Tokenize.Tokens.Token(kind::<b>Tokenize.Tokens.Kind</b>, startposition::<b>Tuple{Int64,Int64}</b>, endposition::<b>Tuple{Int64,Int64}</b>, startbyte::<b>Int64</b>, endbyte::<b>Int64</b>, val::<b>String</b>) at <a href=\"https://github.com/KristofferC/Tokenize.jl/tree/4c60dbed945d80c8d7b48223e032dd22b0b4c1a6/src/token.jl#L60\" target=\"_blank\">/home/ubuntu/.julia/v0.5/Tokenize/src/token.jl:60</a></li> <li> Tokenize.Tokens.Token(kind::<b>Tokenize.Tokens.Kind</b>, startpos::<b>Tuple{Int64,Int64}</b>, endpos::<b>Tuple{Int64,Int64}</b>, startbyte::<b>Int64</b>, endbyte::<b>Int64</b>, val::<b>String</b>, token_error::<b>Tokenize.Tokens.TokenError</b>) at <a href=\"https://github.com/KristofferC/Tokenize.jl/tree/4c60dbed945d80c8d7b48223e032dd22b0b4c1a6/src/token.jl#L48\" target=\"_blank\">/home/ubuntu/.julia/v0.5/Tokenize/src/token.jl:48</a></li> <li> Tokenize.Tokens.Token(kind, startpos, endpos, startbyte, endbyte, val, token_error) at <a href=\"https://github.com/KristofferC/Tokenize.jl/tree/4c60dbed945d80c8d7b48223e032dd22b0b4c1a6/src/token.jl#L48\" target=\"_blank\">/home/ubuntu/.julia/v0.5/Tokenize/src/token.jl:48</a></li> <li> (::<b>Type{T}</b>)<i>{T}</i>(arg) at <a href=\"https://github.com/JuliaLang/julia/tree/389dc1cc77c2920e01afdfae5e33dbec8313d2fa/base/sysimg.jl#L53\" target=\"_blank\">sysimg.jl:53</a></li> </ul>"
      ],
      "text/plain": [
       "# 5 methods for generic function \"(::Type)\":\n",
       "Tokenize.Tokens.Token() at /home/ubuntu/.julia/v0.5/Tokenize/src/token.jl:62\n",
       "Tokenize.Tokens.Token(kind::Tokenize.Tokens.Kind, startposition::Tuple{Int64,Int64}, endposition::Tuple{Int64,Int64}, startbyte::Int64, endbyte::Int64, val::String) at /home/ubuntu/.julia/v0.5/Tokenize/src/token.jl:60\n",
       "Tokenize.Tokens.Token(kind::Tokenize.Tokens.Kind, startpos::Tuple{Int64,Int64}, endpos::Tuple{Int64,Int64}, startbyte::Int64, endbyte::Int64, val::String, token_error::Tokenize.Tokens.TokenError) at /home/ubuntu/.julia/v0.5/Tokenize/src/token.jl:48\n",
       "Tokenize.Tokens.Token(kind, startpos, endpos, startbyte, endbyte, val, token_error) at /home/ubuntu/.julia/v0.5/Tokenize/src/token.jl:48\n",
       "(::Type{T}){T}(arg) at sysimg.jl:53"
      ]
     },
     "execution_count": 41,
     "metadata": {},
     "output_type": "execute_result"
    }
   ],
   "source": [
    "methods(Token)\n",
    "Token(kind, startpos, endpos, startbyte, endbyte, val)"
   ]
  },
  {
   "cell_type": "code",
   "execution_count": 61,
   "metadata": {
    "collapsed": false
   },
   "outputs": [],
   "source": [
    "import Base: =="
   ]
  },
  {
   "cell_type": "code",
   "execution_count": 60,
   "metadata": {
    "collapsed": false
   },
   "outputs": [
    {
     "data": {
      "text/plain": [
       "false"
      ]
     },
     "execution_count": 60,
     "metadata": {},
     "output_type": "execute_result"
    }
   ],
   "source": [
    "a1=Token(Tokens.IDENTIFIER, (1,1), (1,10), 1, 10, \"val1\")\n",
    "a2=Token(Tokens.IDENTIFIER, (1,1), (1,10), 1, 10, \"val1\")\n",
    "\n"
   ]
  },
  {
   "cell_type": "code",
   "execution_count": null,
   "metadata": {
    "collapsed": true
   },
   "outputs": [],
   "source": []
  },
  {
   "cell_type": "code",
   "execution_count": null,
   "metadata": {
    "collapsed": true
   },
   "outputs": [],
   "source": []
  },
  {
   "cell_type": "code",
   "execution_count": null,
   "metadata": {
    "collapsed": true
   },
   "outputs": [],
   "source": []
  },
  {
   "cell_type": "code",
   "execution_count": 145,
   "metadata": {
    "collapsed": false
   },
   "outputs": [
    {
     "name": "stderr",
     "output_type": "stream",
     "text": [
      "WARNING: Method definition foo(Base.Val{1}) in module Main at In[62]:2 overwritten at In[145]:2.\n",
      "WARNING: Method definition foo(Base.Val{2}) in module Main at In[62]:6 overwritten at In[145]:6.\n"
     ]
    },
    {
     "data": {
      "text/plain": [
       "foo (generic function with 3 methods)"
      ]
     },
     "execution_count": 145,
     "metadata": {},
     "output_type": "execute_result"
    }
   ],
   "source": []
  },
  {
   "cell_type": "code",
   "execution_count": 78,
   "metadata": {
    "collapsed": false
   },
   "outputs": [
    {
     "name": "stdout",
     "output_type": "stream",
     "text": [
      "f = methods(foo) |> first = foo(::Val{2}) at In[62]:6\n",
      "ft = f.sig.types = svec(#foo,Val{2})\n",
      "ftv = ft[end] = Val{2}\n",
      "ftv.parameters = svec(2)\n"
     ]
    },
    {
     "data": {
      "text/plain": [
       "svec(2)"
      ]
     },
     "execution_count": 78,
     "metadata": {},
     "output_type": "execute_result"
    }
   ],
   "source": [
    "@show f=methods(foo) |> first\n",
    "@show ft=f.sig.types\n",
    "@show ftv = ft[end]\n",
    "@show ftv.parameters"
   ]
  },
  {
   "cell_type": "code",
   "execution_count": 80,
   "metadata": {
    "collapsed": false
   },
   "outputs": [
    {
     "data": {
      "text/plain": [
       "2-element Array{Any,1}:\n",
       " nothing                        \n",
       " :(return (Main.println)(\"Two\"))"
      ]
     },
     "execution_count": 80,
     "metadata": {},
     "output_type": "execute_result"
    }
   ],
   "source": [
    "Base.uncompressed_ast(f)"
   ]
  },
  {
   "cell_type": "code",
   "execution_count": 83,
   "metadata": {
    "collapsed": false
   },
   "outputs": [
    {
     "data": {
      "text/plain": [
       "bar (generic function with 1 method)"
      ]
     },
     "execution_count": 83,
     "metadata": {},
     "output_type": "execute_result"
    }
   ],
   "source": [
    "function bar(::Val{2}, rep)\n",
    "    for ii in 1:rep\n",
    "        println(\"Two\")\n",
    "    end\n",
    "end"
   ]
  },
  {
   "cell_type": "code",
   "execution_count": 85,
   "metadata": {
    "collapsed": false
   },
   "outputs": [
    {
     "name": "stdout",
     "output_type": "stream",
     "text": [
      "b = methods(bar) |> first = bar(::Val{2}, rep) at In[83]:2\n"
     ]
    },
    {
     "data": {
      "text/plain": [
       "14-element Array{Any,1}:\n",
       " nothing                                         \n",
       " :(SSAValue(0) = (Main.colon)(1,_3))             \n",
       " :(_4 = (Base.start)(SSAValue(0)))               \n",
       " :(4: )                                          \n",
       " :(unless !((Base.done)(SSAValue(0),_4)) goto 13)\n",
       " :(SSAValue(1) = (Base.next)(SSAValue(0),_4))    \n",
       " :(_5 = (Core.getfield)(SSAValue(1),1))          \n",
       " :(_4 = (Core.getfield)(SSAValue(1),2))          \n",
       " :( # line 3:)                                   \n",
       " :((Main.println)(\"Two\"))                        \n",
       " :(11: )                                         \n",
       " :(goto 4)                                       \n",
       " :(13: )                                         \n",
       " :(return)                                       "
      ]
     },
     "execution_count": 85,
     "metadata": {},
     "output_type": "execute_result"
    }
   ],
   "source": [
    "@show b= methods(bar) |> first\n",
    "Base.uncompressed_ast(b)"
   ]
  },
  {
   "cell_type": "code",
   "execution_count": 90,
   "metadata": {
    "collapsed": false
   },
   "outputs": [
    {
     "data": {
      "text/plain": [
       "5-element Array{Any,1}:\n",
       " Symbol(\"#self#\")  \n",
       " Symbol(\"#unused#\")\n",
       " :rep              \n",
       " Symbol(\"#temp#\")  \n",
       " :ii               "
      ]
     },
     "execution_count": 90,
     "metadata": {},
     "output_type": "execute_result"
    }
   ],
   "source": [
    "b.lambda_template.slotnames"
   ]
  },
  {
   "cell_type": "code",
   "execution_count": 92,
   "metadata": {
    "collapsed": false
   },
   "outputs": [
    {
     "data": {
      "text/plain": [
       "5-element Array{UInt8,1}:\n",
       " 0x00\n",
       " 0x00\n",
       " 0x00\n",
       " 0x02\n",
       " 0x12"
      ]
     },
     "execution_count": 92,
     "metadata": {},
     "output_type": "execute_result"
    }
   ],
   "source": [
    "b.lambda_template.slotflags"
   ]
  },
  {
   "cell_type": "code",
   "execution_count": 162,
   "metadata": {
    "collapsed": false
   },
   "outputs": [
    {
     "name": "stderr",
     "output_type": "stream",
     "text": [
      "WARNING: Method definition make_static_dispatch(Any) in module Main at In[159]:9 overwritten at In[162]:9.\n",
      "WARNING: replacing docs for 'make_static_dispatch :: Tuple{Any}' in module 'Main'.\n"
     ]
    },
    {
     "data": {
      "text/plain": [
       "make_static_dispatch"
      ]
     },
     "execution_count": 162,
     "metadata": {},
     "output_type": "execute_result"
    }
   ],
   "source": [
    "\"\"\"\n",
    "If you would write `func(Val(x),a,b,c)` instead (after running the macro version of this function at top level and assigning it a name `func_static`)\n",
    "run `func_static(x,a,b,c)`\n",
    "For demonstation purposes will only handle First Arg being Val, \n",
    "this can be generalised of course.\n",
    "Though at a certain point appropriate data structures will be needed instead\n",
    "\"\"\"\n",
    "function make_static_dispatch(func)\n",
    "    func = foo\n",
    "    mt = methods(func)\n",
    "    condblocks = Expr[]\n",
    "    arg1types = (f.sig.types[2] for f in mt)\n",
    "    @assert all((v.name.name == :Val for t in arg1types))\n",
    "    arg1vals = (t.parameters[1] for t in arg1types)\n",
    "    arg1vals = (v for v in arg1vals if isbits(typeof(v)) || typeof(v) <: Symbol)\n",
    "    for target_val in arg1vals\n",
    "        cond = quote\n",
    "            if arg1 == $(target_val)\n",
    "                return $(func)(Val{$(target_val)}(), args...)\n",
    "            end\n",
    "        end\n",
    "        push!(condblocks, cond)\n",
    "    end\n",
    "    fallback = :(return $(func)(Val{arg1}(), args...))\n",
    "\n",
    "    body =Expr(:block, condblocks..., fallback)\n",
    "    quote\n",
    "        function sdispatch_(arg1, args...)\n",
    "            $body\n",
    "        end\n",
    "    end\n",
    "end"
   ]
  },
  {
   "cell_type": "code",
   "execution_count": 163,
   "metadata": {
    "collapsed": false
   },
   "outputs": [
    {
     "data": {
      "text/plain": [
       "false"
      ]
     },
     "execution_count": 163,
     "metadata": {},
     "output_type": "execute_result"
    }
   ],
   "source": [
    "isbits(Symbol)"
   ]
  },
  {
   "cell_type": "code",
   "execution_count": 164,
   "metadata": {
    "collapsed": false
   },
   "outputs": [
    {
     "name": "stdout",
     "output_type": "stream",
     "text": [
      "s = quote  # In[162], line 28:\n",
      "    function sdispatch_(arg1,args...) # In[162], line 29:\n",
      "        begin \n",
      "            begin  # In[162], line 18:\n",
      "                if arg1 == 2 # In[162], line 19:\n",
      "                    return (foo)(Val{2}(),args...)\n",
      "                end\n",
      "            end\n",
      "            begin  # In[162], line 18:\n",
      "                if arg1 == 1 # In[162], line 19:\n",
      "                    return (foo)(Val{1}(),args...)\n",
      "                end\n",
      "            end\n",
      "            return (foo)(Val{arg1}(),args...)\n",
      "        end\n",
      "    end\n",
      "end\n",
      "####\n",
      "One\n",
      "(eval(s))(1) = nothing\n",
      "Two\n",
      "(eval(s))(2) = nothing\n",
      "4\n",
      "(eval(s))(4) = nothing\n"
     ]
    },
    {
     "name": "stderr",
     "output_type": "stream",
     "text": [
      "WARNING: Method definition foo(Base.Val{1}) in module Main at In[161]:2 overwritten at In[164]:2.\n",
      "WARNING: Method definition foo(Base.Val{2}) in module Main at In[161]:6 overwritten at In[164]:6.\n",
      "WARNING: Method definition foo(Base.Val{#T<:Any}) in module Main at In[161]:10 overwritten at In[164]:10.\n",
      "WARNING: Method definition sdispatch_(Any, Any...) in module Main at In[157]:29 overwritten at In[162]:29.\n",
      "WARNING: Method definition sdispatch_(Any, Any...) in module Main at In[162]:29 overwritten at In[162]:29.\n",
      "WARNING: Method definition sdispatch_(Any, Any...) in module Main at In[162]:29 overwritten at In[162]:29.\n"
     ]
    }
   ],
   "source": [
    "function foo(::Val{1})\n",
    "    println(\"One\")\n",
    "end\n",
    "\n",
    "function foo(::Val{2})\n",
    "    println(\"Two\")\n",
    "end\n",
    "\n",
    "function foo{T}(::Val{T})\n",
    "    println(T)\n",
    "end\n",
    "\n",
    "s = make_static_dispatch(foo)\n",
    "@show s\n",
    "println(\"####\")\n",
    "@show eval(s)(1) \n",
    "@show eval(s)(2) \n",
    "@show eval(s)(4) "
   ]
  },
  {
   "cell_type": "code",
   "execution_count": 108,
   "metadata": {
    "collapsed": false
   },
   "outputs": [
    {
     "data": {
      "text/plain": [
       ":Val"
      ]
     },
     "execution_count": 108,
     "metadata": {},
     "output_type": "execute_result"
    }
   ],
   "source": [
    "eval()"
   ]
  },
  {
   "cell_type": "code",
   "execution_count": 109,
   "metadata": {
    "collapsed": false
   },
   "outputs": [
    {
     "data": {
      "text/plain": [
       "Base.Generator{Base.Generator{Base.MethodList,##5#6},##9#10}(#9,Base.Generator{Base.MethodList,##5#6}(#5,# 2 methods for generic function \"foo\":\n",
       "foo(::Val{2}) at In[62]:6\n",
       "foo(::Val{1}) at In[62]:2))"
      ]
     },
     "execution_count": 109,
     "metadata": {},
     "output_type": "execute_result"
    }
   ],
   "source": []
  },
  {
   "cell_type": "code",
   "execution_count": 110,
   "metadata": {
    "collapsed": false
   },
   "outputs": [
    {
     "ename": "LoadError",
     "evalue": "LoadError: UndefVarError: arg1 not defined\nwhile loading In[110], in expression starting on line 1",
     "output_type": "error",
     "traceback": [
      "LoadError: UndefVarError: arg1 not defined\nwhile loading In[110], in expression starting on line 1",
      "",
      " in macro expansion; at ./In[110]:2 [inlined]",
      " in anonymous at ./<missing>:?",
      " in include_string(::String, ::String) at ./loading.jl:380",
      " in execute_request_0x535c5df2(::ZMQ.Socket, ::IJulia.Msg) at /home/ubuntu/.julia/v0.5/IJulia/src/execute_request.jl:183",
      " in eventloop(::ZMQ.Socket) at /home/ubuntu/.julia/v0.5/IJulia/src/IJulia.jl:143",
      " in (::IJulia.##26#32)() at ./task.jl:309"
     ]
    }
   ],
   "source": []
  },
  {
   "cell_type": "code",
   "execution_count": 96,
   "metadata": {
    "collapsed": false
   },
   "outputs": [
    {
     "name": "stdout",
     "output_type": "stream",
     "text": [
      "Expr\n",
      "  head: Symbol block\n",
      "  args: Array{Any}((2,))\n",
      "    1: Expr\n",
      "      head: Symbol line\n",
      "      args: Array{Any}((2,))\n",
      "        1: Int64 2\n",
      "        2: Symbol In[96]\n",
      "      typ: Any\n",
      "    2: Expr\n",
      "      head: Symbol if\n",
      "      args: Array{Any}((3,))\n",
      "        1: Expr\n",
      "          head: Symbol call\n",
      "          args: Array{Any}((3,))\n",
      "            1: Symbol ==\n",
      "            2: Symbol arg1\n",
      "            3: Int64 1\n",
      "          typ: Any\n",
      "        2: Expr\n",
      "          head: Symbol block\n",
      "          args: Array{Any}((2,))\n",
      "            1: Expr\n",
      "              head: Symbol line\n",
      "              args: Array{Any}((2,))\n",
      "                1: Int64 3\n",
      "                2: Symbol In[96]\n",
      "              typ: Any\n",
      "            2: Expr\n",
      "              head: Symbol call\n",
      "              args: Array{Any}((3,))\n",
      "                1: Symbol foo\n",
      "                2: Expr\n",
      "                3: Expr\n",
      "              typ: Any\n",
      "          typ: Any\n",
      "        3: Expr\n",
      "          head: Symbol block\n",
      "          args: Array{Any}((2,))\n",
      "            1: Expr\n",
      "              head: Symbol line\n",
      "              args: Array{Any}((2,))\n",
      "                1: Int64 4\n",
      "                2: Symbol In[96]\n",
      "              typ: Any\n",
      "            2: Expr\n",
      "              head: Symbol if\n",
      "              args: Array{Any}((2,))\n",
      "                1: Expr\n",
      "                2: Expr\n",
      "              typ: Any\n",
      "          typ: Any\n",
      "      typ: Any\n",
      "  typ: Any\n"
     ]
    }
   ],
   "source": [
    "quote\n",
    "    if arg1 == 1\n",
    "        return foo(::Val{1}, args...)\n",
    "    end\n",
    "    if arg1 == 2\n",
    "        foo(::Val{2}, args...)\n",
    "    end\n",
    "    end |> dump"
   ]
  },
  {
   "cell_type": "code",
   "execution_count": null,
   "metadata": {
    "collapsed": true
   },
   "outputs": [],
   "source": []
  }
 ],
 "metadata": {
  "kernelspec": {
   "display_name": "Julia 0.5.0-rc0",
   "language": "julia",
   "name": "julia-0.5"
  },
  "language_info": {
   "file_extension": ".jl",
   "mimetype": "application/julia",
   "name": "julia",
   "version": "0.5.0"
  }
 },
 "nbformat": 4,
 "nbformat_minor": 0
}
