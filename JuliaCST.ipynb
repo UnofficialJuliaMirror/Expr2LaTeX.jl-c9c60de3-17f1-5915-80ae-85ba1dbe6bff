{
 "cells": [
  {
   "cell_type": "code",
   "execution_count": 1,
   "metadata": {
    "collapsed": false
   },
   "outputs": [],
   "source": [
    "using TypedDelegation   \n",
    "using StaticArrays\n",
    "using Base.Test\n",
    "using AbstractTrees"
   ]
  },
  {
   "cell_type": "code",
   "execution_count": 2,
   "metadata": {
    "collapsed": false
   },
   "outputs": [],
   "source": [
    "using Tokenize\n",
    "import Tokenize: Tokens\n",
    "import Tokens: Token, startpos, endpos, untokenize, kind, exactkind\n",
    "\n",
    "import Base: getindex, setindex!, pop!, push!, endof"
   ]
  },
  {
   "cell_type": "code",
   "execution_count": 3,
   "metadata": {
    "collapsed": false
   },
   "outputs": [
    {
     "data": {
      "text/plain": [
       "Dict{Tokenize.Tokens.Kind,Tokenize.Tokens.Kind} with 15 entries:\n",
       "  LSQUARE    => RSQUARE\n",
       "  WHILE      => END\n",
       "  FUNCTION   => END\n",
       "  LPAREN     => RPAREN\n",
       "  TYPE       => END\n",
       "  TRY        => END\n",
       "  LBRACE     => RBRACE\n",
       "  DO         => END\n",
       "  IMMUTABLE  => END\n",
       "  BAREMODULE => END\n",
       "  BEGIN      => END\n",
       "  QUOTE      => END\n",
       "  IF         => END\n",
       "  MODULE     => END\n",
       "  FOR        => END"
      ]
     },
     "execution_count": 3,
     "metadata": {},
     "output_type": "execute_result"
    }
   ],
   "source": [
    "const identifier_phrase_end_kinds = SVector[Tokens.IDENTIFIER, Tokens.RPAREN, Tokens.RSQUARE]\n",
    "\n",
    "const subclause_markers = Dict(\n",
    "    Tokens.LBRACE => Tokens.RBRACE,\n",
    "    Tokens.LPAREN => Tokens.RPAREN,\n",
    "    Tokens.LSQUARE => Tokens.RSQUARE,\n",
    "    Tokens.FOR => Tokens.END,\n",
    "    Tokens.WHILE => Tokens.END,\n",
    "    Tokens.IF => Tokens.END,\n",
    "    Tokens.TRY => Tokens.END,\n",
    "    Tokens.BEGIN => Tokens.END,\n",
    "    Tokens.QUOTE => Tokens.END,\n",
    "    Tokens.MODULE => Tokens.END,\n",
    "    Tokens.TYPE => Tokens.END,\n",
    "    Tokens.BAREMODULE => Tokens.END,\n",
    "    Tokens.IMMUTABLE => Tokens.END,\n",
    "    Tokens.DO => Tokens.END,\n",
    "    Tokens.FUNCTION => Tokens.END\n",
    "    )"
   ]
  },
  {
   "cell_type": "code",
   "execution_count": 4,
   "metadata": {
    "collapsed": false
   },
   "outputs": [],
   "source": [
    "src = \"\"\"\n",
    "a=1\n",
    "a+3\n",
    "c=a+4; b=4\n",
    "\n",
    "#A comment\n",
    "\n",
    "function f(x)\n",
    "    (1+2)/3\n",
    "end\n",
    "\n",
    "#= a \n",
    "multiline\n",
    "comment\n",
    "=#\n",
    "\n",
    "println(\"abc ; efg\")\n",
    "\n",
    "\\\"\"\"\n",
    "a multiline\n",
    "string\n",
    "\\\"\"\"\n",
    "\n",
    "a+=2\n",
    "\n",
    "map(1:5) do x\n",
    "    a=2*x\n",
    "    3*a\n",
    "end\n",
    "\n",
    "begin \n",
    "    c=1\n",
    "end\n",
    "\n",
    "if c\n",
    "    d=3\n",
    "end\n",
    "\n",
    "\"\"\"\n",
    "tokens = tokenize(src) |> collect;\n"
   ]
  },
  {
   "cell_type": "code",
   "execution_count": 5,
   "metadata": {
    "collapsed": false
   },
   "outputs": [
    {
     "data": {
      "text/plain": [
       "is_closer"
      ]
     },
     "execution_count": 5,
     "metadata": {},
     "output_type": "execute_result"
    }
   ],
   "source": [
    "type AnnotatedToken\n",
    "    tok::Token\n",
    "    buddy::Nullable{AnnotatedToken}\n",
    "    ender::Bool\n",
    "end\n",
    "\n",
    "AnnotatedToken(vv::Token) = AnnotatedToken(vv, Nullable{AnnotatedToken}(), false)\n",
    "@delegate_oneField(AnnotatedToken, tok, [exactkind, startpos, endpos, untokenize, kind])\n",
    "token(atok::AnnotatedToken) = atok.tok\n",
    "\n",
    "\n",
    "\"\"\"\n",
    "Identifies if a token ends an expression\n",
    "Requres atok to be properly initialised\n",
    "\"\"\"\n",
    "is_ender(atok::AnnotatedToken) = atok.ender\n",
    "\n",
    "\n",
    "\"\"\"\n",
    "Identifies if a token opens a subclause\n",
    "Requres atok to be properly initialised\n",
    "\"\"\"\n",
    "function is_opener(atok::AnnotatedToken)\n",
    "    haskey(subclause_markers, exactkind(atok)) && !isnull(atok.buddy)\n",
    "end\n",
    "\n",
    "\n",
    "\"\"\"\n",
    "Identifies if a token closes a subclause\n",
    "Requres atok to be properly initialised\n",
    "\"\"\"\n",
    "function is_closer(atok::AnnotatedToken)\n",
    "    exactkind(atok) ∈ values(subclause_markers)  && !isnull(atok.buddy)\n",
    "end"
   ]
  },
  {
   "cell_type": "code",
   "execution_count": 6,
   "metadata": {
    "collapsed": false
   },
   "outputs": [],
   "source": [
    "\n",
    "function Base.show(io::IO, atok::AnnotatedToken)\n",
    "    start_r, start_c = startpos(atok)\n",
    "    end_r, end_c = endpos(atok)\n",
    "    \n",
    "    \n",
    "    \n",
    "    pos_str = string(start_r, \",\", start_c, \"-\", end_r,   \",\", end_c, \": \")\n",
    "    print(io, rpad(pos_str, 21, \" \"))\n",
    "    \n",
    "    str = kind(atok) == Tokens.ENDMARKER ? \"\" : untokenize(atok)\n",
    "    show(io, str)\n",
    "    print(io, \"   \", exactkind(atok), \" (\",lowercase(string(kind(atok))),\")\",\"\\t\")\n",
    "    \n",
    "    is_ender(atok) && print(io, \"| ender \")\n",
    "    \n",
    "    if is_closer(atok)\n",
    "        print(io, \"| closer ↑(\")\n",
    "        show(io,token(get(atok.buddy)))\n",
    "        print(io, \")↑ \")\n",
    "    end\n",
    "    \n",
    "    if is_opener(atok)\n",
    "        print(io, \"| opener ↓(\")\n",
    "        show(io,token(get(atok.buddy)))\n",
    "        print(io, \")↓ \")\n",
    "    end\n",
    "    \n",
    "    println(io)\n",
    "end"
   ]
  },
  {
   "cell_type": "markdown",
   "metadata": {},
   "source": [
    "- **New line** always ends expressions\n",
    " - Unless Immediately within a block opened by `(`\n",
    " - Or where the last nonwhitespace token was binary operator (including a `,`?)"
   ]
  },
  {
   "cell_type": "code",
   "execution_count": 7,
   "metadata": {
    "collapsed": false
   },
   "outputs": [
    {
     "data": {
      "text/plain": [
       "isnewline (generic function with 1 method)"
      ]
     },
     "execution_count": 7,
     "metadata": {},
     "output_type": "execute_result"
    }
   ],
   "source": [
    "isnewline(tok) = kind(tok)==Tokens.WHITESPACE && '\\n' ∈ untokenize(tok)\n"
   ]
  },
  {
   "cell_type": "code",
   "execution_count": 8,
   "metadata": {
    "collapsed": false
   },
   "outputs": [
    {
     "data": {
      "text/plain": [
       "\u001b[1m\u001b[32mTest Passed\n",
       "\u001b[0m  Expression: isnewline(tokens[end - 1])"
      ]
     },
     "execution_count": 8,
     "metadata": {},
     "output_type": "execute_result"
    }
   ],
   "source": [
    "@test isnewline(tokens[end-1])"
   ]
  },
  {
   "cell_type": "code",
   "execution_count": null,
   "metadata": {
    "collapsed": false
   },
   "outputs": [],
   "source": []
  },
  {
   "cell_type": "code",
   "execution_count": 9,
   "metadata": {
    "collapsed": false
   },
   "outputs": [
    {
     "data": {
      "text/plain": [
       "annotate (generic function with 1 method)"
      ]
     },
     "execution_count": 9,
     "metadata": {},
     "output_type": "execute_result"
    }
   ],
   "source": [
    "function annotate(toks)\n",
    "    \n",
    "    open_subclauses = AnnotatedToken[]\n",
    "    has_open() = length(open_subclauses) > 0\n",
    "    last_open_exactkind() = exactkind(open_subclauses[end])\n",
    "    is_next_closer(atok) = has_open() && exactkind(atok) == subclause_markers[last_open_exactkind()]\n",
    "    \n",
    "    in_paren() = has_open() && last_open_exactkind() == Tokens.LPAREN\n",
    "    in_square() = has_open() && last_open_exactkind() == Tokens.LSQUARE\n",
    "    \n",
    "\n",
    "    \n",
    "    \n",
    "    \n",
    "    history = SVector(Tokens.ENDMARKER, Tokens.ENDMARKER)\n",
    "    function add_history!(atok)\n",
    "        keep = true\n",
    "        keep &= kind(atok) != Tokens.COMMENT\n",
    "        keep &= kind(atok) != Tokens.WHITESPACE \n",
    "        keep |= isnewline(atok) && history[end] != Tokens.WHITESPACE\n",
    "        \n",
    "        if keep\n",
    "            history = @SVector([shift(history)..., kind(atok)])\n",
    "        end\n",
    "    end\n",
    "    \n",
    "    am_continuing_operation() = history[end]==Tokens.OP && history[end-1] ∈ identifier_phrase_end_kinds\n",
    "\n",
    "    \n",
    "    function handle_ifclose!(atok)\n",
    "        if  is_next_closer(atok)\n",
    "            opener = pop!(open_subclauses)\n",
    "            opener.buddy = atok\n",
    "            atok.buddy = opener\n",
    "        end\n",
    "    end\n",
    "    \n",
    "    function handle_ifopen!(atok)\n",
    "        if haskey(subclause_markers, exactkind(atok))\n",
    "            push!(open_subclauses, atok)\n",
    "        end\n",
    "    end\n",
    "    \n",
    "    \n",
    "    \n",
    "    \"Handless expression enders, (this excludes closers).\"\n",
    "    function handle_expression_enders!(atok)\n",
    "        is_ender = ((!in_paren() &&  !am_continuing_operation() && isnewline(atok)) \n",
    "                        || exactkind(atok) == Tokens.COMMA    \n",
    "                        || exactkind(atok) == Tokens.SEMICOLON)    \n",
    "        if is_ender\n",
    "            atok.ender = true\n",
    "        end\n",
    "    end\n",
    "    \n",
    "    \n",
    "    outstream = AnnotatedToken[]\n",
    "    for tok in toks\n",
    "        atok = AnnotatedToken(tok)\n",
    "        push!(outstream, atok)\n",
    "                \n",
    "        handle_ifopen!(atok)\n",
    "        handle_ifclose!(atok)\n",
    "        handle_expression_enders!(atok)\n",
    "        \n",
    "        add_history!(atok)         \n",
    "    end\n",
    "    outstream\n",
    "end"
   ]
  },
  {
   "cell_type": "code",
   "execution_count": 10,
   "metadata": {
    "collapsed": false,
    "scrolled": true
   },
   "outputs": [
    {
     "name": "stdout",
     "output_type": "stream",
     "text": [
      "1,1-1,1:             \"a\"   IDENTIFIER (identifier)\t\n",
      "1,2-1,2:             \"=\"   EQ (op)\t\n",
      "1,3-1,3:             \"1\"   INTEGER (integer)\t\n",
      "1,4-2,0:             \"\\n\"   WHITESPACE (whitespace)\t| ender \n",
      "2,1-2,1:             \"a\"   IDENTIFIER (identifier)\t\n",
      "2,2-2,2:             \"+\"   PLUS (op)\t\n",
      "2,3-2,3:             \"3\"   INTEGER (integer)\t\n",
      "2,4-3,0:             \"\\n\"   WHITESPACE (whitespace)\t| ender \n",
      "3,1-3,1:             \"c\"   IDENTIFIER (identifier)\t\n",
      "3,2-3,2:             \"=\"   EQ (op)\t\n",
      "3,3-3,3:             \"a\"   IDENTIFIER (identifier)\t\n",
      "3,4-3,4:             \"+\"   PLUS (op)\t\n",
      "3,5-3,5:             \"4\"   INTEGER (integer)\t\n",
      "3,6-3,6:             \";\"   SEMICOLON (semicolon)\t| ender \n",
      "3,7-3,7:             \" \"   WHITESPACE (whitespace)\t\n",
      "3,8-3,8:             \"b\"   IDENTIFIER (identifier)\t\n",
      "3,9-3,9:             \"=\"   EQ (op)\t\n",
      "3,10-3,10:           \"4\"   INTEGER (integer)\t\n",
      "3,11-5,0:            \"\\n\\n\"   WHITESPACE (whitespace)\t| ender \n",
      "5,1-5,10:            \"#A comment\"   COMMENT (comment)\t\n",
      "5,11-7,0:            \"\\n\\n\"   WHITESPACE (whitespace)\t| ender \n",
      "7,1-7,8:             \"function\"   FUNCTION (keyword)\t| opener ↓(9,1-9,3:   KEYWORD\t\"end\")↓ \n",
      "7,9-7,9:             \" \"   WHITESPACE (whitespace)\t\n",
      "7,10-7,10:           \"f\"   IDENTIFIER (identifier)\t\n",
      "7,11-7,11:           \"(\"   LPAREN (lparen)\t| opener ↓(7,13-7,13:   RPAREN\t\")\")↓ \n",
      "7,12-7,12:           \"x\"   IDENTIFIER (identifier)\t\n",
      "7,13-7,13:           \")\"   RPAREN (rparen)\t| closer ↑(7,11-7,11:   LPAREN\t\"(\")↑ \n",
      "7,14-8,4:            \"\\n    \"   WHITESPACE (whitespace)\t| ender \n",
      "8,5-8,5:             \"(\"   LPAREN (lparen)\t| opener ↓(8,9-8,9:   RPAREN\t\")\")↓ \n",
      "8,6-8,6:             \"1\"   INTEGER (integer)\t\n",
      "8,7-8,7:             \"+\"   PLUS (op)\t\n",
      "8,8-8,8:             \"2\"   INTEGER (integer)\t\n",
      "8,9-8,9:             \")\"   RPAREN (rparen)\t| closer ↑(8,5-8,5:   LPAREN\t\"(\")↑ \n",
      "8,10-8,10:           \"/\"   FWD_SLASH (op)\t\n",
      "8,11-8,11:           \"3\"   INTEGER (integer)\t\n",
      "8,12-9,0:            \"\\n\"   WHITESPACE (whitespace)\t| ender \n",
      "9,1-9,3:             \"end\"   END (keyword)\t| closer ↑(7,1-7,8:   KEYWORD\t\"function\")↑ \n",
      "9,4-11,0:            \"\\n\\n\"   WHITESPACE (whitespace)\t| ender \n",
      "11,1-14,2:           \"#= a \\nmultiline\\ncomment\\n=#\"   COMMENT (comment)\t\n",
      "14,3-16,0:           \"\\n\\n\"   WHITESPACE (whitespace)\t| ender \n",
      "16,1-16,7:           \"println\"   IDENTIFIER (identifier)\t\n",
      "16,8-16,8:           \"(\"   LPAREN (lparen)\t| opener ↓(16,20-16,20:   RPAREN\t\")\")↓ \n",
      "16,9-16,19:          \"\\\"abc ; efg\\\"\"   STRING (string)\t\n",
      "16,20-16,20:         \")\"   RPAREN (rparen)\t| closer ↑(16,8-16,8:   LPAREN\t\"(\")↑ \n",
      "16,21-18,0:          \"\\n\\n\"   WHITESPACE (whitespace)\t| ender \n",
      "18,1-21,3:           \"\\\"\\\"\\\"\\na multiline\\nstring\\n\\\"\\\"\\\"\"   TRIPLE_STRING (triple_string)\t\n",
      "21,4-23,0:           \"\\n\\n\"   WHITESPACE (whitespace)\t| ender \n",
      "23,1-23,1:           \"a\"   IDENTIFIER (identifier)\t\n",
      "23,2-23,2:           \"+\"   PLUS (op)\t\n",
      "23,3-23,3:           \"=\"   EQ (op)\t\n",
      "23,4-23,4:           \"2\"   INTEGER (integer)\t\n",
      "23,5-25,0:           \"\\n\\n\"   WHITESPACE (whitespace)\t| ender \n",
      "25,1-25,3:           \"map\"   IDENTIFIER (identifier)\t\n",
      "25,4-25,4:           \"(\"   LPAREN (lparen)\t| opener ↓(25,8-25,8:   RPAREN\t\")\")↓ \n",
      "25,5-25,5:           \"1\"   INTEGER (integer)\t\n",
      "25,6-25,6:           \":\"   COLON (op)\t\n",
      "25,7-25,7:           \"5\"   INTEGER (integer)\t\n",
      "25,8-25,8:           \")\"   RPAREN (rparen)\t| closer ↑(25,4-25,4:   LPAREN\t\"(\")↑ \n",
      "25,9-25,9:           \" \"   WHITESPACE (whitespace)\t\n",
      "25,10-25,11:         \"do\"   DO (keyword)\t| opener ↓(28,1-28,3:   KEYWORD\t\"end\")↓ \n",
      "25,12-25,12:         \" \"   WHITESPACE (whitespace)\t\n",
      "25,13-25,13:         \"x\"   IDENTIFIER (identifier)\t\n",
      "25,14-26,4:          \"\\n    \"   WHITESPACE (whitespace)\t| ender \n",
      "26,5-26,5:           \"a\"   IDENTIFIER (identifier)\t\n",
      "26,6-26,6:           \"=\"   EQ (op)\t\n",
      "26,7-26,7:           \"2\"   INTEGER (integer)\t\n",
      "26,8-26,8:           \"*\"   STAR (op)\t\n",
      "26,9-26,9:           \"x\"   IDENTIFIER (identifier)\t\n",
      "26,10-27,4:          \"\\n    \"   WHITESPACE (whitespace)\t| ender \n",
      "27,5-27,5:           \"3\"   INTEGER (integer)\t\n",
      "27,6-27,6:           \"*\"   STAR (op)\t\n",
      "27,7-27,7:           \"a\"   IDENTIFIER (identifier)\t\n",
      "27,8-28,0:           \"\\n\"   WHITESPACE (whitespace)\t| ender \n",
      "28,1-28,3:           \"end\"   END (keyword)\t| closer ↑(25,10-25,11:   KEYWORD\t\"do\")↑ \n",
      "28,4-30,0:           \"\\n\\n\"   WHITESPACE (whitespace)\t| ender \n",
      "30,1-30,5:           \"begin\"   BEGIN (keyword)\t| opener ↓(32,1-32,3:   KEYWORD\t\"end\")↓ \n",
      "30,6-31,4:           \" \\n    \"   WHITESPACE (whitespace)\t| ender \n",
      "31,5-31,5:           \"c\"   IDENTIFIER (identifier)\t\n",
      "31,6-31,6:           \"=\"   EQ (op)\t\n",
      "31,7-31,7:           \"1\"   INTEGER (integer)\t\n",
      "31,8-32,0:           \"\\n\"   WHITESPACE (whitespace)\t| ender \n",
      "32,1-32,3:           \"end\"   END (keyword)\t| closer ↑(30,1-30,5:   KEYWORD\t\"begin\")↑ \n",
      "32,4-34,0:           \"\\n\\n\"   WHITESPACE (whitespace)\t| ender \n",
      "34,1-34,2:           \"if\"   IF (keyword)\t| opener ↓(36,1-36,3:   KEYWORD\t\"end\")↓ \n",
      "34,3-34,3:           \" \"   WHITESPACE (whitespace)\t\n",
      "34,4-34,4:           \"c\"   IDENTIFIER (identifier)\t\n",
      "34,5-35,4:           \"\\n    \"   WHITESPACE (whitespace)\t| ender \n",
      "35,5-35,5:           \"d\"   IDENTIFIER (identifier)\t\n",
      "35,6-35,6:           \"=\"   EQ (op)\t\n",
      "35,7-35,7:           \"3\"   INTEGER (integer)\t\n",
      "35,8-36,0:           \"\\n\"   WHITESPACE (whitespace)\t| ender \n",
      "36,1-36,3:           \"end\"   END (keyword)\t| closer ↑(34,1-34,2:   KEYWORD\t\"if\")↑ \n",
      "36,4-38,0:           \"\\n\\n\"   WHITESPACE (whitespace)\t| ender \n",
      "38,1-38,0:           \"\"   ENDMARKER (endmarker)\t\n"
     ]
    }
   ],
   "source": [
    "atokens = annotate(tokens)\n",
    "show.(atokens);"
   ]
  },
  {
   "cell_type": "code",
   "execution_count": 11,
   "metadata": {
    "collapsed": false
   },
   "outputs": [
    {
     "data": {
      "text/plain": [
       "29"
      ]
     },
     "execution_count": 11,
     "metadata": {},
     "output_type": "execute_result"
    }
   ],
   "source": [
    "\"\"\" \\n    \"   WHITESPACE (whitespace)\"\"\"|> length"
   ]
  },
  {
   "cell_type": "code",
   "execution_count": 12,
   "metadata": {
    "collapsed": false,
    "scrolled": true
   },
   "outputs": [
    {
     "name": "stdout",
     "output_type": "stream",
     "text": [
      "1,1-1,1:             \"(\"   LPAREN (lparen)\t| opener ↓(2,2-2,2:   RPAREN\t\")\")↓ \n",
      "1,2-1,2:             \"a\"   IDENTIFIER (identifier)\t\n",
      "1,3-1,3:             \" \"   WHITESPACE (whitespace)\t\n",
      "1,4-1,4:             \"+\"   PLUS (op)\t\n",
      "1,5-2,0:             \"\\n\"   WHITESPACE (whitespace)\t\n",
      "2,1-2,1:             \"b\"   IDENTIFIER (identifier)\t\n",
      "2,2-2,2:             \")\"   RPAREN (rparen)\t| closer ↑(1,1-1,1:   LPAREN\t\"(\")↑ \n",
      "2,3-3,0:             \"\\n\"   WHITESPACE (whitespace)\t| ender \n",
      "3,1-3,1:             \"{\"   LBRACE (lbrace)\t| opener ↓(4,2-4,2:   RBRACE\t\"}\")↓ \n",
      "3,2-3,2:             \"a\"   IDENTIFIER (identifier)\t\n",
      "3,3-3,3:             \" \"   WHITESPACE (whitespace)\t\n",
      "3,4-3,4:             \"+\"   PLUS (op)\t\n",
      "3,5-4,0:             \"\\n\"   WHITESPACE (whitespace)\t| ender \n",
      "4,1-4,1:             \"b\"   IDENTIFIER (identifier)\t\n",
      "4,2-4,2:             \"}\"   RBRACE (rbrace)\t| closer ↑(3,1-3,1:   LBRACE\t\"{\")↑ \n",
      "4,3-5,0:             \"\\n\"   WHITESPACE (whitespace)\t| ender \n",
      "5,1-5,1:             \"[\"   LSQUARE (lsquare)\t| opener ↓(6,2-6,2:   RSQUARE\t\"]\")↓ \n",
      "5,2-5,2:             \"a\"   IDENTIFIER (identifier)\t\n",
      "5,3-5,3:             \" \"   WHITESPACE (whitespace)\t\n",
      "5,4-5,4:             \"+\"   PLUS (op)\t\n",
      "5,5-6,0:             \"\\n\"   WHITESPACE (whitespace)\t| ender \n",
      "6,1-6,1:             \"b\"   IDENTIFIER (identifier)\t\n",
      "6,2-6,2:             \"]\"   RSQUARE (rsquare)\t| closer ↑(5,1-5,1:   LSQUARE\t\"[\")↑ \n",
      "6,3-9,0:             \"\\n\\n\\n\"   WHITESPACE (whitespace)\t| ender \n",
      "9,1-9,0:             \"\"   ENDMARKER (endmarker)\t\n"
     ]
    }
   ],
   "source": [
    "show.((tokenize(\"\"\"\n",
    "(a +\n",
    "b)\n",
    "{a +\n",
    "b}\n",
    "[a +\n",
    "b]\n",
    "\n",
    "\n",
    "\"\"\") |> collect ) |> annotate);"
   ]
  },
  {
   "cell_type": "code",
   "execution_count": 13,
   "metadata": {
    "collapsed": false
   },
   "outputs": [
    {
     "ename": "LoadError",
     "evalue": "UndefVarError: clause_types not defined",
     "output_type": "error",
     "traceback": [
      "UndefVarError: clause_types not defined",
      ""
     ]
    }
   ],
   "source": [
    "@enum ClauseKind ExternalScope GlobalScope HardLocalScope SoftLocalScope NonScopingBlock NonScopingClause  Expression\n",
    "\n",
    "const clause_type = Dict(\n",
    "    Tokens.MODULE => GlobalScope,\n",
    "    Tokens.BAREMODULE => GlobalScope,\n",
    "\n",
    "    Tokens.LBRACE => NonScopingClause,\n",
    "    Tokens.LPAREN => NonScopingClause,\n",
    "    Tokens.LSQUARE => NonScopingClause,\n",
    "    Tokens.QUOTE => NonScopingClause,\n",
    "\n",
    "    Tokens.BEGIN => NonScopingBlock,\n",
    "    Tokens.IF => NonScopingBlock,\n",
    "\n",
    "    Tokens.FOR => SoftLocalScope,\n",
    "    Tokens.WHILE => SoftLocalScope,\n",
    "    Tokens.TRY => SoftLocalScope,\n",
    "    \n",
    "    \n",
    "    \n",
    "    Tokens.TYPE => HardLocalScope,    \n",
    "    Tokens.IMMUTABLE => HardLocalScope,\n",
    "    Tokens.DO => HardLocalScope,\n",
    "    Tokens.FUNCTION => HardLocalScope,\n",
    ")\n",
    "\n",
    "@assert(Set(keys(subclause_markers)) == Set(keys(clause_types)))"
   ]
  },
  {
   "cell_type": "code",
   "execution_count": 14,
   "metadata": {
    "collapsed": false
   },
   "outputs": [
    {
     "data": {
      "text/plain": [
       "endof (generic function with 15 methods)"
      ]
     },
     "execution_count": 14,
     "metadata": {},
     "output_type": "execute_result"
    }
   ],
   "source": [
    "type CstNode{T}\n",
    "    subs::Vector\n",
    "    CstNode() = new(Any[])\n",
    "end\n",
    "\n",
    "@delegate_oneField(CstNode, subs, [getindex, setindex!, pop!, push!, endof])\n"
   ]
  },
  {
   "cell_type": "code",
   "execution_count": 30,
   "metadata": {
    "collapsed": false
   },
   "outputs": [
    {
     "name": "stderr",
     "output_type": "stream",
     "text": [
      "WARNING: Method definition tree_up(Any) in module Main at In[27]:2 overwritten at In[30]:2.\n"
     ]
    },
    {
     "data": {
      "text/plain": [
       "tree_up (generic function with 1 method)"
      ]
     },
     "execution_count": 30,
     "metadata": {},
     "output_type": "execute_result"
    }
   ],
   "source": [
    "function tree_up(annotated_tokens)\n",
    "    tree = CstNode{ExternalScope}()\n",
    "    scope_stack = CstNode[tree]\n",
    "    \n",
    "    function enter_child!(node)\n",
    "        push!(scope_stack[end], node) #To keep in the tree\n",
    "        push!(scope_stack, node) #To track scope\n",
    "    end\n",
    "    function exit_child!()\n",
    "        pop!(scope_stack)\n",
    "    end\n",
    "    \n",
    "    \n",
    "    function add_current!(atok)\n",
    "        push!(scope_stack[end], atok)\n",
    "    end\n",
    "    \n",
    "    \n",
    "    enter_child!(CstNode{GlobalScope}()) #True Globel;\n",
    "    \n",
    "    \n",
    "    awaited_closers = AnnotatedToken[]\n",
    "    is_awaited(atok) = length(awaited_closers) > 0 && awaited_closers[end]==atok\n",
    "    for atok in annotated_tokens\n",
    "        if is_opener(atok)\n",
    "            push!(awaited_closers, get(atok.buddy))\n",
    "            node_type = clause_type[exactkind(atok)]\n",
    "            enter_child!(CstNode{node_type}())\n",
    "        end\n",
    "        \n",
    "        add_current!(atok)\n",
    "        \n",
    "        if is_awaited(atok)\n",
    "           pop!(awaited_closers)\n",
    "           exit_child!() \n",
    "        end\n",
    "                \n",
    "        #print(untokenize(atok), \" \")\n",
    "        #is_ender(atok) && println(\"\\n┅┅┅┅┅┅┅┅┅┅┅┅┅┅┅┅┅┅┅┅┅┅┅┅┅┅┅┅┅┅┅┅┅┅┅\")\n",
    "    end\n",
    "    tree\n",
    "end"
   ]
  },
  {
   "cell_type": "code",
   "execution_count": 31,
   "metadata": {
    "collapsed": false
   },
   "outputs": [
    {
     "name": "stderr",
     "output_type": "stream",
     "text": [
      "WARNING: Method definition printnode(IO, Main.CstNode{#T<:Any}) in module Main at In[28]:1 overwritten at In[31]:1.\n",
      "WARNING: Method definition children(Main.CstNode) in module Main at In[28]:2 overwritten at In[31]:2.\n"
     ]
    }
   ],
   "source": [
    "AbstractTrees.printnode{T}(io::IO, f::CstNode{T}) = print(io, T)\n",
    "AbstractTrees.children(node::CstNode) = node.subs"
   ]
  },
  {
   "cell_type": "code",
   "execution_count": 32,
   "metadata": {
    "collapsed": false
   },
   "outputs": [
    {
     "name": "stdout",
     "output_type": "stream",
     "text": [
      "ExternalScope\n",
      "└─ GlobalScope\n",
      "   ├─ 1,1-1,1:             \"a\"   IDENTIFIER (identifier)\t\n",
      "   │  \n",
      "   ├─ 1,2-1,2:             \"=\"   EQ (op)\t\n",
      "   │  \n",
      "   ├─ 1,3-1,3:             \"1\"   INTEGER (integer)\t\n",
      "   │  \n",
      "   ├─ 1,4-2,0:             \"\\n\"   WHITESPACE (whitespace)\t| ender \n",
      "   │  \n",
      "   ├─ 2,1-2,1:             \"a\"   IDENTIFIER (identifier)\t\n",
      "   │  \n",
      "   ├─ 2,2-2,2:             \"+\"   PLUS (op)\t\n",
      "   │  \n",
      "   ├─ 2,3-2,3:             \"3\"   INTEGER (integer)\t\n",
      "   │  \n",
      "   ├─ 2,4-3,0:             \"\\n\"   WHITESPACE (whitespace)\t| ender \n",
      "   │  \n",
      "   ├─ 3,1-3,1:             \"c\"   IDENTIFIER (identifier)\t\n",
      "   │  \n",
      "   ├─ 3,2-3,2:             \"=\"   EQ (op)\t\n",
      "   │  \n",
      "   ├─ 3,3-3,3:             \"a\"   IDENTIFIER (identifier)\t\n",
      "   │  \n",
      "   ├─ 3,4-3,4:             \"+\"   PLUS (op)\t\n",
      "   │  \n",
      "   ├─ 3,5-3,5:             \"4\"   INTEGER (integer)\t\n",
      "   │  \n",
      "   ├─ 3,6-3,6:             \";\"   SEMICOLON (semicolon)\t| ender \n",
      "   │  \n",
      "   ├─ 3,7-3,7:             \" \"   WHITESPACE (whitespace)\t\n",
      "   │  \n",
      "   ├─ 3,8-3,8:             \"b\"   IDENTIFIER (identifier)\t\n",
      "   │  \n",
      "   ├─ 3,9-3,9:             \"=\"   EQ (op)\t\n",
      "   │  \n",
      "   ├─ 3,10-3,10:           \"4\"   INTEGER (integer)\t\n",
      "   │  \n",
      "   ├─ 3,11-5,0:            \"\\n\\n\"   WHITESPACE (whitespace)\t| ender \n",
      "   │  \n",
      "   ├─ 5,1-5,10:            \"#A comment\"   COMMENT (comment)\t\n",
      "   │  \n",
      "   ├─ 5,11-7,0:            \"\\n\\n\"   WHITESPACE (whitespace)\t| ender \n",
      "   │  \n",
      "   ├─ HardLocalScope\n",
      "   │  ├─ 7,1-7,8:             \"function\"   FUNCTION (keyword)\t| opener ↓(9,1-9,3:   KEYWORD\t\"end\")↓ \n",
      "   │  │  \n",
      "   │  ├─ 7,9-7,9:             \" \"   WHITESPACE (whitespace)\t\n",
      "   │  │  \n",
      "   │  ├─ 7,10-7,10:           \"f\"   IDENTIFIER (identifier)\t\n",
      "   │  │  \n",
      "   │  ├─ NonScopingClause\n",
      "   │  │  ├─ 7,11-7,11:           \"(\"   LPAREN (lparen)\t| opener ↓(7,13-7,13:   RPAREN\t\")\")↓ \n",
      "   │  │  │  \n",
      "   │  │  ├─ 7,12-7,12:           \"x\"   IDENTIFIER (identifier)\t\n",
      "   │  │  │  \n",
      "   │  │  └─ 7,13-7,13:           \")\"   RPAREN (rparen)\t| closer ↑(7,11-7,11:   LPAREN\t\"(\")↑ \n",
      "   │  │     \n",
      "   │  ├─ 7,14-8,4:            \"\\n    \"   WHITESPACE (whitespace)\t| ender \n",
      "   │  │  \n",
      "   │  ├─ NonScopingClause\n",
      "   │  │  ├─ 8,5-8,5:             \"(\"   LPAREN (lparen)\t| opener ↓(8,9-8,9:   RPAREN\t\")\")↓ \n",
      "   │  │  │  \n",
      "   │  │  ├─ 8,6-8,6:             \"1\"   INTEGER (integer)\t\n",
      "   │  │  │  \n",
      "   │  │  ├─ 8,7-8,7:             \"+\"   PLUS (op)\t\n",
      "   │  │  │  \n",
      "   │  │  ├─ 8,8-8,8:             \"2\"   INTEGER (integer)\t\n",
      "   │  │  │  \n",
      "   │  │  └─ 8,9-8,9:             \")\"   RPAREN (rparen)\t| closer ↑(8,5-8,5:   LPAREN\t\"(\")↑ \n",
      "   │  │     \n",
      "   │  ├─ 8,10-8,10:           \"/\"   FWD_SLASH (op)\t\n",
      "   │  │  \n",
      "   │  ├─ 8,11-8,11:           \"3\"   INTEGER (integer)\t\n",
      "   │  │  \n",
      "   │  ├─ 8,12-9,0:            \"\\n\"   WHITESPACE (whitespace)\t| ender \n",
      "   │  │  \n",
      "   │  └─ 9,1-9,3:             \"end\"   END (keyword)\t| closer ↑(7,1-7,8:   KEYWORD\t\"function\")↑ \n",
      "   │     \n",
      "   ├─ 9,4-11,0:            \"\\n\\n\"   WHITESPACE (whitespace)\t| ender \n",
      "   │  \n",
      "   ├─ 11,1-14,2:           \"#= a \\nmultiline\\ncomment\\n=#\"   COMMENT (comment)\t\n",
      "   │  \n",
      "   ├─ 14,3-16,0:           \"\\n\\n\"   WHITESPACE (whitespace)\t| ender \n",
      "   │  \n",
      "   ├─ 16,1-16,7:           \"println\"   IDENTIFIER (identifier)\t\n",
      "   │  \n",
      "   ├─ NonScopingClause\n",
      "   │  ├─ 16,8-16,8:           \"(\"   LPAREN (lparen)\t| opener ↓(16,20-16,20:   RPAREN\t\")\")↓ \n",
      "   │  │  \n",
      "   │  ├─ 16,9-16,19:          \"\\\"abc ; efg\\\"\"   STRING (string)\t\n",
      "   │  │  \n",
      "   │  └─ 16,20-16,20:         \")\"   RPAREN (rparen)\t| closer ↑(16,8-16,8:   LPAREN\t\"(\")↑ \n",
      "   │     \n",
      "   ├─ 16,21-18,0:          \"\\n\\n\"   WHITESPACE (whitespace)\t| ender \n",
      "   │  \n",
      "   ├─ 18,1-21,3:           \"\\\"\\\"\\\"\\na multiline\\nstring\\n\\\"\\\"\\\"\"   TRIPLE_STRING (triple_string)\t\n",
      "   │  \n",
      "   ├─ 21,4-23,0:           \"\\n\\n\"   WHITESPACE (whitespace)\t| ender \n",
      "   │  \n",
      "   ├─ 23,1-23,1:           \"a\"   IDENTIFIER (identifier)\t\n",
      "   │  \n",
      "   ├─ 23,2-23,2:           \"+\"   PLUS (op)\t\n",
      "   │  \n",
      "   ├─ 23,3-23,3:           \"=\"   EQ (op)\t\n",
      "   │  \n",
      "   ├─ 23,4-23,4:           \"2\"   INTEGER (integer)\t\n",
      "   │  \n",
      "   ├─ 23,5-25,0:           \"\\n\\n\"   WHITESPACE (whitespace)\t| ender \n",
      "   │  \n",
      "   ├─ 25,1-25,3:           \"map\"   IDENTIFIER (identifier)\t\n",
      "   │  \n",
      "   ├─ NonScopingClause\n",
      "   │  ├─ 25,4-25,4:           \"(\"   LPAREN (lparen)\t| opener ↓(25,8-25,8:   RPAREN\t\")\")↓ \n",
      "   │  │  \n",
      "   │  ├─ 25,5-25,5:           \"1\"   INTEGER (integer)\t\n",
      "   │  │  \n",
      "   │  ├─ 25,6-25,6:           \":\"   COLON (op)\t\n",
      "   │  │  \n",
      "   │  ├─ 25,7-25,7:           \"5\"   INTEGER (integer)\t\n",
      "   │  │  \n",
      "   │  └─ 25,8-25,8:           \")\"   RPAREN (rparen)\t| closer ↑(25,4-25,4:   LPAREN\t\"(\")↑ \n",
      "   │     \n",
      "   ├─ 25,9-25,9:           \" \"   WHITESPACE (whitespace)\t\n",
      "   │  \n",
      "   ├─ HardLocalScope\n",
      "   │  ├─ 25,10-25,11:         \"do\"   DO (keyword)\t| opener ↓(28,1-28,3:   KEYWORD\t\"end\")↓ \n",
      "   │  │  \n",
      "   │  ├─ 25,12-25,12:         \" \"   WHITESPACE (whitespace)\t\n",
      "   │  │  \n",
      "   │  ├─ 25,13-25,13:         \"x\"   IDENTIFIER (identifier)\t\n",
      "   │  │  \n",
      "   │  ├─ 25,14-26,4:          \"\\n    \"   WHITESPACE (whitespace)\t| ender \n",
      "   │  │  \n",
      "   │  ├─ 26,5-26,5:           \"a\"   IDENTIFIER (identifier)\t\n",
      "   │  │  \n",
      "   │  ├─ 26,6-26,6:           \"=\"   EQ (op)\t\n",
      "   │  │  \n",
      "   │  ├─ 26,7-26,7:           \"2\"   INTEGER (integer)\t\n",
      "   │  │  \n",
      "   │  ├─ 26,8-26,8:           \"*\"   STAR (op)\t\n",
      "   │  │  \n",
      "   │  ├─ 26,9-26,9:           \"x\"   IDENTIFIER (identifier)\t\n",
      "   │  │  \n",
      "   │  ├─ 26,10-27,4:          \"\\n    \"   WHITESPACE (whitespace)\t| ender \n",
      "   │  │  \n",
      "   │  ├─ 27,5-27,5:           \"3\"   INTEGER (integer)\t\n",
      "   │  │  \n",
      "   │  ├─ 27,6-27,6:           \"*\"   STAR (op)\t\n",
      "   │  │  \n",
      "   │  ├─ 27,7-27,7:           \"a\"   IDENTIFIER (identifier)\t\n",
      "   │  │  \n",
      "   │  ├─ 27,8-28,0:           \"\\n\"   WHITESPACE (whitespace)\t| ender \n",
      "   │  │  \n",
      "   │  └─ 28,1-28,3:           \"end\"   END (keyword)\t| closer ↑(25,10-25,11:   KEYWORD\t\"do\")↑ \n",
      "   │     \n",
      "   ├─ 28,4-30,0:           \"\\n\\n\"   WHITESPACE (whitespace)\t| ender \n",
      "   │  \n",
      "   ├─ NonScopingBlock\n",
      "   │  ├─ 30,1-30,5:           \"begin\"   BEGIN (keyword)\t| opener ↓(32,1-32,3:   KEYWORD\t\"end\")↓ \n",
      "   │  │  \n",
      "   │  ├─ 30,6-31,4:           \" \\n    \"   WHITESPACE (whitespace)\t| ender \n",
      "   │  │  \n",
      "   │  ├─ 31,5-31,5:           \"c\"   IDENTIFIER (identifier)\t\n",
      "   │  │  \n",
      "   │  ├─ 31,6-31,6:           \"=\"   EQ (op)\t\n",
      "   │  │  \n",
      "   │  ├─ 31,7-31,7:           \"1\"   INTEGER (integer)\t\n",
      "   │  │  \n",
      "   │  ├─ 31,8-32,0:           \"\\n\"   WHITESPACE (whitespace)\t| ender \n",
      "   │  │  \n",
      "   │  └─ 32,1-32,3:           \"end\"   END (keyword)\t| closer ↑(30,1-30,5:   KEYWORD\t\"begin\")↑ \n",
      "   │     \n",
      "   ├─ 32,4-34,0:           \"\\n\\n\"   WHITESPACE (whitespace)\t| ender \n",
      "   │  \n",
      "   ├─ NonScopingBlock\n",
      "   │  ├─ 34,1-34,2:           \"if\"   IF (keyword)\t| opener ↓(36,1-36,3:   KEYWORD\t\"end\")↓ \n",
      "   │  │  \n",
      "   │  ├─ 34,3-34,3:           \" \"   WHITESPACE (whitespace)\t\n",
      "   │  │  \n",
      "   │  ├─ 34,4-34,4:           \"c\"   IDENTIFIER (identifier)\t\n",
      "   │  │  \n",
      "   │  ├─ 34,5-35,4:           \"\\n    \"   WHITESPACE (whitespace)\t| ender \n",
      "   │  │  \n",
      "   │  ├─ 35,5-35,5:           \"d\"   IDENTIFIER (identifier)\t\n",
      "   │  │  \n",
      "   │  ├─ 35,6-35,6:           \"=\"   EQ (op)\t\n",
      "   │  │  \n",
      "   │  ├─ 35,7-35,7:           \"3\"   INTEGER (integer)\t\n",
      "   │  │  \n",
      "   │  ├─ 35,8-36,0:           \"\\n\"   WHITESPACE (whitespace)\t| ender \n",
      "   │  │  \n",
      "   │  └─ 36,1-36,3:           \"end\"   END (keyword)\t| closer ↑(34,1-34,2:   KEYWORD\t\"if\")↑ \n",
      "   │     \n",
      "   ├─ 36,4-38,0:           \"\\n\\n\"   WHITESPACE (whitespace)\t| ender \n",
      "   │  \n",
      "   └─ 38,1-38,0:           \"\"   ENDMARKER (endmarker)\t\n",
      "      \n"
     ]
    }
   ],
   "source": [
    "\n",
    "\n",
    "print_tree(STDOUT, tree_up(atokens))"
   ]
  },
  {
   "cell_type": "code",
   "execution_count": null,
   "metadata": {
    "collapsed": true
   },
   "outputs": [],
   "source": []
  },
  {
   "cell_type": "code",
   "execution_count": 18,
   "metadata": {
    "collapsed": false
   },
   "outputs": [
    {
     "name": "stdout",
     "output_type": "stream",
     "text": [
      "search: \u001b[1ms\u001b[22m\u001b[1me\u001b[22m\u001b[1me\u001b[22m\u001b[1mk\u001b[22m \u001b[1ms\u001b[22m\u001b[1me\u001b[22m\u001b[1me\u001b[22m\u001b[1mk\u001b[22mend \u001b[1ms\u001b[22m\u001b[1me\u001b[22m\u001b[1me\u001b[22m\u001b[1mk\u001b[22mstart Par\u001b[1ms\u001b[22m\u001b[1me\u001b[22m\u001b[1mE\u001b[22mrror \u001b[1ms\u001b[22m\u001b[1me\u001b[22mt\u001b[1me\u001b[22mnv \u001b[1ms\u001b[22m\u001b[1me\u001b[22ml\u001b[1me\u001b[22mct \u001b[1ms\u001b[22m\u001b[1me\u001b[22ml\u001b[1me\u001b[22mct! \u001b[1ms\u001b[22m\u001b[1me\u001b[22ml\u001b[1me\u001b[22mctperm\n",
      "\n"
     ]
    },
    {
     "data": {
      "text/markdown": [
       "```\n",
       "seek(s, pos)\n",
       "```\n",
       "\n",
       "Seek a stream to the given position.\n"
      ],
      "text/plain": [
       "```\n",
       "seek(s, pos)\n",
       "```\n",
       "\n",
       "Seek a stream to the given position.\n"
      ]
     },
     "execution_count": 18,
     "metadata": {},
     "output_type": "execute_result"
    }
   ],
   "source": [
    "?seek"
   ]
  },
  {
   "cell_type": "code",
   "execution_count": 19,
   "metadata": {
    "collapsed": false
   },
   "outputs": [
    {
     "name": "stdout",
     "output_type": "stream",
     "text": [
      "search: \u001b[1mp\u001b[22m\u001b[1ma\u001b[22m\u001b[1mr\u001b[22m\u001b[1ms\u001b[22m\u001b[1me\u001b[22m \u001b[1mp\u001b[22m\u001b[1ma\u001b[22m\u001b[1mr\u001b[22m\u001b[1ms\u001b[22m\u001b[1me\u001b[22mip \u001b[1mP\u001b[22m\u001b[1ma\u001b[22m\u001b[1mr\u001b[22m\u001b[1ms\u001b[22m\u001b[1me\u001b[22mError s\u001b[1mp\u001b[22m\u001b[1ma\u001b[22m\u001b[1mr\u001b[22m\u001b[1ms\u001b[22m\u001b[1me\u001b[22m s\u001b[1mp\u001b[22m\u001b[1ma\u001b[22m\u001b[1mr\u001b[22m\u001b[1ms\u001b[22m\u001b[1me\u001b[22mvec S\u001b[1mp\u001b[22m\u001b[1ma\u001b[22m\u001b[1mr\u001b[22m\u001b[1ms\u001b[22m\u001b[1me\u001b[22mVector S\u001b[1mp\u001b[22m\u001b[1ma\u001b[22m\u001b[1mr\u001b[22m\u001b[1ms\u001b[22m\u001b[1me\u001b[22mArrays\n",
      "\n"
     ]
    },
    {
     "data": {
      "text/markdown": [
       "```\n",
       "parse(str, start; greedy=true, raise=true)\n",
       "```\n",
       "\n",
       "Parse the expression string and return an expression (which could later be passed to eval for execution). `start` is the index of the first character to start parsing. If `greedy` is `true` (default), `parse` will try to consume as much input as it can; otherwise, it will stop as soon as it has parsed a valid expression. Incomplete but otherwise syntactically valid expressions will return `Expr(:incomplete, \"(error message)\")`. If `raise` is `true` (default), syntax errors other than incomplete expressions will raise an error. If `raise` is `false`, `parse` will return an expression that will raise an error upon evaluation.\n",
       "\n",
       "```\n",
       "parse(str; raise=true)\n",
       "```\n",
       "\n",
       "Parse the expression string greedily, returning a single expression. An error is thrown if there are additional characters after the first expression. If `raise` is `true` (default), syntax errors will raise an error; otherwise, `parse` will return an expression that will raise an error upon evaluation.\n",
       "\n",
       "```\n",
       "parse(type, str, [base])\n",
       "```\n",
       "\n",
       "Parse a string as a number. If the type is an integer type, then a base can be specified (the default is 10). If the type is a floating point type, the string is parsed as a decimal floating point number. If the string does not contain a valid number, an error is raised.\n"
      ],
      "text/plain": [
       "```\n",
       "parse(str, start; greedy=true, raise=true)\n",
       "```\n",
       "\n",
       "Parse the expression string and return an expression (which could later be passed to eval for execution). `start` is the index of the first character to start parsing. If `greedy` is `true` (default), `parse` will try to consume as much input as it can; otherwise, it will stop as soon as it has parsed a valid expression. Incomplete but otherwise syntactically valid expressions will return `Expr(:incomplete, \"(error message)\")`. If `raise` is `true` (default), syntax errors other than incomplete expressions will raise an error. If `raise` is `false`, `parse` will return an expression that will raise an error upon evaluation.\n",
       "\n",
       "```\n",
       "parse(str; raise=true)\n",
       "```\n",
       "\n",
       "Parse the expression string greedily, returning a single expression. An error is thrown if there are additional characters after the first expression. If `raise` is `true` (default), syntax errors will raise an error; otherwise, `parse` will return an expression that will raise an error upon evaluation.\n",
       "\n",
       "```\n",
       "parse(type, str, [base])\n",
       "```\n",
       "\n",
       "Parse a string as a number. If the type is an integer type, then a base can be specified (the default is 10). If the type is a floating point type, the string is parsed as a decimal floating point number. If the string does not contain a valid number, an error is raised.\n"
      ]
     },
     "execution_count": 19,
     "metadata": {},
     "output_type": "execute_result"
    }
   ],
   "source": [
    "?parse"
   ]
  },
  {
   "cell_type": "code",
   "execution_count": null,
   "metadata": {
    "collapsed": true
   },
   "outputs": [],
   "source": []
  },
  {
   "cell_type": "code",
   "execution_count": null,
   "metadata": {
    "collapsed": true
   },
   "outputs": [],
   "source": []
  },
  {
   "cell_type": "code",
   "execution_count": null,
   "metadata": {
    "collapsed": true
   },
   "outputs": [],
   "source": []
  },
  {
   "cell_type": "code",
   "execution_count": 20,
   "metadata": {
    "collapsed": false
   },
   "outputs": [
    {
     "ename": "LoadError",
     "evalue": "syntax: incomplete: \"immutable\" at In[20]:3 requires end",
     "output_type": "error",
     "traceback": [
      "syntax: incomplete: \"immutable\" at In[20]:3 requires end",
      ""
     ]
    }
   ],
   "source": [
    "\n",
    "\n",
    "immutable Variable\n",
    "\n",
    "immutable Scope <:\n",
    "    vars_declared::Set{}\n",
    "end"
   ]
  }
 ],
 "metadata": {
  "kernelspec": {
   "display_name": "Julia 0.5.0",
   "language": "julia",
   "name": "julia-0.5"
  },
  "language_info": {
   "file_extension": ".jl",
   "mimetype": "application/julia",
   "name": "julia",
   "version": "0.5.0"
  }
 },
 "nbformat": 4,
 "nbformat_minor": 0
}
