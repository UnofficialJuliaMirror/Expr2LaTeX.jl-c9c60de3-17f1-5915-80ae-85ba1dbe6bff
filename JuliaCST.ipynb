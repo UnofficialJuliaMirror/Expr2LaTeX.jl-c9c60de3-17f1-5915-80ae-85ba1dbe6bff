{
 "cells": [
  {
   "cell_type": "code",
   "execution_count": 1,
   "metadata": {
    "collapsed": false
   },
   "outputs": [],
   "source": [
    "using TypedDelegation   \n",
    "using StaticArrays\n",
    "using Base.Test"
   ]
  },
  {
   "cell_type": "code",
   "execution_count": 2,
   "metadata": {
    "collapsed": false
   },
   "outputs": [],
   "source": [
    "using Tokenize\n",
    "import Tokenize: Tokens\n",
    "import Tokens: Token, startpos, endpos, untokenize, kind, exactkind\n",
    "\n"
   ]
  },
  {
   "cell_type": "code",
   "execution_count": 3,
   "metadata": {
    "collapsed": false
   },
   "outputs": [],
   "source": [
    "src = \"\"\"\n",
    "a=1\n",
    "a+3\n",
    "c=a+4; b=4\n",
    "\n",
    "#A comment\n",
    "\n",
    "function f(x)\n",
    "    (1+2)/3\n",
    "end\n",
    "\n",
    "#= a \n",
    "multiline\n",
    "comment\n",
    "=#\n",
    "\n",
    "println(\"abc ; efg\")\n",
    "\n",
    "\\\"\"\"\n",
    "a multiline\n",
    "string\n",
    "\\\"\"\"\n",
    "\n",
    "a+=2\n",
    "\n",
    "map(1:5) do x\n",
    "    a=2*x\n",
    "    3*a\n",
    "end\n",
    "\n",
    "begin \n",
    "    c=1\n",
    "end\n",
    "\n",
    "if c\n",
    "    d=3\n",
    "end\n",
    "\n",
    "\"\"\"\n",
    "tokens = tokenize(src) |> collect;\n"
   ]
  },
  {
   "cell_type": "code",
   "execution_count": 4,
   "metadata": {
    "collapsed": false
   },
   "outputs": [
    {
     "data": {
      "text/plain": [
       "token (generic function with 1 method)"
      ]
     },
     "execution_count": 4,
     "metadata": {},
     "output_type": "execute_result"
    }
   ],
   "source": [
    "immutable AnnotatedToken\n",
    "    tok::Token\n",
    "    notes::Dict{Symbol, Any}\n",
    "end\n",
    "\n",
    "AnnotatedToken(vv::Token) = AnnotatedToken(vv, Dict{Symbol, Any}())\n",
    "@delegate_oneField(AnnotatedToken, tok, [exactkind, startpos, endpos, untokenize, kind])\n",
    "token(atok::AnnotatedToken) = atok.tok"
   ]
  },
  {
   "cell_type": "code",
   "execution_count": null,
   "metadata": {
    "collapsed": false
   },
   "outputs": [],
   "source": []
  },
  {
   "cell_type": "code",
   "execution_count": 102,
   "metadata": {
    "collapsed": false
   },
   "outputs": [
    {
     "ename": "LoadError",
     "evalue": "syntax: extra token \")\" after end of expression",
     "output_type": "error",
     "traceback": [
      "syntax: extra token \")\" after end of expression",
      ""
     ]
    }
   ],
   "source": [
    "\n",
    "function Base.show(io::IO, atok::AnnotatedToken)\n",
    "  start_r, start_c = startpos(atok)\n",
    "  end_r, end_c = endpos(atok)\n",
    "  str = kind(atok) == Tokens.ENDMARKER ? \"\" : untokenize(atok)\n",
    "    pos_str = string(start_r, \",\", start_c, \"-\", end_r,   \",\", end_c, \": \")\n",
    "    \n",
    "    print(io, rpad(pos_str, 21, \" \"))\n",
    "    show(io, str)\n",
    "    print(io, \"   \", exactkind(atok), \" (\",lowercase(string(kind(atok))),\")\",\"\\t\")\n",
    "    \n",
    "    for (tag,val) in atok.notes\n",
    "        print(io, \" | \", string(tag),\": \"))\n",
    "        if isa(val, AnnotatedToken)\n",
    "            show(io, token(val))\n",
    "        else\n",
    "            show(val)\n",
    "        end\n",
    "    end\n",
    "    println(io)\n",
    "end"
   ]
  },
  {
   "cell_type": "markdown",
   "metadata": {},
   "source": [
    "- **New line** always ends expressions\n",
    " - Unless Immediately within a block opened by `(`\n",
    " - Or where the last nonwhitespace token was binary operator (including a `,`?)"
   ]
  },
  {
   "cell_type": "code",
   "execution_count": 103,
   "metadata": {
    "collapsed": false
   },
   "outputs": [
    {
     "name": "stderr",
     "output_type": "stream",
     "text": [
      "WARNING: Method definition isnewline(Any) in module Main at In[97]:1 overwritten at In[103]:1.\n"
     ]
    },
    {
     "data": {
      "text/plain": [
       "isnewline (generic function with 1 method)"
      ]
     },
     "execution_count": 103,
     "metadata": {},
     "output_type": "execute_result"
    }
   ],
   "source": [
    "isnewline(tok) = kind(tok)==Tokens.WHITESPACE && '\\n' ∈ untokenize(tok)\n"
   ]
  },
  {
   "cell_type": "code",
   "execution_count": 104,
   "metadata": {
    "collapsed": false
   },
   "outputs": [
    {
     "data": {
      "text/plain": [
       "\u001b[1m\u001b[32mTest Passed\n",
       "\u001b[0m  Expression: isnewline(tokens[end - 1])"
      ]
     },
     "execution_count": 104,
     "metadata": {},
     "output_type": "execute_result"
    }
   ],
   "source": [
    "@test isnewline(tokens[end-1])"
   ]
  },
  {
   "cell_type": "code",
   "execution_count": null,
   "metadata": {
    "collapsed": false
   },
   "outputs": [],
   "source": []
  },
  {
   "cell_type": "code",
   "execution_count": 105,
   "metadata": {
    "collapsed": false
   },
   "outputs": [
    {
     "name": "stderr",
     "output_type": "stream",
     "text": [
      "WARNING: redefining constant identifier_phrase_end_kinds\n"
     ]
    },
    {
     "data": {
      "text/plain": [
       "3-element Array{StaticArrays.SVector,1}:\n",
       " Tokenize.Tokens.Kind[IDENTIFIER]\n",
       " Tokenize.Tokens.Kind[RPAREN]    \n",
       " Tokenize.Tokens.Kind[RSQUARE]   "
      ]
     },
     "execution_count": 105,
     "metadata": {},
     "output_type": "execute_result"
    }
   ],
   "source": [
    "const identifier_phrase_end_kinds = SVector[Tokens.IDENTIFIER, Tokens.RPAREN, Tokens.RSQUARE]"
   ]
  },
  {
   "cell_type": "code",
   "execution_count": 106,
   "metadata": {
    "collapsed": false
   },
   "outputs": [
    {
     "name": "stderr",
     "output_type": "stream",
     "text": [
      "WARNING: Method definition annotate(Any) in module Main at In[100]:2 overwritten at In[106]:2.\n"
     ]
    },
    {
     "data": {
      "text/plain": [
       "annotate (generic function with 1 method)"
      ]
     },
     "execution_count": 106,
     "metadata": {},
     "output_type": "execute_result"
    }
   ],
   "source": [
    "function annotate(toks)\n",
    "    subclause_markers = Dict(\n",
    "            Tokens.LBRACE => Tokens.RBRACE,\n",
    "            Tokens.LPAREN => Tokens.RPAREN,\n",
    "            Tokens.LSQUARE => Tokens.RSQUARE,\n",
    "            Tokens.FOR => Tokens.END,\n",
    "            Tokens.WHILE => Tokens.END,\n",
    "            Tokens.IF => Tokens.END,\n",
    "            Tokens.TRY => Tokens.END,\n",
    "            Tokens.BEGIN => Tokens.END,\n",
    "            Tokens.QUOTE => Tokens.END\n",
    "            \n",
    "    )\n",
    "    open_subclauses = AnnotatedToken[]\n",
    "    has_open() = length(open_subclauses) > 0\n",
    "    last_open_exactkind() = exactkind(open_subclauses[end])\n",
    "    is_next_closer(atok) = has_open() && exactkind(atok) == subclause_markers[last_open_exactkind()]\n",
    "    \n",
    "    in_paren() = has_open() && last_open_exactkind() == Tokens.LPAREN\n",
    "    in_square() = has_open() && last_open_exactkind() == Tokens.LSQUARE\n",
    "    \n",
    "\n",
    "    \n",
    "    \n",
    "    \n",
    "    history = SVector(Tokens.ENDMARKER, Tokens.ENDMARKER)\n",
    "    function add_history!(atok)\n",
    "        keep = true\n",
    "        keep &= kind(atok) != Tokens.COMMENT\n",
    "        keep &= kind(atok) != Tokens.WHITESPACE \n",
    "        keep |= isnewline(atok) && history[end] != Tokens.WHITESPACE\n",
    "        \n",
    "        if keep\n",
    "            history = @SVector([shift(history)..., kind(atok)])\n",
    "        end\n",
    "    end\n",
    "    \n",
    "    am_continuing_operation() = history[end]==Tokens.OP && history[end-1] ∈ identifier_phrase_end_kinds\n",
    "\n",
    "    \n",
    "    function handle_ifclose!(atok)\n",
    "        if  is_next_closer(atok)\n",
    "            opener = pop!(open_subclauses)\n",
    "            opener.notes[:closedby] = atok\n",
    "            atok.notes[:openedby] = opener\n",
    "        end\n",
    "    end\n",
    "    \n",
    "    function handle_ifopen!(atok)\n",
    "        if haskey(subclause_markers, exactkind(atok))\n",
    "            push!(open_subclauses, atok)\n",
    "        end\n",
    "    end\n",
    "    \n",
    "    \n",
    "    \n",
    "    \"Handless expression enders, (this excludes closers).\"\n",
    "    function handle_expression_enders!(atok)\n",
    "        is_ender = ((!in_paren() &&  !am_continuing_operation() && isnewline(atok)) \n",
    "                        || exactkind(atok) == Tokens.COMMA    \n",
    "                        || exactkind(atok) == Tokens.SEMICOLON)    \n",
    "        if is_ender\n",
    "            atok.notes[:ender] = true\n",
    "        end\n",
    "    end\n",
    "    \n",
    "    \n",
    "    outstream = AnnotatedToken[]\n",
    "    for tok in toks\n",
    "        atok = AnnotatedToken(tok)\n",
    "        push!(outstream, atok)\n",
    "                \n",
    "        handle_ifopen!(atok)\n",
    "        handle_ifclose!(atok)\n",
    "        handle_expression_enders!(atok)\n",
    "        \n",
    "        add_history!(atok)         \n",
    "    end\n",
    "    outstream\n",
    "end"
   ]
  },
  {
   "cell_type": "code",
   "execution_count": 107,
   "metadata": {
    "collapsed": false
   },
   "outputs": [
    {
     "name": "stdout",
     "output_type": "stream",
     "text": [
      "1,1-1,1:             \"a\"   IDENTIFIER (identifier)\t\n",
      "1,2-1,2:             \"=\"   EQ (op)\t\n",
      "1,3-1,3:             \"1\"   INTEGER (integer)\t\n",
      "1,4-2,0:             \"\\n\"   WHITESPACE (whitespace)\t | ender:true\n",
      "2,1-2,1:             \"a\"   IDENTIFIER (identifier)\t\n",
      "2,2-2,2:             \"+\"   PLUS (op)\t\n",
      "2,3-2,3:             \"3\"   INTEGER (integer)\t\n",
      "2,4-3,0:             \"\\n\"   WHITESPACE (whitespace)\t | ender:true\n",
      "3,1-3,1:             \"c\"   IDENTIFIER (identifier)\t\n",
      "3,2-3,2:             \"=\"   EQ (op)\t\n",
      "3,3-3,3:             \"a\"   IDENTIFIER (identifier)\t\n",
      "3,4-3,4:             \"+\"   PLUS (op)\t\n",
      "3,5-3,5:             \"4\"   INTEGER (integer)\t\n",
      "3,6-3,6:             \";\"   SEMICOLON (semicolon)\t | ender:true\n",
      "3,7-3,7:             \" \"   WHITESPACE (whitespace)\t\n",
      "3,8-3,8:             \"b\"   IDENTIFIER (identifier)\t\n",
      "3,9-3,9:             \"=\"   EQ (op)\t\n",
      "3,10-3,10:           \"4\"   INTEGER (integer)\t\n",
      "3,11-5,0:            \"\\n\\n\"   WHITESPACE (whitespace)\t | ender:true\n",
      "5,1-5,10:            \"#A comment\"   COMMENT (comment)\t\n",
      "5,11-7,0:            \"\\n\\n\"   WHITESPACE (whitespace)\t | ender:true\n",
      "7,1-7,8:             \"function\"   FUNCTION (keyword)\t\n",
      "7,9-7,9:             \" \"   WHITESPACE (whitespace)\t\n",
      "7,10-7,10:           \"f\"   IDENTIFIER (identifier)\t\n",
      "7,11-7,11:           \"(\"   LPAREN (lparen)\t | closedby:7,13-7,13:   RPAREN\t\")\"\n",
      "7,12-7,12:           \"x\"   IDENTIFIER (identifier)\t\n",
      "7,13-7,13:           \")\"   RPAREN (rparen)\t | openedby:7,11-7,11:   LPAREN\t\"(\"\n",
      "7,14-8,4:            \"\\n    \"   WHITESPACE (whitespace)\t | ender:true\n",
      "8,5-8,5:             \"(\"   LPAREN (lparen)\t | closedby:8,9-8,9:   RPAREN\t\")\"\n",
      "8,6-8,6:             \"1\"   INTEGER (integer)\t\n",
      "8,7-8,7:             \"+\"   PLUS (op)\t\n",
      "8,8-8,8:             \"2\"   INTEGER (integer)\t\n",
      "8,9-8,9:             \")\"   RPAREN (rparen)\t | openedby:8,5-8,5:   LPAREN\t\"(\"\n",
      "8,10-8,10:           \"/\"   FWD_SLASH (op)\t\n",
      "8,11-8,11:           \"3\"   INTEGER (integer)\t\n",
      "8,12-9,0:            \"\\n\"   WHITESPACE (whitespace)\t | ender:true\n",
      "9,1-9,3:             \"end\"   END (keyword)\t\n",
      "9,4-11,0:            \"\\n\\n\"   WHITESPACE (whitespace)\t | ender:true\n",
      "11,1-14,2:           \"#= a \\nmultiline\\ncomment\\n=#\"   COMMENT (comment)\t\n",
      "14,3-16,0:           \"\\n\\n\"   WHITESPACE (whitespace)\t | ender:true\n",
      "16,1-16,7:           \"println\"   IDENTIFIER (identifier)\t\n",
      "16,8-16,8:           \"(\"   LPAREN (lparen)\t | closedby:16,20-16,20:   RPAREN\t\")\"\n",
      "16,9-16,19:          \"\\\"abc ; efg\\\"\"   STRING (string)\t\n",
      "16,20-16,20:         \")\"   RPAREN (rparen)\t | openedby:16,8-16,8:   LPAREN\t\"(\"\n",
      "16,21-18,0:          \"\\n\\n\"   WHITESPACE (whitespace)\t | ender:true\n",
      "18,1-21,3:           \"\\\"\\\"\\\"\\na multiline\\nstring\\n\\\"\\\"\\\"\"   TRIPLE_STRING (triple_string)\t\n",
      "21,4-23,0:           \"\\n\\n\"   WHITESPACE (whitespace)\t | ender:true\n",
      "23,1-23,1:           \"a\"   IDENTIFIER (identifier)\t\n",
      "23,2-23,2:           \"+\"   PLUS (op)\t\n",
      "23,3-23,3:           \"=\"   EQ (op)\t\n",
      "23,4-23,4:           \"2\"   INTEGER (integer)\t\n",
      "23,5-25,0:           \"\\n\\n\"   WHITESPACE (whitespace)\t | ender:true\n",
      "25,1-25,3:           \"map\"   IDENTIFIER (identifier)\t\n",
      "25,4-25,4:           \"(\"   LPAREN (lparen)\t | closedby:25,8-25,8:   RPAREN\t\")\"\n",
      "25,5-25,5:           \"1\"   INTEGER (integer)\t\n",
      "25,6-25,6:           \":\"   COLON (op)\t\n",
      "25,7-25,7:           \"5\"   INTEGER (integer)\t\n",
      "25,8-25,8:           \")\"   RPAREN (rparen)\t | openedby:25,4-25,4:   LPAREN\t\"(\"\n",
      "25,9-25,9:           \" \"   WHITESPACE (whitespace)\t\n",
      "25,10-25,11:         \"do\"   DO (keyword)\t\n",
      "25,12-25,12:         \" \"   WHITESPACE (whitespace)\t\n",
      "25,13-25,13:         \"x\"   IDENTIFIER (identifier)\t\n",
      "25,14-26,4:          \"\\n    \"   WHITESPACE (whitespace)\t | ender:true\n",
      "26,5-26,5:           \"a\"   IDENTIFIER (identifier)\t\n",
      "26,6-26,6:           \"=\"   EQ (op)\t\n",
      "26,7-26,7:           \"2\"   INTEGER (integer)\t\n",
      "26,8-26,8:           \"*\"   STAR (op)\t\n",
      "26,9-26,9:           \"x\"   IDENTIFIER (identifier)\t\n",
      "26,10-27,4:          \"\\n    \"   WHITESPACE (whitespace)\t | ender:true\n",
      "27,5-27,5:           \"3\"   INTEGER (integer)\t\n",
      "27,6-27,6:           \"*\"   STAR (op)\t\n",
      "27,7-27,7:           \"a\"   IDENTIFIER (identifier)\t\n",
      "27,8-28,0:           \"\\n\"   WHITESPACE (whitespace)\t | ender:true\n",
      "28,1-28,3:           \"end\"   END (keyword)\t\n",
      "28,4-30,0:           \"\\n\\n\"   WHITESPACE (whitespace)\t | ender:true\n",
      "30,1-30,5:           \"begin\"   BEGIN (keyword)\t | closedby:32,1-32,3:   KEYWORD\t\"end\"\n",
      "30,6-31,4:           \" \\n    \"   WHITESPACE (whitespace)\t | ender:true\n",
      "31,5-31,5:           \"c\"   IDENTIFIER (identifier)\t\n",
      "31,6-31,6:           \"=\"   EQ (op)\t\n",
      "31,7-31,7:           \"1\"   INTEGER (integer)\t\n",
      "31,8-32,0:           \"\\n\"   WHITESPACE (whitespace)\t | ender:true\n",
      "32,1-32,3:           \"end\"   END (keyword)\t | openedby:30,1-30,5:   KEYWORD\t\"begin\"\n",
      "32,4-34,0:           \"\\n\\n\"   WHITESPACE (whitespace)\t | ender:true\n",
      "34,1-34,2:           \"if\"   IF (keyword)\t | closedby:36,1-36,3:   KEYWORD\t\"end\"\n",
      "34,3-34,3:           \" \"   WHITESPACE (whitespace)\t\n",
      "34,4-34,4:           \"c\"   IDENTIFIER (identifier)\t\n",
      "34,5-35,4:           \"\\n    \"   WHITESPACE (whitespace)\t | ender:true\n",
      "35,5-35,5:           \"d\"   IDENTIFIER (identifier)\t\n",
      "35,6-35,6:           \"=\"   EQ (op)\t\n",
      "35,7-35,7:           \"3\"   INTEGER (integer)\t\n",
      "35,8-36,0:           \"\\n\"   WHITESPACE (whitespace)\t | ender:true\n",
      "36,1-36,3:           \"end\"   END (keyword)\t | openedby:34,1-34,2:   KEYWORD\t\"if\"\n",
      "36,4-38,0:           \"\\n\\n\"   WHITESPACE (whitespace)\t | ender:true\n",
      "38,1-38,0:           \"\"   ENDMARKER (endmarker)\t\n"
     ]
    }
   ],
   "source": [
    "show.(annotate(tokens));"
   ]
  },
  {
   "cell_type": "code",
   "execution_count": 109,
   "metadata": {
    "collapsed": false,
    "scrolled": true
   },
   "outputs": [
    {
     "name": "stdout",
     "output_type": "stream",
     "text": [
      "1,1-1,1:             \"(\"   LPAREN (lparen)\t | closedby:2,2-2,2:   RPAREN\t\")\"\n",
      "1,2-1,2:             \"a\"   IDENTIFIER (identifier)\t\n",
      "1,3-1,3:             \" \"   WHITESPACE (whitespace)\t\n",
      "1,4-1,4:             \"+\"   PLUS (op)\t\n",
      "1,5-2,0:             \"\\n\"   WHITESPACE (whitespace)\t\n",
      "2,1-2,1:             \"b\"   IDENTIFIER (identifier)\t\n",
      "2,2-2,2:             \")\"   RPAREN (rparen)\t | openedby:1,1-1,1:   LPAREN\t\"(\"\n",
      "2,3-3,0:             \"\\n\"   WHITESPACE (whitespace)\t | ender:true\n",
      "3,1-3,1:             \"{\"   LBRACE (lbrace)\t | closedby:4,2-4,2:   RBRACE\t\"}\"\n",
      "3,2-3,2:             \"a\"   IDENTIFIER (identifier)\t\n",
      "3,3-3,3:             \" \"   WHITESPACE (whitespace)\t\n",
      "3,4-3,4:             \"+\"   PLUS (op)\t\n",
      "3,5-4,0:             \"\\n\"   WHITESPACE (whitespace)\t | ender:true\n",
      "4,1-4,1:             \"b\"   IDENTIFIER (identifier)\t\n",
      "4,2-4,2:             \"}\"   RBRACE (rbrace)\t | openedby:3,1-3,1:   LBRACE\t\"{\"\n",
      "4,3-5,0:             \"\\n\"   WHITESPACE (whitespace)\t | ender:true\n",
      "5,1-5,1:             \"[\"   LSQUARE (lsquare)\t | closedby:6,2-6,2:   RSQUARE\t\"]\"\n",
      "5,2-5,2:             \"a\"   IDENTIFIER (identifier)\t\n",
      "5,3-5,3:             \" \"   WHITESPACE (whitespace)\t\n",
      "5,4-5,4:             \"+\"   PLUS (op)\t\n",
      "5,5-6,0:             \"\\n\"   WHITESPACE (whitespace)\t | ender:true\n",
      "6,1-6,1:             \"b\"   IDENTIFIER (identifier)\t\n",
      "6,2-6,2:             \"]\"   RSQUARE (rsquare)\t | openedby:5,1-5,1:   LSQUARE\t\"[\"\n",
      "6,3-9,0:             \"\\n\\n\\n\"   WHITESPACE (whitespace)\t | ender:true\n",
      "9,1-9,0:             \"\"   ENDMARKER (endmarker)\t\n"
     ]
    }
   ],
   "source": [
    "show.((tokenize(\"\"\"\n",
    "(a +\n",
    "b)\n",
    "{a +\n",
    "b}\n",
    "[a +\n",
    "b]\n",
    "\n",
    "\n",
    "\"\"\") |> collect ) |> annotate);"
   ]
  },
  {
   "cell_type": "code",
   "execution_count": null,
   "metadata": {
    "collapsed": true
   },
   "outputs": [],
   "source": []
  }
 ],
 "metadata": {
  "kernelspec": {
   "display_name": "Julia 0.5.0",
   "language": "julia",
   "name": "julia-0.5"
  },
  "language_info": {
   "file_extension": ".jl",
   "mimetype": "application/julia",
   "name": "julia",
   "version": "0.5.0"
  }
 },
 "nbformat": 4,
 "nbformat_minor": 0
}
